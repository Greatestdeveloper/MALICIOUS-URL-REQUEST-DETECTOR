{
 "cells": [
  {
   "cell_type": "markdown",
   "metadata": {},
   "source": [
    "# Data Analysis\n",
    "This is the main notebook performing all feature engineering, model selection, training, evaluation etc.  \n",
    "The different steps are:\n",
    " - Step1 - import dependencies\n",
    " - Step2 - load payloads into memory\n",
    " - Step3A - Feature engineering custom features\n",
    " - Step3B - Feature engineering bag-of-words\n",
    " - Step3C - Feature space visualization\n",
    " - Step4 - Model selection\n",
    " - (Step4B - Load pre-trained classifiers)\n",
    " - Step5 - Visualization\n",
    " - Step6 - Website integration extract"
   ]
  },
  {
   "cell_type": "markdown",
   "metadata": {},
   "source": [
    "# Step1\n",
    "import dependencies"
   ]
  },
  {
   "cell_type": "code",
   "execution_count": 1,
   "metadata": {},
   "outputs": [],
   "source": [
    "%matplotlib inline\n",
    "\n",
    "import pandas as pd\n",
    "import numpy as np\n",
    "import pickle\n",
    "import matplotlib.pyplot as plt\n",
    "import string\n",
    "from IPython.display import display\n",
    "from sklearn.feature_extraction.text import CountVectorizer\n",
    "from sklearn.feature_extraction.text import TfidfVectorizer\n",
    "from sklearn.model_selection import train_test_split\n",
    "from sklearn.model_selection import RandomizedSearchCV\n",
    "from sklearn.model_selection import learning_curve\n",
    "from sklearn.decomposition import TruncatedSVD\n",
    "from sklearn.feature_selection import SelectKBest\n",
    "from sklearn.feature_selection import chi2\n",
    "\n",
    "from sklearn.ensemble import RandomForestClassifier\n",
    "from sklearn.linear_model import LogisticRegression\n",
    "from sklearn.discriminant_analysis import QuadraticDiscriminantAnalysis\n",
    "from sklearn.svm import SVC\n",
    "from sklearn.gaussian_process import GaussianProcessClassifier\n",
    "from sklearn.neural_network import MLPClassifier\n",
    "from sklearn.naive_bayes import MultinomialNB\n",
    "from sklearn.ensemble import AdaBoostClassifier\n",
    "from sklearn.linear_model import SGDClassifier\n",
    "from sklearn.neighbors import NearestNeighbors\n",
    "# from sklearn.neighbors.nearest_centroid import NearestCentroid\n",
    "from sklearn.discriminant_analysis import QuadraticDiscriminantAnalysis\n",
    "from sklearn.tree import DecisionTreeClassifier\n",
    "\n",
    "\n",
    "import sklearn.gaussian_process.kernels as kernels\n",
    "\n",
    "from sklearn.model_selection import ShuffleSplit\n",
    "from sklearn.model_selection import KFold\n",
    "from sklearn.pipeline import Pipeline\n",
    "from sklearn.metrics import confusion_matrix\n",
    "from sklearn.metrics import roc_curve\n",
    "from sklearn.metrics import roc_auc_score\n",
    "\n",
    "from scipy.stats import expon"
   ]
  },
  {
   "cell_type": "markdown",
   "metadata": {},
   "source": [
    "# Step2\n",
    "load the payloads into memory"
   ]
  },
  {
   "cell_type": "code",
   "execution_count": 2,
   "metadata": {},
   "outputs": [
    {
     "name": "stdout",
     "output_type": "stream",
     "text": [
      "D:\\1MYFILES\\ML_NGFW\\FIREWALLS\\-Machine-Learning-Web-Application-Firewall-and-Dataset-master\n"
     ]
    }
   ],
   "source": [
    "cd D:\\1MYFILES\\ML_NGFW\\FIREWALLS\\-Machine-Learning-Web-Application-Firewall-and-Dataset-master"
   ]
  },
  {
   "cell_type": "code",
   "execution_count": 3,
   "metadata": {},
   "outputs": [
    {
     "data": {
      "text/html": [
       "<div>\n",
       "<style scoped>\n",
       "    .dataframe tbody tr th:only-of-type {\n",
       "        vertical-align: middle;\n",
       "    }\n",
       "\n",
       "    .dataframe tbody tr th {\n",
       "        vertical-align: top;\n",
       "    }\n",
       "\n",
       "    .dataframe thead th {\n",
       "        text-align: right;\n",
       "    }\n",
       "</style>\n",
       "<table border=\"1\" class=\"dataframe\">\n",
       "  <thead>\n",
       "    <tr style=\"text-align: right;\">\n",
       "      <th></th>\n",
       "      <th>payload</th>\n",
       "      <th>is_malicious</th>\n",
       "      <th>injection_type</th>\n",
       "    </tr>\n",
       "    <tr>\n",
       "      <th>index</th>\n",
       "      <th></th>\n",
       "      <th></th>\n",
       "      <th></th>\n",
       "    </tr>\n",
       "  </thead>\n",
       "  <tbody>\n",
       "    <tr>\n",
       "      <th>0</th>\n",
       "      <td>37662577P</td>\n",
       "      <td>0.0</td>\n",
       "      <td>LEGAL</td>\n",
       "    </tr>\n",
       "    <tr>\n",
       "      <th>1</th>\n",
       "      <td>shirting</td>\n",
       "      <td>0.0</td>\n",
       "      <td>LEGAL</td>\n",
       "    </tr>\n",
       "    <tr>\n",
       "      <th>2</th>\n",
       "      <td>&amp;kw=%27;alert%28%27XSS%27%29;//</td>\n",
       "      <td>1.0</td>\n",
       "      <td>XSS</td>\n",
       "    </tr>\n",
       "    <tr>\n",
       "      <th>3</th>\n",
       "      <td>obeying</td>\n",
       "      <td>0.0</td>\n",
       "      <td>LEGAL</td>\n",
       "    </tr>\n",
       "    <tr>\n",
       "      <th>4</th>\n",
       "      <td>dictating</td>\n",
       "      <td>0.0</td>\n",
       "      <td>LEGAL</td>\n",
       "    </tr>\n",
       "    <tr>\n",
       "      <th>...</th>\n",
       "      <td>...</td>\n",
       "      <td>...</td>\n",
       "      <td>...</td>\n",
       "    </tr>\n",
       "    <tr>\n",
       "      <th>95</th>\n",
       "      <td>diagonal</td>\n",
       "      <td>0.0</td>\n",
       "      <td>LEGAL</td>\n",
       "    </tr>\n",
       "    <tr>\n",
       "      <th>96</th>\n",
       "      <td>47513</td>\n",
       "      <td>0.0</td>\n",
       "      <td>LEGAL</td>\n",
       "    </tr>\n",
       "    <tr>\n",
       "      <th>97</th>\n",
       "      <td>synapses</td>\n",
       "      <td>0.0</td>\n",
       "      <td>LEGAL</td>\n",
       "    </tr>\n",
       "    <tr>\n",
       "      <th>98</th>\n",
       "      <td>Ketti</td>\n",
       "      <td>0.0</td>\n",
       "      <td>LEGAL</td>\n",
       "    </tr>\n",
       "    <tr>\n",
       "      <th>99</th>\n",
       "      <td>&lt;a/href=java&amp;Tab;script:confirm%28/XSS/%29&gt;cli...</td>\n",
       "      <td>1.0</td>\n",
       "      <td>XSS</td>\n",
       "    </tr>\n",
       "  </tbody>\n",
       "</table>\n",
       "<p>100 rows × 3 columns</p>\n",
       "</div>"
      ],
      "text/plain": [
       "                                                 payload  is_malicious  \\\n",
       "index                                                                    \n",
       "0                                              37662577P           0.0   \n",
       "1                                               shirting           0.0   \n",
       "2                        &kw=%27;alert%28%27XSS%27%29;//           1.0   \n",
       "3                                                obeying           0.0   \n",
       "4                                              dictating           0.0   \n",
       "...                                                  ...           ...   \n",
       "95                                              diagonal           0.0   \n",
       "96                                                 47513           0.0   \n",
       "97                                              synapses           0.0   \n",
       "98                                                 Ketti           0.0   \n",
       "99     <a/href=java&Tab;script:confirm%28/XSS/%29>cli...           1.0   \n",
       "\n",
       "      injection_type  \n",
       "index                 \n",
       "0              LEGAL  \n",
       "1              LEGAL  \n",
       "2                XSS  \n",
       "3              LEGAL  \n",
       "4              LEGAL  \n",
       "...              ...  \n",
       "95             LEGAL  \n",
       "96             LEGAL  \n",
       "97             LEGAL  \n",
       "98             LEGAL  \n",
       "99               XSS  \n",
       "\n",
       "[100 rows x 3 columns]"
      ]
     },
     "metadata": {},
     "output_type": "display_data"
    }
   ],
   "source": [
    "payloads = pd.read_csv(\"data/payloads.csv\",index_col='index')\n",
    "display(payloads.head(100))"
   ]
  },
  {
   "cell_type": "code",
   "execution_count": 4,
   "metadata": {},
   "outputs": [],
   "source": [
    "count = payloads['injection_type'].value_counts() \n",
    "%matplotlib notebook \n",
    "import matplotlib.pyplot as plt\n",
    "# count.plot.pie(figsize=(10,10))"
   ]
  },
  {
   "cell_type": "markdown",
   "metadata": {},
   "source": [
    "# Step3A - feature engineering custom features  \n",
    "We will create our own feature space with features that might be important for this task, this includes:\n",
    " - length of payload\n",
    " - number of non-printable characters in payload\n",
    " - number of punctuation characters in payload\n",
    " - the minimum byte value of payload\n",
    " - the maximum byte value of payload\n",
    " - the mean byte value of payload\n",
    " - the standard deviation of payload byte values\n",
    " - number of distinct bytes in payload\n",
    " - number of SQL keywords in payload\n",
    " - number of javascript keywords in payload"
   ]
  },
  {
   "cell_type": "code",
   "execution_count": 5,
   "metadata": {},
   "outputs": [],
   "source": [
    "def plot_feature_distribution(features):\n",
    "    print('Properties of feature: ' + features.name)\n",
    "    print(features.describe())\n",
    "    f, ax = plt.subplots(1, figsize=(10, 6))\n",
    "    ax.hist(features, bins=features.max()-features.min()+1) # , normed=1\n",
    "    ax.set_xlabel('value')\n",
    "    ax.set_ylabel('fraction')\n",
    "    \n",
    "    plt.show()"
   ]
  },
  {
   "cell_type": "code",
   "execution_count": 6,
   "metadata": {
    "scrolled": false
   },
   "outputs": [
    {
     "data": {
      "text/html": [
       "<div>\n",
       "<style scoped>\n",
       "    .dataframe tbody tr th:only-of-type {\n",
       "        vertical-align: middle;\n",
       "    }\n",
       "\n",
       "    .dataframe tbody tr th {\n",
       "        vertical-align: top;\n",
       "    }\n",
       "\n",
       "    .dataframe thead th {\n",
       "        text-align: right;\n",
       "    }\n",
       "</style>\n",
       "<table border=\"1\" class=\"dataframe\">\n",
       "  <thead>\n",
       "    <tr style=\"text-align: right;\">\n",
       "      <th></th>\n",
       "      <th>payload</th>\n",
       "      <th>is_malicious</th>\n",
       "      <th>injection_type</th>\n",
       "      <th>length</th>\n",
       "    </tr>\n",
       "    <tr>\n",
       "      <th>index</th>\n",
       "      <th></th>\n",
       "      <th></th>\n",
       "      <th></th>\n",
       "      <th></th>\n",
       "    </tr>\n",
       "  </thead>\n",
       "  <tbody>\n",
       "    <tr>\n",
       "      <th>0</th>\n",
       "      <td>37662577P</td>\n",
       "      <td>0.0</td>\n",
       "      <td>LEGAL</td>\n",
       "      <td>9</td>\n",
       "    </tr>\n",
       "    <tr>\n",
       "      <th>1</th>\n",
       "      <td>shirting</td>\n",
       "      <td>0.0</td>\n",
       "      <td>LEGAL</td>\n",
       "      <td>8</td>\n",
       "    </tr>\n",
       "    <tr>\n",
       "      <th>2</th>\n",
       "      <td>&amp;kw=%27;alert%28%27XSS%27%29;//</td>\n",
       "      <td>1.0</td>\n",
       "      <td>XSS</td>\n",
       "      <td>31</td>\n",
       "    </tr>\n",
       "    <tr>\n",
       "      <th>3</th>\n",
       "      <td>obeying</td>\n",
       "      <td>0.0</td>\n",
       "      <td>LEGAL</td>\n",
       "      <td>7</td>\n",
       "    </tr>\n",
       "    <tr>\n",
       "      <th>4</th>\n",
       "      <td>dictating</td>\n",
       "      <td>0.0</td>\n",
       "      <td>LEGAL</td>\n",
       "      <td>9</td>\n",
       "    </tr>\n",
       "  </tbody>\n",
       "</table>\n",
       "</div>"
      ],
      "text/plain": [
       "                               payload  is_malicious injection_type  length\n",
       "index                                                                      \n",
       "0                            37662577P           0.0          LEGAL       9\n",
       "1                             shirting           0.0          LEGAL       8\n",
       "2      &kw=%27;alert%28%27XSS%27%29;//           1.0            XSS      31\n",
       "3                              obeying           0.0          LEGAL       7\n",
       "4                            dictating           0.0          LEGAL       9"
      ]
     },
     "metadata": {},
     "output_type": "display_data"
    },
    {
     "name": "stdout",
     "output_type": "stream",
     "text": [
      "        is_malicious         length\n",
      "count  101840.000000  101840.000000\n",
      "mean        0.089601      19.370984\n",
      "std         0.285611     878.975667\n",
      "min         0.000000       1.000000\n",
      "25%         0.000000       6.000000\n",
      "50%         0.000000       9.000000\n",
      "75%         0.000000      14.000000\n",
      "max         1.000000  280330.000000\n"
     ]
    }
   ],
   "source": [
    "def create_feature_length(payloads):\n",
    "    '''\n",
    "        Feature describing the lengh of the input\n",
    "    '''\n",
    "    \n",
    "    \n",
    "    payloads['length'] = [len(str(row)) for row in payloads['payload']]\n",
    "    return payloads\n",
    "\n",
    "\n",
    "payloads = create_feature_length(payloads)\n",
    "display(payloads.head())\n",
    "\n",
    "print(payloads.describe())\n",
    "# plot_feature_distribution(payloads['length'])\n"
   ]
  },
  {
   "cell_type": "code",
   "execution_count": 7,
   "metadata": {
    "scrolled": false
   },
   "outputs": [
    {
     "data": {
      "text/html": [
       "<div>\n",
       "<style scoped>\n",
       "    .dataframe tbody tr th:only-of-type {\n",
       "        vertical-align: middle;\n",
       "    }\n",
       "\n",
       "    .dataframe tbody tr th {\n",
       "        vertical-align: top;\n",
       "    }\n",
       "\n",
       "    .dataframe thead th {\n",
       "        text-align: right;\n",
       "    }\n",
       "</style>\n",
       "<table border=\"1\" class=\"dataframe\">\n",
       "  <thead>\n",
       "    <tr style=\"text-align: right;\">\n",
       "      <th></th>\n",
       "      <th>payload</th>\n",
       "      <th>is_malicious</th>\n",
       "      <th>injection_type</th>\n",
       "      <th>length</th>\n",
       "      <th>non-printable</th>\n",
       "    </tr>\n",
       "    <tr>\n",
       "      <th>index</th>\n",
       "      <th></th>\n",
       "      <th></th>\n",
       "      <th></th>\n",
       "      <th></th>\n",
       "      <th></th>\n",
       "    </tr>\n",
       "  </thead>\n",
       "  <tbody>\n",
       "    <tr>\n",
       "      <th>0</th>\n",
       "      <td>37662577P</td>\n",
       "      <td>0.0</td>\n",
       "      <td>LEGAL</td>\n",
       "      <td>9</td>\n",
       "      <td>9</td>\n",
       "    </tr>\n",
       "    <tr>\n",
       "      <th>1</th>\n",
       "      <td>shirting</td>\n",
       "      <td>0.0</td>\n",
       "      <td>LEGAL</td>\n",
       "      <td>8</td>\n",
       "      <td>3</td>\n",
       "    </tr>\n",
       "    <tr>\n",
       "      <th>2</th>\n",
       "      <td>&amp;kw=%27;alert%28%27XSS%27%29;//</td>\n",
       "      <td>1.0</td>\n",
       "      <td>XSS</td>\n",
       "      <td>31</td>\n",
       "      <td>26</td>\n",
       "    </tr>\n",
       "    <tr>\n",
       "      <th>3</th>\n",
       "      <td>obeying</td>\n",
       "      <td>0.0</td>\n",
       "      <td>LEGAL</td>\n",
       "      <td>7</td>\n",
       "      <td>3</td>\n",
       "    </tr>\n",
       "    <tr>\n",
       "      <th>4</th>\n",
       "      <td>dictating</td>\n",
       "      <td>0.0</td>\n",
       "      <td>LEGAL</td>\n",
       "      <td>9</td>\n",
       "      <td>3</td>\n",
       "    </tr>\n",
       "  </tbody>\n",
       "</table>\n",
       "</div>"
      ],
      "text/plain": [
       "                               payload  is_malicious injection_type  length  \\\n",
       "index                                                                         \n",
       "0                            37662577P           0.0          LEGAL       9   \n",
       "1                             shirting           0.0          LEGAL       8   \n",
       "2      &kw=%27;alert%28%27XSS%27%29;//           1.0            XSS      31   \n",
       "3                              obeying           0.0          LEGAL       7   \n",
       "4                            dictating           0.0          LEGAL       9   \n",
       "\n",
       "       non-printable  \n",
       "index                 \n",
       "0                  9  \n",
       "1                  3  \n",
       "2                 26  \n",
       "3                  3  \n",
       "4                  3  "
      ]
     },
     "metadata": {},
     "output_type": "display_data"
    },
    {
     "name": "stdout",
     "output_type": "stream",
     "text": [
      "        is_malicious         length  non-printable\n",
      "count  101840.000000  101840.000000  101840.000000\n",
      "mean        0.089601      19.370984      13.453780\n",
      "std         0.285611     878.975667     878.276776\n",
      "min         0.000000       1.000000       0.000000\n",
      "25%         0.000000       6.000000       3.000000\n",
      "50%         0.000000       9.000000       4.000000\n",
      "75%         0.000000      14.000000       9.000000\n",
      "max         1.000000  280330.000000  280173.000000\n"
     ]
    }
   ],
   "source": [
    "def create_feature_non_printable_characters(payloads):  \n",
    "    '''\n",
    "    Feature\n",
    "    Number of non printable characthers within payload\n",
    "    '''\n",
    "    \n",
    "    payloads['non-printable'] = [ len([1 for letter in str(row) if letter not in str('printable')]) for row in payloads['payload']]\n",
    "    return payloads\n",
    "    \n",
    "\n",
    "create_feature_non_printable_characters(payloads)\n",
    "display(payloads.head())\n",
    "\n",
    "print(payloads.describe())\n",
    "\n",
    "# plot_feature_distribution(payloads['non-printable'])\n"
   ]
  },
  {
   "cell_type": "code",
   "execution_count": 8,
   "metadata": {},
   "outputs": [
    {
     "data": {
      "text/html": [
       "<div>\n",
       "<style scoped>\n",
       "    .dataframe tbody tr th:only-of-type {\n",
       "        vertical-align: middle;\n",
       "    }\n",
       "\n",
       "    .dataframe tbody tr th {\n",
       "        vertical-align: top;\n",
       "    }\n",
       "\n",
       "    .dataframe thead th {\n",
       "        text-align: right;\n",
       "    }\n",
       "</style>\n",
       "<table border=\"1\" class=\"dataframe\">\n",
       "  <thead>\n",
       "    <tr style=\"text-align: right;\">\n",
       "      <th></th>\n",
       "      <th>payload</th>\n",
       "      <th>is_malicious</th>\n",
       "      <th>injection_type</th>\n",
       "      <th>length</th>\n",
       "      <th>non-printable</th>\n",
       "      <th>punctuation</th>\n",
       "    </tr>\n",
       "    <tr>\n",
       "      <th>index</th>\n",
       "      <th></th>\n",
       "      <th></th>\n",
       "      <th></th>\n",
       "      <th></th>\n",
       "      <th></th>\n",
       "      <th></th>\n",
       "    </tr>\n",
       "  </thead>\n",
       "  <tbody>\n",
       "    <tr>\n",
       "      <th>0</th>\n",
       "      <td>37662577P</td>\n",
       "      <td>0.0</td>\n",
       "      <td>LEGAL</td>\n",
       "      <td>9</td>\n",
       "      <td>9</td>\n",
       "      <td>0</td>\n",
       "    </tr>\n",
       "    <tr>\n",
       "      <th>1</th>\n",
       "      <td>shirting</td>\n",
       "      <td>0.0</td>\n",
       "      <td>LEGAL</td>\n",
       "      <td>8</td>\n",
       "      <td>3</td>\n",
       "      <td>4</td>\n",
       "    </tr>\n",
       "    <tr>\n",
       "      <th>2</th>\n",
       "      <td>&amp;kw=%27;alert%28%27XSS%27%29;//</td>\n",
       "      <td>1.0</td>\n",
       "      <td>XSS</td>\n",
       "      <td>31</td>\n",
       "      <td>26</td>\n",
       "      <td>2</td>\n",
       "    </tr>\n",
       "    <tr>\n",
       "      <th>3</th>\n",
       "      <td>obeying</td>\n",
       "      <td>0.0</td>\n",
       "      <td>LEGAL</td>\n",
       "      <td>7</td>\n",
       "      <td>3</td>\n",
       "      <td>3</td>\n",
       "    </tr>\n",
       "    <tr>\n",
       "      <th>4</th>\n",
       "      <td>dictating</td>\n",
       "      <td>0.0</td>\n",
       "      <td>LEGAL</td>\n",
       "      <td>9</td>\n",
       "      <td>3</td>\n",
       "      <td>7</td>\n",
       "    </tr>\n",
       "  </tbody>\n",
       "</table>\n",
       "</div>"
      ],
      "text/plain": [
       "                               payload  is_malicious injection_type  length  \\\n",
       "index                                                                         \n",
       "0                            37662577P           0.0          LEGAL       9   \n",
       "1                             shirting           0.0          LEGAL       8   \n",
       "2      &kw=%27;alert%28%27XSS%27%29;//           1.0            XSS      31   \n",
       "3                              obeying           0.0          LEGAL       7   \n",
       "4                            dictating           0.0          LEGAL       9   \n",
       "\n",
       "       non-printable  punctuation  \n",
       "index                              \n",
       "0                  9            0  \n",
       "1                  3            4  \n",
       "2                 26            2  \n",
       "3                  3            3  \n",
       "4                  3            7  "
      ]
     },
     "metadata": {},
     "output_type": "display_data"
    }
   ],
   "source": [
    "def create_feature_punctuation_characters(payloads):\n",
    "    '''\n",
    "    Feature\n",
    "    Number of punctuation characthers within payload\n",
    "    '''\n",
    "    \n",
    "    payloads['punctuation'] = [ len([1 for letter in str(row) if letter in str('punctuation')]) for row in payloads['payload']]\n",
    "    return payloads\n",
    "    \n",
    "\n",
    "create_feature_punctuation_characters(payloads)\n",
    "display(payloads.head())\n",
    "    \n",
    "# plot_feature_distribution(payloads['punctuation'])"
   ]
  },
  {
   "cell_type": "code",
   "execution_count": 9,
   "metadata": {},
   "outputs": [
    {
     "data": {
      "text/html": [
       "<div>\n",
       "<style scoped>\n",
       "    .dataframe tbody tr th:only-of-type {\n",
       "        vertical-align: middle;\n",
       "    }\n",
       "\n",
       "    .dataframe tbody tr th {\n",
       "        vertical-align: top;\n",
       "    }\n",
       "\n",
       "    .dataframe thead th {\n",
       "        text-align: right;\n",
       "    }\n",
       "</style>\n",
       "<table border=\"1\" class=\"dataframe\">\n",
       "  <thead>\n",
       "    <tr style=\"text-align: right;\">\n",
       "      <th></th>\n",
       "      <th>payload</th>\n",
       "      <th>is_malicious</th>\n",
       "      <th>injection_type</th>\n",
       "      <th>length</th>\n",
       "      <th>non-printable</th>\n",
       "      <th>punctuation</th>\n",
       "      <th>min-byte</th>\n",
       "    </tr>\n",
       "    <tr>\n",
       "      <th>index</th>\n",
       "      <th></th>\n",
       "      <th></th>\n",
       "      <th></th>\n",
       "      <th></th>\n",
       "      <th></th>\n",
       "      <th></th>\n",
       "      <th></th>\n",
       "    </tr>\n",
       "  </thead>\n",
       "  <tbody>\n",
       "    <tr>\n",
       "      <th>0</th>\n",
       "      <td>37662577P</td>\n",
       "      <td>0.0</td>\n",
       "      <td>LEGAL</td>\n",
       "      <td>9</td>\n",
       "      <td>9</td>\n",
       "      <td>0</td>\n",
       "      <td>50</td>\n",
       "    </tr>\n",
       "    <tr>\n",
       "      <th>1</th>\n",
       "      <td>shirting</td>\n",
       "      <td>0.0</td>\n",
       "      <td>LEGAL</td>\n",
       "      <td>8</td>\n",
       "      <td>3</td>\n",
       "      <td>4</td>\n",
       "      <td>103</td>\n",
       "    </tr>\n",
       "    <tr>\n",
       "      <th>2</th>\n",
       "      <td>&amp;kw=%27;alert%28%27XSS%27%29;//</td>\n",
       "      <td>1.0</td>\n",
       "      <td>XSS</td>\n",
       "      <td>31</td>\n",
       "      <td>26</td>\n",
       "      <td>2</td>\n",
       "      <td>37</td>\n",
       "    </tr>\n",
       "    <tr>\n",
       "      <th>3</th>\n",
       "      <td>obeying</td>\n",
       "      <td>0.0</td>\n",
       "      <td>LEGAL</td>\n",
       "      <td>7</td>\n",
       "      <td>3</td>\n",
       "      <td>3</td>\n",
       "      <td>98</td>\n",
       "    </tr>\n",
       "    <tr>\n",
       "      <th>4</th>\n",
       "      <td>dictating</td>\n",
       "      <td>0.0</td>\n",
       "      <td>LEGAL</td>\n",
       "      <td>9</td>\n",
       "      <td>3</td>\n",
       "      <td>7</td>\n",
       "      <td>97</td>\n",
       "    </tr>\n",
       "  </tbody>\n",
       "</table>\n",
       "</div>"
      ],
      "text/plain": [
       "                               payload  is_malicious injection_type  length  \\\n",
       "index                                                                         \n",
       "0                            37662577P           0.0          LEGAL       9   \n",
       "1                             shirting           0.0          LEGAL       8   \n",
       "2      &kw=%27;alert%28%27XSS%27%29;//           1.0            XSS      31   \n",
       "3                              obeying           0.0          LEGAL       7   \n",
       "4                            dictating           0.0          LEGAL       9   \n",
       "\n",
       "       non-printable  punctuation  min-byte  \n",
       "index                                        \n",
       "0                  9            0        50  \n",
       "1                  3            4       103  \n",
       "2                 26            2        37  \n",
       "3                  3            3        98  \n",
       "4                  3            7        97  "
      ]
     },
     "metadata": {},
     "output_type": "display_data"
    }
   ],
   "source": [
    "def create_feature_min_byte_value(payloads):\n",
    "    '''\n",
    "    Feature\n",
    "    Minimum byte value in payload\n",
    "    '''\n",
    "    \n",
    "    payloads['min-byte'] = [ min(bytearray(str(row), 'utf8')) for row in payloads['payload']]\n",
    "    return payloads\n",
    "\n",
    "create_feature_min_byte_value(payloads)\n",
    "display(payloads.head())\n",
    "\n",
    "# plot_feature_distribution(payloads['min-byte'])"
   ]
  },
  {
   "cell_type": "code",
   "execution_count": 10,
   "metadata": {},
   "outputs": [
    {
     "data": {
      "text/html": [
       "<div>\n",
       "<style scoped>\n",
       "    .dataframe tbody tr th:only-of-type {\n",
       "        vertical-align: middle;\n",
       "    }\n",
       "\n",
       "    .dataframe tbody tr th {\n",
       "        vertical-align: top;\n",
       "    }\n",
       "\n",
       "    .dataframe thead th {\n",
       "        text-align: right;\n",
       "    }\n",
       "</style>\n",
       "<table border=\"1\" class=\"dataframe\">\n",
       "  <thead>\n",
       "    <tr style=\"text-align: right;\">\n",
       "      <th></th>\n",
       "      <th>payload</th>\n",
       "      <th>is_malicious</th>\n",
       "      <th>injection_type</th>\n",
       "      <th>length</th>\n",
       "      <th>non-printable</th>\n",
       "      <th>punctuation</th>\n",
       "      <th>min-byte</th>\n",
       "      <th>max-byte</th>\n",
       "    </tr>\n",
       "    <tr>\n",
       "      <th>index</th>\n",
       "      <th></th>\n",
       "      <th></th>\n",
       "      <th></th>\n",
       "      <th></th>\n",
       "      <th></th>\n",
       "      <th></th>\n",
       "      <th></th>\n",
       "      <th></th>\n",
       "    </tr>\n",
       "  </thead>\n",
       "  <tbody>\n",
       "    <tr>\n",
       "      <th>0</th>\n",
       "      <td>37662577P</td>\n",
       "      <td>0.0</td>\n",
       "      <td>LEGAL</td>\n",
       "      <td>9</td>\n",
       "      <td>9</td>\n",
       "      <td>0</td>\n",
       "      <td>50</td>\n",
       "      <td>80</td>\n",
       "    </tr>\n",
       "    <tr>\n",
       "      <th>1</th>\n",
       "      <td>shirting</td>\n",
       "      <td>0.0</td>\n",
       "      <td>LEGAL</td>\n",
       "      <td>8</td>\n",
       "      <td>3</td>\n",
       "      <td>4</td>\n",
       "      <td>103</td>\n",
       "      <td>116</td>\n",
       "    </tr>\n",
       "    <tr>\n",
       "      <th>2</th>\n",
       "      <td>&amp;kw=%27;alert%28%27XSS%27%29;//</td>\n",
       "      <td>1.0</td>\n",
       "      <td>XSS</td>\n",
       "      <td>31</td>\n",
       "      <td>26</td>\n",
       "      <td>2</td>\n",
       "      <td>37</td>\n",
       "      <td>119</td>\n",
       "    </tr>\n",
       "    <tr>\n",
       "      <th>3</th>\n",
       "      <td>obeying</td>\n",
       "      <td>0.0</td>\n",
       "      <td>LEGAL</td>\n",
       "      <td>7</td>\n",
       "      <td>3</td>\n",
       "      <td>3</td>\n",
       "      <td>98</td>\n",
       "      <td>121</td>\n",
       "    </tr>\n",
       "    <tr>\n",
       "      <th>4</th>\n",
       "      <td>dictating</td>\n",
       "      <td>0.0</td>\n",
       "      <td>LEGAL</td>\n",
       "      <td>9</td>\n",
       "      <td>3</td>\n",
       "      <td>7</td>\n",
       "      <td>97</td>\n",
       "      <td>116</td>\n",
       "    </tr>\n",
       "  </tbody>\n",
       "</table>\n",
       "</div>"
      ],
      "text/plain": [
       "                               payload  is_malicious injection_type  length  \\\n",
       "index                                                                         \n",
       "0                            37662577P           0.0          LEGAL       9   \n",
       "1                             shirting           0.0          LEGAL       8   \n",
       "2      &kw=%27;alert%28%27XSS%27%29;//           1.0            XSS      31   \n",
       "3                              obeying           0.0          LEGAL       7   \n",
       "4                            dictating           0.0          LEGAL       9   \n",
       "\n",
       "       non-printable  punctuation  min-byte  max-byte  \n",
       "index                                                  \n",
       "0                  9            0        50        80  \n",
       "1                  3            4       103       116  \n",
       "2                 26            2        37       119  \n",
       "3                  3            3        98       121  \n",
       "4                  3            7        97       116  "
      ]
     },
     "metadata": {},
     "output_type": "display_data"
    }
   ],
   "source": [
    "def create_feature_max_byte_value(payloads):\n",
    "    '''\n",
    "    Feature\n",
    "    Maximum byte value in payload\n",
    "    '''\n",
    "    \n",
    "    payloads['max-byte'] = [ max(bytearray(str(row), 'utf8')) for row in payloads['payload']]\n",
    "    return payloads\n",
    "\n",
    "create_feature_max_byte_value(payloads)\n",
    "display(payloads.head())\n",
    "\n",
    "# plot_feature_distribution(payloads['max-byte'])"
   ]
  },
  {
   "cell_type": "code",
   "execution_count": 11,
   "metadata": {},
   "outputs": [
    {
     "data": {
      "text/html": [
       "<div>\n",
       "<style scoped>\n",
       "    .dataframe tbody tr th:only-of-type {\n",
       "        vertical-align: middle;\n",
       "    }\n",
       "\n",
       "    .dataframe tbody tr th {\n",
       "        vertical-align: top;\n",
       "    }\n",
       "\n",
       "    .dataframe thead th {\n",
       "        text-align: right;\n",
       "    }\n",
       "</style>\n",
       "<table border=\"1\" class=\"dataframe\">\n",
       "  <thead>\n",
       "    <tr style=\"text-align: right;\">\n",
       "      <th></th>\n",
       "      <th>payload</th>\n",
       "      <th>is_malicious</th>\n",
       "      <th>injection_type</th>\n",
       "      <th>length</th>\n",
       "      <th>non-printable</th>\n",
       "      <th>punctuation</th>\n",
       "      <th>min-byte</th>\n",
       "      <th>max-byte</th>\n",
       "      <th>mean-byte</th>\n",
       "    </tr>\n",
       "    <tr>\n",
       "      <th>index</th>\n",
       "      <th></th>\n",
       "      <th></th>\n",
       "      <th></th>\n",
       "      <th></th>\n",
       "      <th></th>\n",
       "      <th></th>\n",
       "      <th></th>\n",
       "      <th></th>\n",
       "      <th></th>\n",
       "    </tr>\n",
       "  </thead>\n",
       "  <tbody>\n",
       "    <tr>\n",
       "      <th>0</th>\n",
       "      <td>37662577P</td>\n",
       "      <td>0.0</td>\n",
       "      <td>LEGAL</td>\n",
       "      <td>9</td>\n",
       "      <td>9</td>\n",
       "      <td>0</td>\n",
       "      <td>50</td>\n",
       "      <td>80</td>\n",
       "      <td>56.333333</td>\n",
       "    </tr>\n",
       "    <tr>\n",
       "      <th>1</th>\n",
       "      <td>shirting</td>\n",
       "      <td>0.0</td>\n",
       "      <td>LEGAL</td>\n",
       "      <td>8</td>\n",
       "      <td>3</td>\n",
       "      <td>4</td>\n",
       "      <td>103</td>\n",
       "      <td>116</td>\n",
       "      <td>109.000000</td>\n",
       "    </tr>\n",
       "    <tr>\n",
       "      <th>2</th>\n",
       "      <td>&amp;kw=%27;alert%28%27XSS%27%29;//</td>\n",
       "      <td>1.0</td>\n",
       "      <td>XSS</td>\n",
       "      <td>31</td>\n",
       "      <td>26</td>\n",
       "      <td>2</td>\n",
       "      <td>37</td>\n",
       "      <td>119</td>\n",
       "      <td>65.806452</td>\n",
       "    </tr>\n",
       "    <tr>\n",
       "      <th>3</th>\n",
       "      <td>obeying</td>\n",
       "      <td>0.0</td>\n",
       "      <td>LEGAL</td>\n",
       "      <td>7</td>\n",
       "      <td>3</td>\n",
       "      <td>3</td>\n",
       "      <td>98</td>\n",
       "      <td>121</td>\n",
       "      <td>107.000000</td>\n",
       "    </tr>\n",
       "    <tr>\n",
       "      <th>4</th>\n",
       "      <td>dictating</td>\n",
       "      <td>0.0</td>\n",
       "      <td>LEGAL</td>\n",
       "      <td>9</td>\n",
       "      <td>3</td>\n",
       "      <td>7</td>\n",
       "      <td>97</td>\n",
       "      <td>116</td>\n",
       "      <td>105.666667</td>\n",
       "    </tr>\n",
       "  </tbody>\n",
       "</table>\n",
       "</div>"
      ],
      "text/plain": [
       "                               payload  is_malicious injection_type  length  \\\n",
       "index                                                                         \n",
       "0                            37662577P           0.0          LEGAL       9   \n",
       "1                             shirting           0.0          LEGAL       8   \n",
       "2      &kw=%27;alert%28%27XSS%27%29;//           1.0            XSS      31   \n",
       "3                              obeying           0.0          LEGAL       7   \n",
       "4                            dictating           0.0          LEGAL       9   \n",
       "\n",
       "       non-printable  punctuation  min-byte  max-byte   mean-byte  \n",
       "index                                                              \n",
       "0                  9            0        50        80   56.333333  \n",
       "1                  3            4       103       116  109.000000  \n",
       "2                 26            2        37       119   65.806452  \n",
       "3                  3            3        98       121  107.000000  \n",
       "4                  3            7        97       116  105.666667  "
      ]
     },
     "metadata": {},
     "output_type": "display_data"
    }
   ],
   "source": [
    "def create_feature_mean_byte_value(payloads):\n",
    "    '''\n",
    "    Feature\n",
    "    Maximum byte value in payload\n",
    "    '''\n",
    "    \n",
    "    payloads['mean-byte'] = [ np.mean(bytearray(str(row), 'utf8')) for row in payloads['payload']]\n",
    "    return payloads\n",
    "\n",
    "create_feature_mean_byte_value(payloads)\n",
    "display(payloads.head())\n",
    "\n",
    "# plot_feature_distribution(payloads['mean-byte'].astype(int))"
   ]
  },
  {
   "cell_type": "code",
   "execution_count": 12,
   "metadata": {},
   "outputs": [
    {
     "data": {
      "text/html": [
       "<div>\n",
       "<style scoped>\n",
       "    .dataframe tbody tr th:only-of-type {\n",
       "        vertical-align: middle;\n",
       "    }\n",
       "\n",
       "    .dataframe tbody tr th {\n",
       "        vertical-align: top;\n",
       "    }\n",
       "\n",
       "    .dataframe thead th {\n",
       "        text-align: right;\n",
       "    }\n",
       "</style>\n",
       "<table border=\"1\" class=\"dataframe\">\n",
       "  <thead>\n",
       "    <tr style=\"text-align: right;\">\n",
       "      <th></th>\n",
       "      <th>payload</th>\n",
       "      <th>is_malicious</th>\n",
       "      <th>injection_type</th>\n",
       "      <th>length</th>\n",
       "      <th>non-printable</th>\n",
       "      <th>punctuation</th>\n",
       "      <th>min-byte</th>\n",
       "      <th>max-byte</th>\n",
       "      <th>mean-byte</th>\n",
       "      <th>std-byte</th>\n",
       "    </tr>\n",
       "    <tr>\n",
       "      <th>index</th>\n",
       "      <th></th>\n",
       "      <th></th>\n",
       "      <th></th>\n",
       "      <th></th>\n",
       "      <th></th>\n",
       "      <th></th>\n",
       "      <th></th>\n",
       "      <th></th>\n",
       "      <th></th>\n",
       "      <th></th>\n",
       "    </tr>\n",
       "  </thead>\n",
       "  <tbody>\n",
       "    <tr>\n",
       "      <th>0</th>\n",
       "      <td>37662577P</td>\n",
       "      <td>0.0</td>\n",
       "      <td>LEGAL</td>\n",
       "      <td>9</td>\n",
       "      <td>9</td>\n",
       "      <td>0</td>\n",
       "      <td>50</td>\n",
       "      <td>80</td>\n",
       "      <td>56.333333</td>\n",
       "      <td>8.537499</td>\n",
       "    </tr>\n",
       "    <tr>\n",
       "      <th>1</th>\n",
       "      <td>shirting</td>\n",
       "      <td>0.0</td>\n",
       "      <td>LEGAL</td>\n",
       "      <td>8</td>\n",
       "      <td>3</td>\n",
       "      <td>4</td>\n",
       "      <td>103</td>\n",
       "      <td>116</td>\n",
       "      <td>109.000000</td>\n",
       "      <td>5.049752</td>\n",
       "    </tr>\n",
       "    <tr>\n",
       "      <th>2</th>\n",
       "      <td>&amp;kw=%27;alert%28%27XSS%27%29;//</td>\n",
       "      <td>1.0</td>\n",
       "      <td>XSS</td>\n",
       "      <td>31</td>\n",
       "      <td>26</td>\n",
       "      <td>2</td>\n",
       "      <td>37</td>\n",
       "      <td>119</td>\n",
       "      <td>65.806452</td>\n",
       "      <td>26.617263</td>\n",
       "    </tr>\n",
       "    <tr>\n",
       "      <th>3</th>\n",
       "      <td>obeying</td>\n",
       "      <td>0.0</td>\n",
       "      <td>LEGAL</td>\n",
       "      <td>7</td>\n",
       "      <td>3</td>\n",
       "      <td>3</td>\n",
       "      <td>98</td>\n",
       "      <td>121</td>\n",
       "      <td>107.000000</td>\n",
       "      <td>7.151423</td>\n",
       "    </tr>\n",
       "    <tr>\n",
       "      <th>4</th>\n",
       "      <td>dictating</td>\n",
       "      <td>0.0</td>\n",
       "      <td>LEGAL</td>\n",
       "      <td>9</td>\n",
       "      <td>3</td>\n",
       "      <td>7</td>\n",
       "      <td>97</td>\n",
       "      <td>116</td>\n",
       "      <td>105.666667</td>\n",
       "      <td>6.599663</td>\n",
       "    </tr>\n",
       "  </tbody>\n",
       "</table>\n",
       "</div>"
      ],
      "text/plain": [
       "                               payload  is_malicious injection_type  length  \\\n",
       "index                                                                         \n",
       "0                            37662577P           0.0          LEGAL       9   \n",
       "1                             shirting           0.0          LEGAL       8   \n",
       "2      &kw=%27;alert%28%27XSS%27%29;//           1.0            XSS      31   \n",
       "3                              obeying           0.0          LEGAL       7   \n",
       "4                            dictating           0.0          LEGAL       9   \n",
       "\n",
       "       non-printable  punctuation  min-byte  max-byte   mean-byte   std-byte  \n",
       "index                                                                         \n",
       "0                  9            0        50        80   56.333333   8.537499  \n",
       "1                  3            4       103       116  109.000000   5.049752  \n",
       "2                 26            2        37       119   65.806452  26.617263  \n",
       "3                  3            3        98       121  107.000000   7.151423  \n",
       "4                  3            7        97       116  105.666667   6.599663  "
      ]
     },
     "metadata": {},
     "output_type": "display_data"
    }
   ],
   "source": [
    "def create_feature_std_byte_value(payloads):\n",
    "    '''\n",
    "    Feature\n",
    "    Standard deviation byte value in payload\n",
    "    '''\n",
    "    \n",
    "    payloads['std-byte'] = [ np.std(bytearray(str(row), 'utf8')) for row in payloads['payload']]\n",
    "    return payloads\n",
    "\n",
    "create_feature_std_byte_value(payloads)\n",
    "display(payloads.head())\n",
    "\n",
    "# plot_feature_distribution(payloads['std-byte'].astype(int))"
   ]
  },
  {
   "cell_type": "code",
   "execution_count": 13,
   "metadata": {
    "scrolled": false
   },
   "outputs": [
    {
     "data": {
      "text/html": [
       "<div>\n",
       "<style scoped>\n",
       "    .dataframe tbody tr th:only-of-type {\n",
       "        vertical-align: middle;\n",
       "    }\n",
       "\n",
       "    .dataframe tbody tr th {\n",
       "        vertical-align: top;\n",
       "    }\n",
       "\n",
       "    .dataframe thead th {\n",
       "        text-align: right;\n",
       "    }\n",
       "</style>\n",
       "<table border=\"1\" class=\"dataframe\">\n",
       "  <thead>\n",
       "    <tr style=\"text-align: right;\">\n",
       "      <th></th>\n",
       "      <th>payload</th>\n",
       "      <th>is_malicious</th>\n",
       "      <th>injection_type</th>\n",
       "      <th>length</th>\n",
       "      <th>non-printable</th>\n",
       "      <th>punctuation</th>\n",
       "      <th>min-byte</th>\n",
       "      <th>max-byte</th>\n",
       "      <th>mean-byte</th>\n",
       "      <th>std-byte</th>\n",
       "      <th>distinct-bytes</th>\n",
       "    </tr>\n",
       "    <tr>\n",
       "      <th>index</th>\n",
       "      <th></th>\n",
       "      <th></th>\n",
       "      <th></th>\n",
       "      <th></th>\n",
       "      <th></th>\n",
       "      <th></th>\n",
       "      <th></th>\n",
       "      <th></th>\n",
       "      <th></th>\n",
       "      <th></th>\n",
       "      <th></th>\n",
       "    </tr>\n",
       "  </thead>\n",
       "  <tbody>\n",
       "    <tr>\n",
       "      <th>0</th>\n",
       "      <td>37662577P</td>\n",
       "      <td>0.0</td>\n",
       "      <td>LEGAL</td>\n",
       "      <td>9</td>\n",
       "      <td>9</td>\n",
       "      <td>0</td>\n",
       "      <td>50</td>\n",
       "      <td>80</td>\n",
       "      <td>56.333333</td>\n",
       "      <td>8.537499</td>\n",
       "      <td>6</td>\n",
       "    </tr>\n",
       "    <tr>\n",
       "      <th>1</th>\n",
       "      <td>shirting</td>\n",
       "      <td>0.0</td>\n",
       "      <td>LEGAL</td>\n",
       "      <td>8</td>\n",
       "      <td>3</td>\n",
       "      <td>4</td>\n",
       "      <td>103</td>\n",
       "      <td>116</td>\n",
       "      <td>109.000000</td>\n",
       "      <td>5.049752</td>\n",
       "      <td>7</td>\n",
       "    </tr>\n",
       "    <tr>\n",
       "      <th>2</th>\n",
       "      <td>&amp;kw=%27;alert%28%27XSS%27%29;//</td>\n",
       "      <td>1.0</td>\n",
       "      <td>XSS</td>\n",
       "      <td>31</td>\n",
       "      <td>26</td>\n",
       "      <td>2</td>\n",
       "      <td>37</td>\n",
       "      <td>119</td>\n",
       "      <td>65.806452</td>\n",
       "      <td>26.617263</td>\n",
       "      <td>18</td>\n",
       "    </tr>\n",
       "    <tr>\n",
       "      <th>3</th>\n",
       "      <td>obeying</td>\n",
       "      <td>0.0</td>\n",
       "      <td>LEGAL</td>\n",
       "      <td>7</td>\n",
       "      <td>3</td>\n",
       "      <td>3</td>\n",
       "      <td>98</td>\n",
       "      <td>121</td>\n",
       "      <td>107.000000</td>\n",
       "      <td>7.151423</td>\n",
       "      <td>7</td>\n",
       "    </tr>\n",
       "    <tr>\n",
       "      <th>4</th>\n",
       "      <td>dictating</td>\n",
       "      <td>0.0</td>\n",
       "      <td>LEGAL</td>\n",
       "      <td>9</td>\n",
       "      <td>3</td>\n",
       "      <td>7</td>\n",
       "      <td>97</td>\n",
       "      <td>116</td>\n",
       "      <td>105.666667</td>\n",
       "      <td>6.599663</td>\n",
       "      <td>7</td>\n",
       "    </tr>\n",
       "  </tbody>\n",
       "</table>\n",
       "</div>"
      ],
      "text/plain": [
       "                               payload  is_malicious injection_type  length  \\\n",
       "index                                                                         \n",
       "0                            37662577P           0.0          LEGAL       9   \n",
       "1                             shirting           0.0          LEGAL       8   \n",
       "2      &kw=%27;alert%28%27XSS%27%29;//           1.0            XSS      31   \n",
       "3                              obeying           0.0          LEGAL       7   \n",
       "4                            dictating           0.0          LEGAL       9   \n",
       "\n",
       "       non-printable  punctuation  min-byte  max-byte   mean-byte   std-byte  \\\n",
       "index                                                                          \n",
       "0                  9            0        50        80   56.333333   8.537499   \n",
       "1                  3            4       103       116  109.000000   5.049752   \n",
       "2                 26            2        37       119   65.806452  26.617263   \n",
       "3                  3            3        98       121  107.000000   7.151423   \n",
       "4                  3            7        97       116  105.666667   6.599663   \n",
       "\n",
       "       distinct-bytes  \n",
       "index                  \n",
       "0                   6  \n",
       "1                   7  \n",
       "2                  18  \n",
       "3                   7  \n",
       "4                   7  "
      ]
     },
     "metadata": {},
     "output_type": "display_data"
    }
   ],
   "source": [
    "def create_feature_distinct_bytes(payloads):\n",
    "    '''\n",
    "    Feature\n",
    "    Number of distinct bytes in payload\n",
    "    '''\n",
    "    \n",
    "    payloads['distinct-bytes'] = [ len(list(set(bytearray(str(row), 'utf8')))) for row in payloads['payload']]\n",
    "    return payloads\n",
    "\n",
    "create_feature_distinct_bytes(payloads)\n",
    "display(payloads.head())\n",
    "\n",
    "# plot_feature_distribution(payloads['distinct-bytes'])"
   ]
  },
  {
   "cell_type": "code",
   "execution_count": 14,
   "metadata": {},
   "outputs": [
    {
     "data": {
      "text/plain": [
       "pandas.core.frame.DataFrame"
      ]
     },
     "metadata": {},
     "output_type": "display_data"
    },
    {
     "data": {
      "text/html": [
       "<div>\n",
       "<style scoped>\n",
       "    .dataframe tbody tr th:only-of-type {\n",
       "        vertical-align: middle;\n",
       "    }\n",
       "\n",
       "    .dataframe tbody tr th {\n",
       "        vertical-align: top;\n",
       "    }\n",
       "\n",
       "    .dataframe thead th {\n",
       "        text-align: right;\n",
       "    }\n",
       "</style>\n",
       "<table border=\"1\" class=\"dataframe\">\n",
       "  <thead>\n",
       "    <tr style=\"text-align: right;\">\n",
       "      <th></th>\n",
       "      <th>payload</th>\n",
       "      <th>is_malicious</th>\n",
       "      <th>injection_type</th>\n",
       "      <th>length</th>\n",
       "      <th>non-printable</th>\n",
       "      <th>punctuation</th>\n",
       "      <th>min-byte</th>\n",
       "      <th>max-byte</th>\n",
       "      <th>mean-byte</th>\n",
       "      <th>std-byte</th>\n",
       "      <th>distinct-bytes</th>\n",
       "      <th>sql-keywords</th>\n",
       "    </tr>\n",
       "    <tr>\n",
       "      <th>index</th>\n",
       "      <th></th>\n",
       "      <th></th>\n",
       "      <th></th>\n",
       "      <th></th>\n",
       "      <th></th>\n",
       "      <th></th>\n",
       "      <th></th>\n",
       "      <th></th>\n",
       "      <th></th>\n",
       "      <th></th>\n",
       "      <th></th>\n",
       "      <th></th>\n",
       "    </tr>\n",
       "  </thead>\n",
       "  <tbody>\n",
       "    <tr>\n",
       "      <th>0</th>\n",
       "      <td>37662577P</td>\n",
       "      <td>0.0</td>\n",
       "      <td>LEGAL</td>\n",
       "      <td>9</td>\n",
       "      <td>9</td>\n",
       "      <td>0</td>\n",
       "      <td>50</td>\n",
       "      <td>80</td>\n",
       "      <td>56.333333</td>\n",
       "      <td>8.537499</td>\n",
       "      <td>6</td>\n",
       "      <td>0</td>\n",
       "    </tr>\n",
       "    <tr>\n",
       "      <th>1</th>\n",
       "      <td>shirting</td>\n",
       "      <td>0.0</td>\n",
       "      <td>LEGAL</td>\n",
       "      <td>8</td>\n",
       "      <td>3</td>\n",
       "      <td>4</td>\n",
       "      <td>103</td>\n",
       "      <td>116</td>\n",
       "      <td>109.000000</td>\n",
       "      <td>5.049752</td>\n",
       "      <td>7</td>\n",
       "      <td>0</td>\n",
       "    </tr>\n",
       "    <tr>\n",
       "      <th>2</th>\n",
       "      <td>&amp;kw=%27;alert%28%27XSS%27%29;//</td>\n",
       "      <td>1.0</td>\n",
       "      <td>XSS</td>\n",
       "      <td>31</td>\n",
       "      <td>26</td>\n",
       "      <td>2</td>\n",
       "      <td>37</td>\n",
       "      <td>119</td>\n",
       "      <td>65.806452</td>\n",
       "      <td>26.617263</td>\n",
       "      <td>18</td>\n",
       "      <td>0</td>\n",
       "    </tr>\n",
       "    <tr>\n",
       "      <th>3</th>\n",
       "      <td>obeying</td>\n",
       "      <td>0.0</td>\n",
       "      <td>LEGAL</td>\n",
       "      <td>7</td>\n",
       "      <td>3</td>\n",
       "      <td>3</td>\n",
       "      <td>98</td>\n",
       "      <td>121</td>\n",
       "      <td>107.000000</td>\n",
       "      <td>7.151423</td>\n",
       "      <td>7</td>\n",
       "      <td>0</td>\n",
       "    </tr>\n",
       "    <tr>\n",
       "      <th>4</th>\n",
       "      <td>dictating</td>\n",
       "      <td>0.0</td>\n",
       "      <td>LEGAL</td>\n",
       "      <td>9</td>\n",
       "      <td>3</td>\n",
       "      <td>7</td>\n",
       "      <td>97</td>\n",
       "      <td>116</td>\n",
       "      <td>105.666667</td>\n",
       "      <td>6.599663</td>\n",
       "      <td>7</td>\n",
       "      <td>0</td>\n",
       "    </tr>\n",
       "  </tbody>\n",
       "</table>\n",
       "</div>"
      ],
      "text/plain": [
       "                               payload  is_malicious injection_type  length  \\\n",
       "index                                                                         \n",
       "0                            37662577P           0.0          LEGAL       9   \n",
       "1                             shirting           0.0          LEGAL       8   \n",
       "2      &kw=%27;alert%28%27XSS%27%29;//           1.0            XSS      31   \n",
       "3                              obeying           0.0          LEGAL       7   \n",
       "4                            dictating           0.0          LEGAL       9   \n",
       "\n",
       "       non-printable  punctuation  min-byte  max-byte   mean-byte   std-byte  \\\n",
       "index                                                                          \n",
       "0                  9            0        50        80   56.333333   8.537499   \n",
       "1                  3            4       103       116  109.000000   5.049752   \n",
       "2                 26            2        37       119   65.806452  26.617263   \n",
       "3                  3            3        98       121  107.000000   7.151423   \n",
       "4                  3            7        97       116  105.666667   6.599663   \n",
       "\n",
       "       distinct-bytes  sql-keywords  \n",
       "index                                \n",
       "0                   6             0  \n",
       "1                   7             0  \n",
       "2                  18             0  \n",
       "3                   7             0  \n",
       "4                   7             0  "
      ]
     },
     "metadata": {},
     "output_type": "display_data"
    }
   ],
   "source": [
    "sql_keywords = pd.read_csv('data/SQLKeywords.txt', index_col=False)\n",
    "\n",
    "def create_feature_sql_keywords(payloads):\n",
    "    \n",
    "    '''\n",
    "    Feature\n",
    "    Number of SQL keywords within payload\n",
    "    '''\n",
    "    payloads['sql-keywords'] = [ len([1 for keyword in sql_keywords['Keyword'] if str(keyword).lower() in str(row).lower()]) for row in payloads['payload']]\n",
    "    return payloads\n",
    "\n",
    "create_feature_sql_keywords(payloads)\n",
    "display(type(sql_keywords))\n",
    "display(payloads.head())\n",
    "# plot_feature_distribution(payloads['sql-keywords'])\n",
    "    "
   ]
  },
  {
   "cell_type": "code",
   "execution_count": 15,
   "metadata": {
    "scrolled": false
   },
   "outputs": [
    {
     "data": {
      "text/html": [
       "<div>\n",
       "<style scoped>\n",
       "    .dataframe tbody tr th:only-of-type {\n",
       "        vertical-align: middle;\n",
       "    }\n",
       "\n",
       "    .dataframe tbody tr th {\n",
       "        vertical-align: top;\n",
       "    }\n",
       "\n",
       "    .dataframe thead th {\n",
       "        text-align: right;\n",
       "    }\n",
       "</style>\n",
       "<table border=\"1\" class=\"dataframe\">\n",
       "  <thead>\n",
       "    <tr style=\"text-align: right;\">\n",
       "      <th></th>\n",
       "      <th>payload</th>\n",
       "      <th>is_malicious</th>\n",
       "      <th>injection_type</th>\n",
       "      <th>length</th>\n",
       "      <th>non-printable</th>\n",
       "      <th>punctuation</th>\n",
       "      <th>min-byte</th>\n",
       "      <th>max-byte</th>\n",
       "      <th>mean-byte</th>\n",
       "      <th>std-byte</th>\n",
       "      <th>distinct-bytes</th>\n",
       "      <th>sql-keywords</th>\n",
       "      <th>js-keywords</th>\n",
       "    </tr>\n",
       "    <tr>\n",
       "      <th>index</th>\n",
       "      <th></th>\n",
       "      <th></th>\n",
       "      <th></th>\n",
       "      <th></th>\n",
       "      <th></th>\n",
       "      <th></th>\n",
       "      <th></th>\n",
       "      <th></th>\n",
       "      <th></th>\n",
       "      <th></th>\n",
       "      <th></th>\n",
       "      <th></th>\n",
       "      <th></th>\n",
       "    </tr>\n",
       "  </thead>\n",
       "  <tbody>\n",
       "    <tr>\n",
       "      <th>0</th>\n",
       "      <td>37662577P</td>\n",
       "      <td>0.0</td>\n",
       "      <td>LEGAL</td>\n",
       "      <td>9</td>\n",
       "      <td>9</td>\n",
       "      <td>0</td>\n",
       "      <td>50</td>\n",
       "      <td>80</td>\n",
       "      <td>56.333333</td>\n",
       "      <td>8.537499</td>\n",
       "      <td>6</td>\n",
       "      <td>0</td>\n",
       "      <td>0</td>\n",
       "    </tr>\n",
       "    <tr>\n",
       "      <th>1</th>\n",
       "      <td>shirting</td>\n",
       "      <td>0.0</td>\n",
       "      <td>LEGAL</td>\n",
       "      <td>8</td>\n",
       "      <td>3</td>\n",
       "      <td>4</td>\n",
       "      <td>103</td>\n",
       "      <td>116</td>\n",
       "      <td>109.000000</td>\n",
       "      <td>5.049752</td>\n",
       "      <td>7</td>\n",
       "      <td>0</td>\n",
       "      <td>1</td>\n",
       "    </tr>\n",
       "    <tr>\n",
       "      <th>2</th>\n",
       "      <td>&amp;kw=%27;alert%28%27XSS%27%29;//</td>\n",
       "      <td>1.0</td>\n",
       "      <td>XSS</td>\n",
       "      <td>31</td>\n",
       "      <td>26</td>\n",
       "      <td>2</td>\n",
       "      <td>37</td>\n",
       "      <td>119</td>\n",
       "      <td>65.806452</td>\n",
       "      <td>26.617263</td>\n",
       "      <td>18</td>\n",
       "      <td>0</td>\n",
       "      <td>1</td>\n",
       "    </tr>\n",
       "    <tr>\n",
       "      <th>3</th>\n",
       "      <td>obeying</td>\n",
       "      <td>0.0</td>\n",
       "      <td>LEGAL</td>\n",
       "      <td>7</td>\n",
       "      <td>3</td>\n",
       "      <td>3</td>\n",
       "      <td>98</td>\n",
       "      <td>121</td>\n",
       "      <td>107.000000</td>\n",
       "      <td>7.151423</td>\n",
       "      <td>7</td>\n",
       "      <td>0</td>\n",
       "      <td>1</td>\n",
       "    </tr>\n",
       "    <tr>\n",
       "      <th>4</th>\n",
       "      <td>dictating</td>\n",
       "      <td>0.0</td>\n",
       "      <td>LEGAL</td>\n",
       "      <td>9</td>\n",
       "      <td>3</td>\n",
       "      <td>7</td>\n",
       "      <td>97</td>\n",
       "      <td>116</td>\n",
       "      <td>105.666667</td>\n",
       "      <td>6.599663</td>\n",
       "      <td>7</td>\n",
       "      <td>0</td>\n",
       "      <td>1</td>\n",
       "    </tr>\n",
       "  </tbody>\n",
       "</table>\n",
       "</div>"
      ],
      "text/plain": [
       "                               payload  is_malicious injection_type  length  \\\n",
       "index                                                                         \n",
       "0                            37662577P           0.0          LEGAL       9   \n",
       "1                             shirting           0.0          LEGAL       8   \n",
       "2      &kw=%27;alert%28%27XSS%27%29;//           1.0            XSS      31   \n",
       "3                              obeying           0.0          LEGAL       7   \n",
       "4                            dictating           0.0          LEGAL       9   \n",
       "\n",
       "       non-printable  punctuation  min-byte  max-byte   mean-byte   std-byte  \\\n",
       "index                                                                          \n",
       "0                  9            0        50        80   56.333333   8.537499   \n",
       "1                  3            4       103       116  109.000000   5.049752   \n",
       "2                 26            2        37       119   65.806452  26.617263   \n",
       "3                  3            3        98       121  107.000000   7.151423   \n",
       "4                  3            7        97       116  105.666667   6.599663   \n",
       "\n",
       "       distinct-bytes  sql-keywords  js-keywords  \n",
       "index                                             \n",
       "0                   6             0            0  \n",
       "1                   7             0            1  \n",
       "2                  18             0            1  \n",
       "3                   7             0            1  \n",
       "4                   7             0            1  "
      ]
     },
     "metadata": {},
     "output_type": "display_data"
    }
   ],
   "source": [
    "js_keywords = pd.read_csv('data/JavascriptKeywords.txt', index_col=False)\n",
    "\n",
    "def create_feature_javascript_keywords(payloads):\n",
    "    '''\n",
    "    Feature\n",
    "    Number of Javascript keywords within payload\n",
    "    '''\n",
    "    \n",
    "    payloads['js-keywords'] = [len([1 for keyword in js_keywords['Keyword'] if str(keyword).lower() in str(row).lower()]) for row in payloads['payload']]\n",
    "    return payloads\n",
    "    \n",
    "\n",
    "create_feature_javascript_keywords(payloads)\n",
    "display(payloads.head())    \n",
    "# plot_feature_distribution(payloads['js-keywords'])\n",
    "payloads.to_csv('final_payload.csv')\n",
    "    "
   ]
  },
  {
   "cell_type": "code",
   "execution_count": 16,
   "metadata": {},
   "outputs": [
    {
     "data": {
      "text/html": [
       "<div>\n",
       "<style scoped>\n",
       "    .dataframe tbody tr th:only-of-type {\n",
       "        vertical-align: middle;\n",
       "    }\n",
       "\n",
       "    .dataframe tbody tr th {\n",
       "        vertical-align: top;\n",
       "    }\n",
       "\n",
       "    .dataframe thead th {\n",
       "        text-align: right;\n",
       "    }\n",
       "</style>\n",
       "<table border=\"1\" class=\"dataframe\">\n",
       "  <thead>\n",
       "    <tr style=\"text-align: right;\">\n",
       "      <th></th>\n",
       "      <th>payload</th>\n",
       "      <th>is_malicious</th>\n",
       "      <th>injection_type</th>\n",
       "      <th>length</th>\n",
       "      <th>non-printable</th>\n",
       "      <th>punctuation</th>\n",
       "      <th>min-byte</th>\n",
       "      <th>max-byte</th>\n",
       "      <th>mean-byte</th>\n",
       "      <th>std-byte</th>\n",
       "      <th>distinct-bytes</th>\n",
       "      <th>sql-keywords</th>\n",
       "      <th>js-keywords</th>\n",
       "    </tr>\n",
       "    <tr>\n",
       "      <th>index</th>\n",
       "      <th></th>\n",
       "      <th></th>\n",
       "      <th></th>\n",
       "      <th></th>\n",
       "      <th></th>\n",
       "      <th></th>\n",
       "      <th></th>\n",
       "      <th></th>\n",
       "      <th></th>\n",
       "      <th></th>\n",
       "      <th></th>\n",
       "      <th></th>\n",
       "      <th></th>\n",
       "    </tr>\n",
       "  </thead>\n",
       "  <tbody>\n",
       "    <tr>\n",
       "      <th>0</th>\n",
       "      <td>37662577P</td>\n",
       "      <td>0.0</td>\n",
       "      <td>LEGAL</td>\n",
       "      <td>9</td>\n",
       "      <td>9</td>\n",
       "      <td>0</td>\n",
       "      <td>50</td>\n",
       "      <td>80</td>\n",
       "      <td>56.333333</td>\n",
       "      <td>8.537499</td>\n",
       "      <td>6</td>\n",
       "      <td>0</td>\n",
       "      <td>0</td>\n",
       "    </tr>\n",
       "    <tr>\n",
       "      <th>1</th>\n",
       "      <td>shirting</td>\n",
       "      <td>0.0</td>\n",
       "      <td>LEGAL</td>\n",
       "      <td>8</td>\n",
       "      <td>3</td>\n",
       "      <td>4</td>\n",
       "      <td>103</td>\n",
       "      <td>116</td>\n",
       "      <td>109.000000</td>\n",
       "      <td>5.049752</td>\n",
       "      <td>7</td>\n",
       "      <td>0</td>\n",
       "      <td>1</td>\n",
       "    </tr>\n",
       "    <tr>\n",
       "      <th>2</th>\n",
       "      <td>&amp;kw=%27;alert%28%27XSS%27%29;//</td>\n",
       "      <td>1.0</td>\n",
       "      <td>XSS</td>\n",
       "      <td>31</td>\n",
       "      <td>26</td>\n",
       "      <td>2</td>\n",
       "      <td>37</td>\n",
       "      <td>119</td>\n",
       "      <td>65.806452</td>\n",
       "      <td>26.617263</td>\n",
       "      <td>18</td>\n",
       "      <td>0</td>\n",
       "      <td>1</td>\n",
       "    </tr>\n",
       "    <tr>\n",
       "      <th>3</th>\n",
       "      <td>obeying</td>\n",
       "      <td>0.0</td>\n",
       "      <td>LEGAL</td>\n",
       "      <td>7</td>\n",
       "      <td>3</td>\n",
       "      <td>3</td>\n",
       "      <td>98</td>\n",
       "      <td>121</td>\n",
       "      <td>107.000000</td>\n",
       "      <td>7.151423</td>\n",
       "      <td>7</td>\n",
       "      <td>0</td>\n",
       "      <td>1</td>\n",
       "    </tr>\n",
       "    <tr>\n",
       "      <th>4</th>\n",
       "      <td>dictating</td>\n",
       "      <td>0.0</td>\n",
       "      <td>LEGAL</td>\n",
       "      <td>9</td>\n",
       "      <td>3</td>\n",
       "      <td>7</td>\n",
       "      <td>97</td>\n",
       "      <td>116</td>\n",
       "      <td>105.666667</td>\n",
       "      <td>6.599663</td>\n",
       "      <td>7</td>\n",
       "      <td>0</td>\n",
       "      <td>1</td>\n",
       "    </tr>\n",
       "    <tr>\n",
       "      <th>...</th>\n",
       "      <td>...</td>\n",
       "      <td>...</td>\n",
       "      <td>...</td>\n",
       "      <td>...</td>\n",
       "      <td>...</td>\n",
       "      <td>...</td>\n",
       "      <td>...</td>\n",
       "      <td>...</td>\n",
       "      <td>...</td>\n",
       "      <td>...</td>\n",
       "      <td>...</td>\n",
       "      <td>...</td>\n",
       "      <td>...</td>\n",
       "    </tr>\n",
       "    <tr>\n",
       "      <th>110355</th>\n",
       "      <td>needlessness</td>\n",
       "      <td>0.0</td>\n",
       "      <td>LEGAL</td>\n",
       "      <td>12</td>\n",
       "      <td>5</td>\n",
       "      <td>2</td>\n",
       "      <td>100</td>\n",
       "      <td>115</td>\n",
       "      <td>107.666667</td>\n",
       "      <td>6.209312</td>\n",
       "      <td>5</td>\n",
       "      <td>1</td>\n",
       "      <td>0</td>\n",
       "    </tr>\n",
       "    <tr>\n",
       "      <th>110356</th>\n",
       "      <td>Mary-Jo</td>\n",
       "      <td>0.0</td>\n",
       "      <td>LEGAL</td>\n",
       "      <td>7</td>\n",
       "      <td>5</td>\n",
       "      <td>2</td>\n",
       "      <td>45</td>\n",
       "      <td>121</td>\n",
       "      <td>91.285714</td>\n",
       "      <td>25.257046</td>\n",
       "      <td>7</td>\n",
       "      <td>0</td>\n",
       "      <td>0</td>\n",
       "    </tr>\n",
       "    <tr>\n",
       "      <th>110357</th>\n",
       "      <td>marshaled</td>\n",
       "      <td>0.0</td>\n",
       "      <td>LEGAL</td>\n",
       "      <td>9</td>\n",
       "      <td>4</td>\n",
       "      <td>2</td>\n",
       "      <td>97</td>\n",
       "      <td>115</td>\n",
       "      <td>105.000000</td>\n",
       "      <td>6.463573</td>\n",
       "      <td>8</td>\n",
       "      <td>0</td>\n",
       "      <td>0</td>\n",
       "    </tr>\n",
       "    <tr>\n",
       "      <th>110358</th>\n",
       "      <td>9553847952570755</td>\n",
       "      <td>0.0</td>\n",
       "      <td>LEGAL</td>\n",
       "      <td>16</td>\n",
       "      <td>16</td>\n",
       "      <td>0</td>\n",
       "      <td>48</td>\n",
       "      <td>57</td>\n",
       "      <td>53.375000</td>\n",
       "      <td>2.368412</td>\n",
       "      <td>8</td>\n",
       "      <td>0</td>\n",
       "      <td>0</td>\n",
       "    </tr>\n",
       "    <tr>\n",
       "      <th>110359</th>\n",
       "      <td>\"&gt;&lt;body language=vbs onload=window.location='d...</td>\n",
       "      <td>1.0</td>\n",
       "      <td>XSS</td>\n",
       "      <td>109</td>\n",
       "      <td>76</td>\n",
       "      <td>30</td>\n",
       "      <td>32</td>\n",
       "      <td>122</td>\n",
       "      <td>90.990826</td>\n",
       "      <td>24.773653</td>\n",
       "      <td>50</td>\n",
       "      <td>3</td>\n",
       "      <td>5</td>\n",
       "    </tr>\n",
       "  </tbody>\n",
       "</table>\n",
       "<p>101840 rows × 13 columns</p>\n",
       "</div>"
      ],
      "text/plain": [
       "                                                  payload  is_malicious  \\\n",
       "index                                                                     \n",
       "0                                               37662577P           0.0   \n",
       "1                                                shirting           0.0   \n",
       "2                         &kw=%27;alert%28%27XSS%27%29;//           1.0   \n",
       "3                                                 obeying           0.0   \n",
       "4                                               dictating           0.0   \n",
       "...                                                   ...           ...   \n",
       "110355                                       needlessness           0.0   \n",
       "110356                                            Mary-Jo           0.0   \n",
       "110357                                          marshaled           0.0   \n",
       "110358                                   9553847952570755           0.0   \n",
       "110359  \"><body language=vbs onload=window.location='d...           1.0   \n",
       "\n",
       "       injection_type  length  non-printable  punctuation  min-byte  max-byte  \\\n",
       "index                                                                           \n",
       "0               LEGAL       9              9            0        50        80   \n",
       "1               LEGAL       8              3            4       103       116   \n",
       "2                 XSS      31             26            2        37       119   \n",
       "3               LEGAL       7              3            3        98       121   \n",
       "4               LEGAL       9              3            7        97       116   \n",
       "...               ...     ...            ...          ...       ...       ...   \n",
       "110355          LEGAL      12              5            2       100       115   \n",
       "110356          LEGAL       7              5            2        45       121   \n",
       "110357          LEGAL       9              4            2        97       115   \n",
       "110358          LEGAL      16             16            0        48        57   \n",
       "110359            XSS     109             76           30        32       122   \n",
       "\n",
       "         mean-byte   std-byte  distinct-bytes  sql-keywords  js-keywords  \n",
       "index                                                                     \n",
       "0        56.333333   8.537499               6             0            0  \n",
       "1       109.000000   5.049752               7             0            1  \n",
       "2        65.806452  26.617263              18             0            1  \n",
       "3       107.000000   7.151423               7             0            1  \n",
       "4       105.666667   6.599663               7             0            1  \n",
       "...            ...        ...             ...           ...          ...  \n",
       "110355  107.666667   6.209312               5             1            0  \n",
       "110356   91.285714  25.257046               7             0            0  \n",
       "110357  105.000000   6.463573               8             0            0  \n",
       "110358   53.375000   2.368412               8             0            0  \n",
       "110359   90.990826  24.773653              50             3            5  \n",
       "\n",
       "[101840 rows x 13 columns]"
      ]
     },
     "execution_count": 16,
     "metadata": {},
     "output_type": "execute_result"
    }
   ],
   "source": [
    "payloads"
   ]
  },
  {
   "cell_type": "markdown",
   "metadata": {},
   "source": [
    "define a function that makes a feature vector from the payload using the custom features"
   ]
  },
  {
   "cell_type": "code",
   "execution_count": 17,
   "metadata": {},
   "outputs": [],
   "source": [
    "def create_features(payloads):\n",
    "    features = create_feature_length(payloads)\n",
    "    features = create_feature_non_printable_characters(features)\n",
    "    features = create_feature_punctuation_characters(features)\n",
    "    features = create_feature_max_byte_value(features)\n",
    "    features = create_feature_min_byte_value(features)\n",
    "    features = create_feature_mean_byte_value(features)\n",
    "    features = create_feature_std_byte_value(features)\n",
    "    features = create_feature_distinct_bytes(features)\n",
    "    features = create_feature_sql_keywords(features)\n",
    "    features = create_feature_javascript_keywords(features)\n",
    "    del features['payload']\n",
    "\n",
    "    return features"
   ]
  },
  {
   "cell_type": "markdown",
   "metadata": {},
   "source": [
    "### Scoring custom features\n",
    "Score the custom features using the SelectKBest function, then visualize the scores in a graph  \n",
    "to see which features are less significant"
   ]
  },
  {
   "cell_type": "code",
   "execution_count": 122,
   "metadata": {
    "scrolled": false
   },
   "outputs": [
    {
     "name": "stdout",
     "output_type": "stream",
     "text": [
      "[3299723.32025039 3327136.76438578  245016.49373881   10980.99315416\n",
      "  193459.52018629   15539.63260562  186189.95436531  268592.66428084\n",
      "   31279.28883915   45707.16380364]\n",
      "[3299723.32 3327136.76  245016.49   10980.99  193459.52   15539.63\n",
      "  186189.95  268592.66   31279.29   45707.16]\n"
     ]
    },
    {
     "data": {
      "text/plain": [
       "['max-byte',\n",
       " 'mean-byte',\n",
       " 'sql-keywords',\n",
       " 'js-keywords',\n",
       " 'std-byte',\n",
       " 'min-byte',\n",
       " 'punctuation',\n",
       " 'distinct-bytes',\n",
       " 'length',\n",
       " 'non-printable']"
      ]
     },
     "metadata": {},
     "output_type": "display_data"
    },
    {
     "data": {
      "text/plain": [
       "['js-keywords 10980.993154162034',\n",
       " 'min-byte 15539.632605624796',\n",
       " 'length 31279.288839146047',\n",
       " 'non-printable 45707.16380364161',\n",
       " 'punctuation 186189.9543653096',\n",
       " 'std-byte 193459.52018629215',\n",
       " 'sql-keywords 245016.49373880975',\n",
       " 'distinct-bytes 268592.66428084375',\n",
       " 'max-byte 3299723.3202503854',\n",
       " 'mean-byte 3327136.7643857826']"
      ]
     },
     "metadata": {},
     "output_type": "display_data"
    },
    {
     "data": {
      "application/javascript": [
       "/* Put everything inside the global mpl namespace */\n",
       "/* global mpl */\n",
       "window.mpl = {};\n",
       "\n",
       "mpl.get_websocket_type = function () {\n",
       "    if (typeof WebSocket !== 'undefined') {\n",
       "        return WebSocket;\n",
       "    } else if (typeof MozWebSocket !== 'undefined') {\n",
       "        return MozWebSocket;\n",
       "    } else {\n",
       "        alert(\n",
       "            'Your browser does not have WebSocket support. ' +\n",
       "                'Please try Chrome, Safari or Firefox ≥ 6. ' +\n",
       "                'Firefox 4 and 5 are also supported but you ' +\n",
       "                'have to enable WebSockets in about:config.'\n",
       "        );\n",
       "    }\n",
       "};\n",
       "\n",
       "mpl.figure = function (figure_id, websocket, ondownload, parent_element) {\n",
       "    this.id = figure_id;\n",
       "\n",
       "    this.ws = websocket;\n",
       "\n",
       "    this.supports_binary = this.ws.binaryType !== undefined;\n",
       "\n",
       "    if (!this.supports_binary) {\n",
       "        var warnings = document.getElementById('mpl-warnings');\n",
       "        if (warnings) {\n",
       "            warnings.style.display = 'block';\n",
       "            warnings.textContent =\n",
       "                'This browser does not support binary websocket messages. ' +\n",
       "                'Performance may be slow.';\n",
       "        }\n",
       "    }\n",
       "\n",
       "    this.imageObj = new Image();\n",
       "\n",
       "    this.context = undefined;\n",
       "    this.message = undefined;\n",
       "    this.canvas = undefined;\n",
       "    this.rubberband_canvas = undefined;\n",
       "    this.rubberband_context = undefined;\n",
       "    this.format_dropdown = undefined;\n",
       "\n",
       "    this.image_mode = 'full';\n",
       "\n",
       "    this.root = document.createElement('div');\n",
       "    this.root.setAttribute('style', 'display: inline-block');\n",
       "    this._root_extra_style(this.root);\n",
       "\n",
       "    parent_element.appendChild(this.root);\n",
       "\n",
       "    this._init_header(this);\n",
       "    this._init_canvas(this);\n",
       "    this._init_toolbar(this);\n",
       "\n",
       "    var fig = this;\n",
       "\n",
       "    this.waiting = false;\n",
       "\n",
       "    this.ws.onopen = function () {\n",
       "        fig.send_message('supports_binary', { value: fig.supports_binary });\n",
       "        fig.send_message('send_image_mode', {});\n",
       "        if (fig.ratio !== 1) {\n",
       "            fig.send_message('set_device_pixel_ratio', {\n",
       "                device_pixel_ratio: fig.ratio,\n",
       "            });\n",
       "        }\n",
       "        fig.send_message('refresh', {});\n",
       "    };\n",
       "\n",
       "    this.imageObj.onload = function () {\n",
       "        if (fig.image_mode === 'full') {\n",
       "            // Full images could contain transparency (where diff images\n",
       "            // almost always do), so we need to clear the canvas so that\n",
       "            // there is no ghosting.\n",
       "            fig.context.clearRect(0, 0, fig.canvas.width, fig.canvas.height);\n",
       "        }\n",
       "        fig.context.drawImage(fig.imageObj, 0, 0);\n",
       "    };\n",
       "\n",
       "    this.imageObj.onunload = function () {\n",
       "        fig.ws.close();\n",
       "    };\n",
       "\n",
       "    this.ws.onmessage = this._make_on_message_function(this);\n",
       "\n",
       "    this.ondownload = ondownload;\n",
       "};\n",
       "\n",
       "mpl.figure.prototype._init_header = function () {\n",
       "    var titlebar = document.createElement('div');\n",
       "    titlebar.classList =\n",
       "        'ui-dialog-titlebar ui-widget-header ui-corner-all ui-helper-clearfix';\n",
       "    var titletext = document.createElement('div');\n",
       "    titletext.classList = 'ui-dialog-title';\n",
       "    titletext.setAttribute(\n",
       "        'style',\n",
       "        'width: 100%; text-align: center; padding: 3px;'\n",
       "    );\n",
       "    titlebar.appendChild(titletext);\n",
       "    this.root.appendChild(titlebar);\n",
       "    this.header = titletext;\n",
       "};\n",
       "\n",
       "mpl.figure.prototype._canvas_extra_style = function (_canvas_div) {};\n",
       "\n",
       "mpl.figure.prototype._root_extra_style = function (_canvas_div) {};\n",
       "\n",
       "mpl.figure.prototype._init_canvas = function () {\n",
       "    var fig = this;\n",
       "\n",
       "    var canvas_div = (this.canvas_div = document.createElement('div'));\n",
       "    canvas_div.setAttribute(\n",
       "        'style',\n",
       "        'border: 1px solid #ddd;' +\n",
       "            'box-sizing: content-box;' +\n",
       "            'clear: both;' +\n",
       "            'min-height: 1px;' +\n",
       "            'min-width: 1px;' +\n",
       "            'outline: 0;' +\n",
       "            'overflow: hidden;' +\n",
       "            'position: relative;' +\n",
       "            'resize: both;'\n",
       "    );\n",
       "\n",
       "    function on_keyboard_event_closure(name) {\n",
       "        return function (event) {\n",
       "            return fig.key_event(event, name);\n",
       "        };\n",
       "    }\n",
       "\n",
       "    canvas_div.addEventListener(\n",
       "        'keydown',\n",
       "        on_keyboard_event_closure('key_press')\n",
       "    );\n",
       "    canvas_div.addEventListener(\n",
       "        'keyup',\n",
       "        on_keyboard_event_closure('key_release')\n",
       "    );\n",
       "\n",
       "    this._canvas_extra_style(canvas_div);\n",
       "    this.root.appendChild(canvas_div);\n",
       "\n",
       "    var canvas = (this.canvas = document.createElement('canvas'));\n",
       "    canvas.classList.add('mpl-canvas');\n",
       "    canvas.setAttribute('style', 'box-sizing: content-box;');\n",
       "\n",
       "    this.context = canvas.getContext('2d');\n",
       "\n",
       "    var backingStore =\n",
       "        this.context.backingStorePixelRatio ||\n",
       "        this.context.webkitBackingStorePixelRatio ||\n",
       "        this.context.mozBackingStorePixelRatio ||\n",
       "        this.context.msBackingStorePixelRatio ||\n",
       "        this.context.oBackingStorePixelRatio ||\n",
       "        this.context.backingStorePixelRatio ||\n",
       "        1;\n",
       "\n",
       "    this.ratio = (window.devicePixelRatio || 1) / backingStore;\n",
       "\n",
       "    var rubberband_canvas = (this.rubberband_canvas = document.createElement(\n",
       "        'canvas'\n",
       "    ));\n",
       "    rubberband_canvas.setAttribute(\n",
       "        'style',\n",
       "        'box-sizing: content-box; position: absolute; left: 0; top: 0; z-index: 1;'\n",
       "    );\n",
       "\n",
       "    // Apply a ponyfill if ResizeObserver is not implemented by browser.\n",
       "    if (this.ResizeObserver === undefined) {\n",
       "        if (window.ResizeObserver !== undefined) {\n",
       "            this.ResizeObserver = window.ResizeObserver;\n",
       "        } else {\n",
       "            var obs = _JSXTOOLS_RESIZE_OBSERVER({});\n",
       "            this.ResizeObserver = obs.ResizeObserver;\n",
       "        }\n",
       "    }\n",
       "\n",
       "    this.resizeObserverInstance = new this.ResizeObserver(function (entries) {\n",
       "        var nentries = entries.length;\n",
       "        for (var i = 0; i < nentries; i++) {\n",
       "            var entry = entries[i];\n",
       "            var width, height;\n",
       "            if (entry.contentBoxSize) {\n",
       "                if (entry.contentBoxSize instanceof Array) {\n",
       "                    // Chrome 84 implements new version of spec.\n",
       "                    width = entry.contentBoxSize[0].inlineSize;\n",
       "                    height = entry.contentBoxSize[0].blockSize;\n",
       "                } else {\n",
       "                    // Firefox implements old version of spec.\n",
       "                    width = entry.contentBoxSize.inlineSize;\n",
       "                    height = entry.contentBoxSize.blockSize;\n",
       "                }\n",
       "            } else {\n",
       "                // Chrome <84 implements even older version of spec.\n",
       "                width = entry.contentRect.width;\n",
       "                height = entry.contentRect.height;\n",
       "            }\n",
       "\n",
       "            // Keep the size of the canvas and rubber band canvas in sync with\n",
       "            // the canvas container.\n",
       "            if (entry.devicePixelContentBoxSize) {\n",
       "                // Chrome 84 implements new version of spec.\n",
       "                canvas.setAttribute(\n",
       "                    'width',\n",
       "                    entry.devicePixelContentBoxSize[0].inlineSize\n",
       "                );\n",
       "                canvas.setAttribute(\n",
       "                    'height',\n",
       "                    entry.devicePixelContentBoxSize[0].blockSize\n",
       "                );\n",
       "            } else {\n",
       "                canvas.setAttribute('width', width * fig.ratio);\n",
       "                canvas.setAttribute('height', height * fig.ratio);\n",
       "            }\n",
       "            canvas.setAttribute(\n",
       "                'style',\n",
       "                'width: ' + width + 'px; height: ' + height + 'px;'\n",
       "            );\n",
       "\n",
       "            rubberband_canvas.setAttribute('width', width);\n",
       "            rubberband_canvas.setAttribute('height', height);\n",
       "\n",
       "            // And update the size in Python. We ignore the initial 0/0 size\n",
       "            // that occurs as the element is placed into the DOM, which should\n",
       "            // otherwise not happen due to the minimum size styling.\n",
       "            if (fig.ws.readyState == 1 && width != 0 && height != 0) {\n",
       "                fig.request_resize(width, height);\n",
       "            }\n",
       "        }\n",
       "    });\n",
       "    this.resizeObserverInstance.observe(canvas_div);\n",
       "\n",
       "    function on_mouse_event_closure(name) {\n",
       "        return function (event) {\n",
       "            return fig.mouse_event(event, name);\n",
       "        };\n",
       "    }\n",
       "\n",
       "    rubberband_canvas.addEventListener(\n",
       "        'mousedown',\n",
       "        on_mouse_event_closure('button_press')\n",
       "    );\n",
       "    rubberband_canvas.addEventListener(\n",
       "        'mouseup',\n",
       "        on_mouse_event_closure('button_release')\n",
       "    );\n",
       "    rubberband_canvas.addEventListener(\n",
       "        'dblclick',\n",
       "        on_mouse_event_closure('dblclick')\n",
       "    );\n",
       "    // Throttle sequential mouse events to 1 every 20ms.\n",
       "    rubberband_canvas.addEventListener(\n",
       "        'mousemove',\n",
       "        on_mouse_event_closure('motion_notify')\n",
       "    );\n",
       "\n",
       "    rubberband_canvas.addEventListener(\n",
       "        'mouseenter',\n",
       "        on_mouse_event_closure('figure_enter')\n",
       "    );\n",
       "    rubberband_canvas.addEventListener(\n",
       "        'mouseleave',\n",
       "        on_mouse_event_closure('figure_leave')\n",
       "    );\n",
       "\n",
       "    canvas_div.addEventListener('wheel', function (event) {\n",
       "        if (event.deltaY < 0) {\n",
       "            event.step = 1;\n",
       "        } else {\n",
       "            event.step = -1;\n",
       "        }\n",
       "        on_mouse_event_closure('scroll')(event);\n",
       "    });\n",
       "\n",
       "    canvas_div.appendChild(canvas);\n",
       "    canvas_div.appendChild(rubberband_canvas);\n",
       "\n",
       "    this.rubberband_context = rubberband_canvas.getContext('2d');\n",
       "    this.rubberband_context.strokeStyle = '#000000';\n",
       "\n",
       "    this._resize_canvas = function (width, height, forward) {\n",
       "        if (forward) {\n",
       "            canvas_div.style.width = width + 'px';\n",
       "            canvas_div.style.height = height + 'px';\n",
       "        }\n",
       "    };\n",
       "\n",
       "    // Disable right mouse context menu.\n",
       "    this.rubberband_canvas.addEventListener('contextmenu', function (_e) {\n",
       "        event.preventDefault();\n",
       "        return false;\n",
       "    });\n",
       "\n",
       "    function set_focus() {\n",
       "        canvas.focus();\n",
       "        canvas_div.focus();\n",
       "    }\n",
       "\n",
       "    window.setTimeout(set_focus, 100);\n",
       "};\n",
       "\n",
       "mpl.figure.prototype._init_toolbar = function () {\n",
       "    var fig = this;\n",
       "\n",
       "    var toolbar = document.createElement('div');\n",
       "    toolbar.classList = 'mpl-toolbar';\n",
       "    this.root.appendChild(toolbar);\n",
       "\n",
       "    function on_click_closure(name) {\n",
       "        return function (_event) {\n",
       "            return fig.toolbar_button_onclick(name);\n",
       "        };\n",
       "    }\n",
       "\n",
       "    function on_mouseover_closure(tooltip) {\n",
       "        return function (event) {\n",
       "            if (!event.currentTarget.disabled) {\n",
       "                return fig.toolbar_button_onmouseover(tooltip);\n",
       "            }\n",
       "        };\n",
       "    }\n",
       "\n",
       "    fig.buttons = {};\n",
       "    var buttonGroup = document.createElement('div');\n",
       "    buttonGroup.classList = 'mpl-button-group';\n",
       "    for (var toolbar_ind in mpl.toolbar_items) {\n",
       "        var name = mpl.toolbar_items[toolbar_ind][0];\n",
       "        var tooltip = mpl.toolbar_items[toolbar_ind][1];\n",
       "        var image = mpl.toolbar_items[toolbar_ind][2];\n",
       "        var method_name = mpl.toolbar_items[toolbar_ind][3];\n",
       "\n",
       "        if (!name) {\n",
       "            /* Instead of a spacer, we start a new button group. */\n",
       "            if (buttonGroup.hasChildNodes()) {\n",
       "                toolbar.appendChild(buttonGroup);\n",
       "            }\n",
       "            buttonGroup = document.createElement('div');\n",
       "            buttonGroup.classList = 'mpl-button-group';\n",
       "            continue;\n",
       "        }\n",
       "\n",
       "        var button = (fig.buttons[name] = document.createElement('button'));\n",
       "        button.classList = 'mpl-widget';\n",
       "        button.setAttribute('role', 'button');\n",
       "        button.setAttribute('aria-disabled', 'false');\n",
       "        button.addEventListener('click', on_click_closure(method_name));\n",
       "        button.addEventListener('mouseover', on_mouseover_closure(tooltip));\n",
       "\n",
       "        var icon_img = document.createElement('img');\n",
       "        icon_img.src = '_images/' + image + '.png';\n",
       "        icon_img.srcset = '_images/' + image + '_large.png 2x';\n",
       "        icon_img.alt = tooltip;\n",
       "        button.appendChild(icon_img);\n",
       "\n",
       "        buttonGroup.appendChild(button);\n",
       "    }\n",
       "\n",
       "    if (buttonGroup.hasChildNodes()) {\n",
       "        toolbar.appendChild(buttonGroup);\n",
       "    }\n",
       "\n",
       "    var fmt_picker = document.createElement('select');\n",
       "    fmt_picker.classList = 'mpl-widget';\n",
       "    toolbar.appendChild(fmt_picker);\n",
       "    this.format_dropdown = fmt_picker;\n",
       "\n",
       "    for (var ind in mpl.extensions) {\n",
       "        var fmt = mpl.extensions[ind];\n",
       "        var option = document.createElement('option');\n",
       "        option.selected = fmt === mpl.default_extension;\n",
       "        option.innerHTML = fmt;\n",
       "        fmt_picker.appendChild(option);\n",
       "    }\n",
       "\n",
       "    var status_bar = document.createElement('span');\n",
       "    status_bar.classList = 'mpl-message';\n",
       "    toolbar.appendChild(status_bar);\n",
       "    this.message = status_bar;\n",
       "};\n",
       "\n",
       "mpl.figure.prototype.request_resize = function (x_pixels, y_pixels) {\n",
       "    // Request matplotlib to resize the figure. Matplotlib will then trigger a resize in the client,\n",
       "    // which will in turn request a refresh of the image.\n",
       "    this.send_message('resize', { width: x_pixels, height: y_pixels });\n",
       "};\n",
       "\n",
       "mpl.figure.prototype.send_message = function (type, properties) {\n",
       "    properties['type'] = type;\n",
       "    properties['figure_id'] = this.id;\n",
       "    this.ws.send(JSON.stringify(properties));\n",
       "};\n",
       "\n",
       "mpl.figure.prototype.send_draw_message = function () {\n",
       "    if (!this.waiting) {\n",
       "        this.waiting = true;\n",
       "        this.ws.send(JSON.stringify({ type: 'draw', figure_id: this.id }));\n",
       "    }\n",
       "};\n",
       "\n",
       "mpl.figure.prototype.handle_save = function (fig, _msg) {\n",
       "    var format_dropdown = fig.format_dropdown;\n",
       "    var format = format_dropdown.options[format_dropdown.selectedIndex].value;\n",
       "    fig.ondownload(fig, format);\n",
       "};\n",
       "\n",
       "mpl.figure.prototype.handle_resize = function (fig, msg) {\n",
       "    var size = msg['size'];\n",
       "    if (size[0] !== fig.canvas.width || size[1] !== fig.canvas.height) {\n",
       "        fig._resize_canvas(size[0], size[1], msg['forward']);\n",
       "        fig.send_message('refresh', {});\n",
       "    }\n",
       "};\n",
       "\n",
       "mpl.figure.prototype.handle_rubberband = function (fig, msg) {\n",
       "    var x0 = msg['x0'] / fig.ratio;\n",
       "    var y0 = (fig.canvas.height - msg['y0']) / fig.ratio;\n",
       "    var x1 = msg['x1'] / fig.ratio;\n",
       "    var y1 = (fig.canvas.height - msg['y1']) / fig.ratio;\n",
       "    x0 = Math.floor(x0) + 0.5;\n",
       "    y0 = Math.floor(y0) + 0.5;\n",
       "    x1 = Math.floor(x1) + 0.5;\n",
       "    y1 = Math.floor(y1) + 0.5;\n",
       "    var min_x = Math.min(x0, x1);\n",
       "    var min_y = Math.min(y0, y1);\n",
       "    var width = Math.abs(x1 - x0);\n",
       "    var height = Math.abs(y1 - y0);\n",
       "\n",
       "    fig.rubberband_context.clearRect(\n",
       "        0,\n",
       "        0,\n",
       "        fig.canvas.width / fig.ratio,\n",
       "        fig.canvas.height / fig.ratio\n",
       "    );\n",
       "\n",
       "    fig.rubberband_context.strokeRect(min_x, min_y, width, height);\n",
       "};\n",
       "\n",
       "mpl.figure.prototype.handle_figure_label = function (fig, msg) {\n",
       "    // Updates the figure title.\n",
       "    fig.header.textContent = msg['label'];\n",
       "};\n",
       "\n",
       "mpl.figure.prototype.handle_cursor = function (fig, msg) {\n",
       "    fig.rubberband_canvas.style.cursor = msg['cursor'];\n",
       "};\n",
       "\n",
       "mpl.figure.prototype.handle_message = function (fig, msg) {\n",
       "    fig.message.textContent = msg['message'];\n",
       "};\n",
       "\n",
       "mpl.figure.prototype.handle_draw = function (fig, _msg) {\n",
       "    // Request the server to send over a new figure.\n",
       "    fig.send_draw_message();\n",
       "};\n",
       "\n",
       "mpl.figure.prototype.handle_image_mode = function (fig, msg) {\n",
       "    fig.image_mode = msg['mode'];\n",
       "};\n",
       "\n",
       "mpl.figure.prototype.handle_history_buttons = function (fig, msg) {\n",
       "    for (var key in msg) {\n",
       "        if (!(key in fig.buttons)) {\n",
       "            continue;\n",
       "        }\n",
       "        fig.buttons[key].disabled = !msg[key];\n",
       "        fig.buttons[key].setAttribute('aria-disabled', !msg[key]);\n",
       "    }\n",
       "};\n",
       "\n",
       "mpl.figure.prototype.handle_navigate_mode = function (fig, msg) {\n",
       "    if (msg['mode'] === 'PAN') {\n",
       "        fig.buttons['Pan'].classList.add('active');\n",
       "        fig.buttons['Zoom'].classList.remove('active');\n",
       "    } else if (msg['mode'] === 'ZOOM') {\n",
       "        fig.buttons['Pan'].classList.remove('active');\n",
       "        fig.buttons['Zoom'].classList.add('active');\n",
       "    } else {\n",
       "        fig.buttons['Pan'].classList.remove('active');\n",
       "        fig.buttons['Zoom'].classList.remove('active');\n",
       "    }\n",
       "};\n",
       "\n",
       "mpl.figure.prototype.updated_canvas_event = function () {\n",
       "    // Called whenever the canvas gets updated.\n",
       "    this.send_message('ack', {});\n",
       "};\n",
       "\n",
       "// A function to construct a web socket function for onmessage handling.\n",
       "// Called in the figure constructor.\n",
       "mpl.figure.prototype._make_on_message_function = function (fig) {\n",
       "    return function socket_on_message(evt) {\n",
       "        if (evt.data instanceof Blob) {\n",
       "            var img = evt.data;\n",
       "            if (img.type !== 'image/png') {\n",
       "                /* FIXME: We get \"Resource interpreted as Image but\n",
       "                 * transferred with MIME type text/plain:\" errors on\n",
       "                 * Chrome.  But how to set the MIME type?  It doesn't seem\n",
       "                 * to be part of the websocket stream */\n",
       "                img.type = 'image/png';\n",
       "            }\n",
       "\n",
       "            /* Free the memory for the previous frames */\n",
       "            if (fig.imageObj.src) {\n",
       "                (window.URL || window.webkitURL).revokeObjectURL(\n",
       "                    fig.imageObj.src\n",
       "                );\n",
       "            }\n",
       "\n",
       "            fig.imageObj.src = (window.URL || window.webkitURL).createObjectURL(\n",
       "                img\n",
       "            );\n",
       "            fig.updated_canvas_event();\n",
       "            fig.waiting = false;\n",
       "            return;\n",
       "        } else if (\n",
       "            typeof evt.data === 'string' &&\n",
       "            evt.data.slice(0, 21) === 'data:image/png;base64'\n",
       "        ) {\n",
       "            fig.imageObj.src = evt.data;\n",
       "            fig.updated_canvas_event();\n",
       "            fig.waiting = false;\n",
       "            return;\n",
       "        }\n",
       "\n",
       "        var msg = JSON.parse(evt.data);\n",
       "        var msg_type = msg['type'];\n",
       "\n",
       "        // Call the  \"handle_{type}\" callback, which takes\n",
       "        // the figure and JSON message as its only arguments.\n",
       "        try {\n",
       "            var callback = fig['handle_' + msg_type];\n",
       "        } catch (e) {\n",
       "            console.log(\n",
       "                \"No handler for the '\" + msg_type + \"' message type: \",\n",
       "                msg\n",
       "            );\n",
       "            return;\n",
       "        }\n",
       "\n",
       "        if (callback) {\n",
       "            try {\n",
       "                // console.log(\"Handling '\" + msg_type + \"' message: \", msg);\n",
       "                callback(fig, msg);\n",
       "            } catch (e) {\n",
       "                console.log(\n",
       "                    \"Exception inside the 'handler_\" + msg_type + \"' callback:\",\n",
       "                    e,\n",
       "                    e.stack,\n",
       "                    msg\n",
       "                );\n",
       "            }\n",
       "        }\n",
       "    };\n",
       "};\n",
       "\n",
       "// from https://stackoverflow.com/questions/1114465/getting-mouse-location-in-canvas\n",
       "mpl.findpos = function (e) {\n",
       "    //this section is from http://www.quirksmode.org/js/events_properties.html\n",
       "    var targ;\n",
       "    if (!e) {\n",
       "        e = window.event;\n",
       "    }\n",
       "    if (e.target) {\n",
       "        targ = e.target;\n",
       "    } else if (e.srcElement) {\n",
       "        targ = e.srcElement;\n",
       "    }\n",
       "    if (targ.nodeType === 3) {\n",
       "        // defeat Safari bug\n",
       "        targ = targ.parentNode;\n",
       "    }\n",
       "\n",
       "    // pageX,Y are the mouse positions relative to the document\n",
       "    var boundingRect = targ.getBoundingClientRect();\n",
       "    var x = e.pageX - (boundingRect.left + document.body.scrollLeft);\n",
       "    var y = e.pageY - (boundingRect.top + document.body.scrollTop);\n",
       "\n",
       "    return { x: x, y: y };\n",
       "};\n",
       "\n",
       "/*\n",
       " * return a copy of an object with only non-object keys\n",
       " * we need this to avoid circular references\n",
       " * https://stackoverflow.com/a/24161582/3208463\n",
       " */\n",
       "function simpleKeys(original) {\n",
       "    return Object.keys(original).reduce(function (obj, key) {\n",
       "        if (typeof original[key] !== 'object') {\n",
       "            obj[key] = original[key];\n",
       "        }\n",
       "        return obj;\n",
       "    }, {});\n",
       "}\n",
       "\n",
       "mpl.figure.prototype.mouse_event = function (event, name) {\n",
       "    var canvas_pos = mpl.findpos(event);\n",
       "\n",
       "    if (name === 'button_press') {\n",
       "        this.canvas.focus();\n",
       "        this.canvas_div.focus();\n",
       "    }\n",
       "\n",
       "    var x = canvas_pos.x * this.ratio;\n",
       "    var y = canvas_pos.y * this.ratio;\n",
       "\n",
       "    this.send_message(name, {\n",
       "        x: x,\n",
       "        y: y,\n",
       "        button: event.button,\n",
       "        step: event.step,\n",
       "        guiEvent: simpleKeys(event),\n",
       "    });\n",
       "\n",
       "    /* This prevents the web browser from automatically changing to\n",
       "     * the text insertion cursor when the button is pressed.  We want\n",
       "     * to control all of the cursor setting manually through the\n",
       "     * 'cursor' event from matplotlib */\n",
       "    event.preventDefault();\n",
       "    return false;\n",
       "};\n",
       "\n",
       "mpl.figure.prototype._key_event_extra = function (_event, _name) {\n",
       "    // Handle any extra behaviour associated with a key event\n",
       "};\n",
       "\n",
       "mpl.figure.prototype.key_event = function (event, name) {\n",
       "    // Prevent repeat events\n",
       "    if (name === 'key_press') {\n",
       "        if (event.key === this._key) {\n",
       "            return;\n",
       "        } else {\n",
       "            this._key = event.key;\n",
       "        }\n",
       "    }\n",
       "    if (name === 'key_release') {\n",
       "        this._key = null;\n",
       "    }\n",
       "\n",
       "    var value = '';\n",
       "    if (event.ctrlKey && event.key !== 'Control') {\n",
       "        value += 'ctrl+';\n",
       "    }\n",
       "    else if (event.altKey && event.key !== 'Alt') {\n",
       "        value += 'alt+';\n",
       "    }\n",
       "    else if (event.shiftKey && event.key !== 'Shift') {\n",
       "        value += 'shift+';\n",
       "    }\n",
       "\n",
       "    value += 'k' + event.key;\n",
       "\n",
       "    this._key_event_extra(event, name);\n",
       "\n",
       "    this.send_message(name, { key: value, guiEvent: simpleKeys(event) });\n",
       "    return false;\n",
       "};\n",
       "\n",
       "mpl.figure.prototype.toolbar_button_onclick = function (name) {\n",
       "    if (name === 'download') {\n",
       "        this.handle_save(this, null);\n",
       "    } else {\n",
       "        this.send_message('toolbar_button', { name: name });\n",
       "    }\n",
       "};\n",
       "\n",
       "mpl.figure.prototype.toolbar_button_onmouseover = function (tooltip) {\n",
       "    this.message.textContent = tooltip;\n",
       "};\n",
       "\n",
       "///////////////// REMAINING CONTENT GENERATED BY embed_js.py /////////////////\n",
       "// prettier-ignore\n",
       "var _JSXTOOLS_RESIZE_OBSERVER=function(A){var t,i=new WeakMap,n=new WeakMap,a=new WeakMap,r=new WeakMap,o=new Set;function s(e){if(!(this instanceof s))throw new TypeError(\"Constructor requires 'new' operator\");i.set(this,e)}function h(){throw new TypeError(\"Function is not a constructor\")}function c(e,t,i,n){e=0 in arguments?Number(arguments[0]):0,t=1 in arguments?Number(arguments[1]):0,i=2 in arguments?Number(arguments[2]):0,n=3 in arguments?Number(arguments[3]):0,this.right=(this.x=this.left=e)+(this.width=i),this.bottom=(this.y=this.top=t)+(this.height=n),Object.freeze(this)}function d(){t=requestAnimationFrame(d);var s=new WeakMap,p=new Set;o.forEach((function(t){r.get(t).forEach((function(i){var r=t instanceof window.SVGElement,o=a.get(t),d=r?0:parseFloat(o.paddingTop),f=r?0:parseFloat(o.paddingRight),l=r?0:parseFloat(o.paddingBottom),u=r?0:parseFloat(o.paddingLeft),g=r?0:parseFloat(o.borderTopWidth),m=r?0:parseFloat(o.borderRightWidth),w=r?0:parseFloat(o.borderBottomWidth),b=u+f,F=d+l,v=(r?0:parseFloat(o.borderLeftWidth))+m,W=g+w,y=r?0:t.offsetHeight-W-t.clientHeight,E=r?0:t.offsetWidth-v-t.clientWidth,R=b+v,z=F+W,M=r?t.width:parseFloat(o.width)-R-E,O=r?t.height:parseFloat(o.height)-z-y;if(n.has(t)){var k=n.get(t);if(k[0]===M&&k[1]===O)return}n.set(t,[M,O]);var S=Object.create(h.prototype);S.target=t,S.contentRect=new c(u,d,M,O),s.has(i)||(s.set(i,[]),p.add(i)),s.get(i).push(S)}))})),p.forEach((function(e){i.get(e).call(e,s.get(e),e)}))}return s.prototype.observe=function(i){if(i instanceof window.Element){r.has(i)||(r.set(i,new Set),o.add(i),a.set(i,window.getComputedStyle(i)));var n=r.get(i);n.has(this)||n.add(this),cancelAnimationFrame(t),t=requestAnimationFrame(d)}},s.prototype.unobserve=function(i){if(i instanceof window.Element&&r.has(i)){var n=r.get(i);n.has(this)&&(n.delete(this),n.size||(r.delete(i),o.delete(i))),n.size||r.delete(i),o.size||cancelAnimationFrame(t)}},A.DOMRectReadOnly=c,A.ResizeObserver=s,A.ResizeObserverEntry=h,A}; // eslint-disable-line\n",
       "mpl.toolbar_items = [[\"Home\", \"Reset original view\", \"fa fa-home icon-home\", \"home\"], [\"Back\", \"Back to previous view\", \"fa fa-arrow-left icon-arrow-left\", \"back\"], [\"Forward\", \"Forward to next view\", \"fa fa-arrow-right icon-arrow-right\", \"forward\"], [\"\", \"\", \"\", \"\"], [\"Pan\", \"Left button pans, Right button zooms\\nx/y fixes axis, CTRL fixes aspect\", \"fa fa-arrows icon-move\", \"pan\"], [\"Zoom\", \"Zoom to rectangle\\nx/y fixes axis\", \"fa fa-square-o icon-check-empty\", \"zoom\"], [\"\", \"\", \"\", \"\"], [\"Download\", \"Download plot\", \"fa fa-floppy-o icon-save\", \"download\"]];\n",
       "\n",
       "mpl.extensions = [\"eps\", \"jpeg\", \"pgf\", \"pdf\", \"png\", \"ps\", \"raw\", \"svg\", \"tif\"];\n",
       "\n",
       "mpl.default_extension = \"png\";/* global mpl */\n",
       "\n",
       "var comm_websocket_adapter = function (comm) {\n",
       "    // Create a \"websocket\"-like object which calls the given IPython comm\n",
       "    // object with the appropriate methods. Currently this is a non binary\n",
       "    // socket, so there is still some room for performance tuning.\n",
       "    var ws = {};\n",
       "\n",
       "    ws.binaryType = comm.kernel.ws.binaryType;\n",
       "    ws.readyState = comm.kernel.ws.readyState;\n",
       "    function updateReadyState(_event) {\n",
       "        if (comm.kernel.ws) {\n",
       "            ws.readyState = comm.kernel.ws.readyState;\n",
       "        } else {\n",
       "            ws.readyState = 3; // Closed state.\n",
       "        }\n",
       "    }\n",
       "    comm.kernel.ws.addEventListener('open', updateReadyState);\n",
       "    comm.kernel.ws.addEventListener('close', updateReadyState);\n",
       "    comm.kernel.ws.addEventListener('error', updateReadyState);\n",
       "\n",
       "    ws.close = function () {\n",
       "        comm.close();\n",
       "    };\n",
       "    ws.send = function (m) {\n",
       "        //console.log('sending', m);\n",
       "        comm.send(m);\n",
       "    };\n",
       "    // Register the callback with on_msg.\n",
       "    comm.on_msg(function (msg) {\n",
       "        //console.log('receiving', msg['content']['data'], msg);\n",
       "        var data = msg['content']['data'];\n",
       "        if (data['blob'] !== undefined) {\n",
       "            data = {\n",
       "                data: new Blob(msg['buffers'], { type: data['blob'] }),\n",
       "            };\n",
       "        }\n",
       "        // Pass the mpl event to the overridden (by mpl) onmessage function.\n",
       "        ws.onmessage(data);\n",
       "    });\n",
       "    return ws;\n",
       "};\n",
       "\n",
       "mpl.mpl_figure_comm = function (comm, msg) {\n",
       "    // This is the function which gets called when the mpl process\n",
       "    // starts-up an IPython Comm through the \"matplotlib\" channel.\n",
       "\n",
       "    var id = msg.content.data.id;\n",
       "    // Get hold of the div created by the display call when the Comm\n",
       "    // socket was opened in Python.\n",
       "    var element = document.getElementById(id);\n",
       "    var ws_proxy = comm_websocket_adapter(comm);\n",
       "\n",
       "    function ondownload(figure, _format) {\n",
       "        window.open(figure.canvas.toDataURL());\n",
       "    }\n",
       "\n",
       "    var fig = new mpl.figure(id, ws_proxy, ondownload, element);\n",
       "\n",
       "    // Call onopen now - mpl needs it, as it is assuming we've passed it a real\n",
       "    // web socket which is closed, not our websocket->open comm proxy.\n",
       "    ws_proxy.onopen();\n",
       "\n",
       "    fig.parent_element = element;\n",
       "    fig.cell_info = mpl.find_output_cell(\"<div id='\" + id + \"'></div>\");\n",
       "    if (!fig.cell_info) {\n",
       "        console.error('Failed to find cell for figure', id, fig);\n",
       "        return;\n",
       "    }\n",
       "    fig.cell_info[0].output_area.element.on(\n",
       "        'cleared',\n",
       "        { fig: fig },\n",
       "        fig._remove_fig_handler\n",
       "    );\n",
       "};\n",
       "\n",
       "mpl.figure.prototype.handle_close = function (fig, msg) {\n",
       "    var width = fig.canvas.width / fig.ratio;\n",
       "    fig.cell_info[0].output_area.element.off(\n",
       "        'cleared',\n",
       "        fig._remove_fig_handler\n",
       "    );\n",
       "    fig.resizeObserverInstance.unobserve(fig.canvas_div);\n",
       "\n",
       "    // Update the output cell to use the data from the current canvas.\n",
       "    fig.push_to_output();\n",
       "    var dataURL = fig.canvas.toDataURL();\n",
       "    // Re-enable the keyboard manager in IPython - without this line, in FF,\n",
       "    // the notebook keyboard shortcuts fail.\n",
       "    IPython.keyboard_manager.enable();\n",
       "    fig.parent_element.innerHTML =\n",
       "        '<img src=\"' + dataURL + '\" width=\"' + width + '\">';\n",
       "    fig.close_ws(fig, msg);\n",
       "};\n",
       "\n",
       "mpl.figure.prototype.close_ws = function (fig, msg) {\n",
       "    fig.send_message('closing', msg);\n",
       "    // fig.ws.close()\n",
       "};\n",
       "\n",
       "mpl.figure.prototype.push_to_output = function (_remove_interactive) {\n",
       "    // Turn the data on the canvas into data in the output cell.\n",
       "    var width = this.canvas.width / this.ratio;\n",
       "    var dataURL = this.canvas.toDataURL();\n",
       "    this.cell_info[1]['text/html'] =\n",
       "        '<img src=\"' + dataURL + '\" width=\"' + width + '\">';\n",
       "};\n",
       "\n",
       "mpl.figure.prototype.updated_canvas_event = function () {\n",
       "    // Tell IPython that the notebook contents must change.\n",
       "    IPython.notebook.set_dirty(true);\n",
       "    this.send_message('ack', {});\n",
       "    var fig = this;\n",
       "    // Wait a second, then push the new image to the DOM so\n",
       "    // that it is saved nicely (might be nice to debounce this).\n",
       "    setTimeout(function () {\n",
       "        fig.push_to_output();\n",
       "    }, 1000);\n",
       "};\n",
       "\n",
       "mpl.figure.prototype._init_toolbar = function () {\n",
       "    var fig = this;\n",
       "\n",
       "    var toolbar = document.createElement('div');\n",
       "    toolbar.classList = 'btn-toolbar';\n",
       "    this.root.appendChild(toolbar);\n",
       "\n",
       "    function on_click_closure(name) {\n",
       "        return function (_event) {\n",
       "            return fig.toolbar_button_onclick(name);\n",
       "        };\n",
       "    }\n",
       "\n",
       "    function on_mouseover_closure(tooltip) {\n",
       "        return function (event) {\n",
       "            if (!event.currentTarget.disabled) {\n",
       "                return fig.toolbar_button_onmouseover(tooltip);\n",
       "            }\n",
       "        };\n",
       "    }\n",
       "\n",
       "    fig.buttons = {};\n",
       "    var buttonGroup = document.createElement('div');\n",
       "    buttonGroup.classList = 'btn-group';\n",
       "    var button;\n",
       "    for (var toolbar_ind in mpl.toolbar_items) {\n",
       "        var name = mpl.toolbar_items[toolbar_ind][0];\n",
       "        var tooltip = mpl.toolbar_items[toolbar_ind][1];\n",
       "        var image = mpl.toolbar_items[toolbar_ind][2];\n",
       "        var method_name = mpl.toolbar_items[toolbar_ind][3];\n",
       "\n",
       "        if (!name) {\n",
       "            /* Instead of a spacer, we start a new button group. */\n",
       "            if (buttonGroup.hasChildNodes()) {\n",
       "                toolbar.appendChild(buttonGroup);\n",
       "            }\n",
       "            buttonGroup = document.createElement('div');\n",
       "            buttonGroup.classList = 'btn-group';\n",
       "            continue;\n",
       "        }\n",
       "\n",
       "        button = fig.buttons[name] = document.createElement('button');\n",
       "        button.classList = 'btn btn-default';\n",
       "        button.href = '#';\n",
       "        button.title = name;\n",
       "        button.innerHTML = '<i class=\"fa ' + image + ' fa-lg\"></i>';\n",
       "        button.addEventListener('click', on_click_closure(method_name));\n",
       "        button.addEventListener('mouseover', on_mouseover_closure(tooltip));\n",
       "        buttonGroup.appendChild(button);\n",
       "    }\n",
       "\n",
       "    if (buttonGroup.hasChildNodes()) {\n",
       "        toolbar.appendChild(buttonGroup);\n",
       "    }\n",
       "\n",
       "    // Add the status bar.\n",
       "    var status_bar = document.createElement('span');\n",
       "    status_bar.classList = 'mpl-message pull-right';\n",
       "    toolbar.appendChild(status_bar);\n",
       "    this.message = status_bar;\n",
       "\n",
       "    // Add the close button to the window.\n",
       "    var buttongrp = document.createElement('div');\n",
       "    buttongrp.classList = 'btn-group inline pull-right';\n",
       "    button = document.createElement('button');\n",
       "    button.classList = 'btn btn-mini btn-primary';\n",
       "    button.href = '#';\n",
       "    button.title = 'Stop Interaction';\n",
       "    button.innerHTML = '<i class=\"fa fa-power-off icon-remove icon-large\"></i>';\n",
       "    button.addEventListener('click', function (_evt) {\n",
       "        fig.handle_close(fig, {});\n",
       "    });\n",
       "    button.addEventListener(\n",
       "        'mouseover',\n",
       "        on_mouseover_closure('Stop Interaction')\n",
       "    );\n",
       "    buttongrp.appendChild(button);\n",
       "    var titlebar = this.root.querySelector('.ui-dialog-titlebar');\n",
       "    titlebar.insertBefore(buttongrp, titlebar.firstChild);\n",
       "};\n",
       "\n",
       "mpl.figure.prototype._remove_fig_handler = function (event) {\n",
       "    var fig = event.data.fig;\n",
       "    if (event.target !== this) {\n",
       "        // Ignore bubbled events from children.\n",
       "        return;\n",
       "    }\n",
       "    fig.close_ws(fig, {});\n",
       "};\n",
       "\n",
       "mpl.figure.prototype._root_extra_style = function (el) {\n",
       "    el.style.boxSizing = 'content-box'; // override notebook setting of border-box.\n",
       "};\n",
       "\n",
       "mpl.figure.prototype._canvas_extra_style = function (el) {\n",
       "    // this is important to make the div 'focusable\n",
       "    el.setAttribute('tabindex', 0);\n",
       "    // reach out to IPython and tell the keyboard manager to turn it's self\n",
       "    // off when our div gets focus\n",
       "\n",
       "    // location in version 3\n",
       "    if (IPython.notebook.keyboard_manager) {\n",
       "        IPython.notebook.keyboard_manager.register_events(el);\n",
       "    } else {\n",
       "        // location in version 2\n",
       "        IPython.keyboard_manager.register_events(el);\n",
       "    }\n",
       "};\n",
       "\n",
       "mpl.figure.prototype._key_event_extra = function (event, _name) {\n",
       "    // Check for shift+enter\n",
       "    if (event.shiftKey && event.which === 13) {\n",
       "        this.canvas_div.blur();\n",
       "        // select the cell after this one\n",
       "        var index = IPython.notebook.find_cell_index(this.cell_info[0]);\n",
       "        IPython.notebook.select(index + 1);\n",
       "    }\n",
       "};\n",
       "\n",
       "mpl.figure.prototype.handle_save = function (fig, _msg) {\n",
       "    fig.ondownload(fig, null);\n",
       "};\n",
       "\n",
       "mpl.find_output_cell = function (html_output) {\n",
       "    // Return the cell and output element which can be found *uniquely* in the notebook.\n",
       "    // Note - this is a bit hacky, but it is done because the \"notebook_saving.Notebook\"\n",
       "    // IPython event is triggered only after the cells have been serialised, which for\n",
       "    // our purposes (turning an active figure into a static one), is too late.\n",
       "    var cells = IPython.notebook.get_cells();\n",
       "    var ncells = cells.length;\n",
       "    for (var i = 0; i < ncells; i++) {\n",
       "        var cell = cells[i];\n",
       "        if (cell.cell_type === 'code') {\n",
       "            for (var j = 0; j < cell.output_area.outputs.length; j++) {\n",
       "                var data = cell.output_area.outputs[j];\n",
       "                if (data.data) {\n",
       "                    // IPython >= 3 moved mimebundle to data attribute of output\n",
       "                    data = data.data;\n",
       "                }\n",
       "                if (data['text/html'] === html_output) {\n",
       "                    return [cell, data, j];\n",
       "                }\n",
       "            }\n",
       "        }\n",
       "    }\n",
       "};\n",
       "\n",
       "// Register the function which deals with the matplotlib target/channel.\n",
       "// The kernel may be null if the page has been refreshed.\n",
       "if (IPython.notebook.kernel !== null) {\n",
       "    IPython.notebook.kernel.comm_manager.register_target(\n",
       "        'matplotlib',\n",
       "        mpl.mpl_figure_comm\n",
       "    );\n",
       "}\n"
      ],
      "text/plain": [
       "<IPython.core.display.Javascript object>"
      ]
     },
     "metadata": {},
     "output_type": "display_data"
    },
    {
     "data": {
      "text/html": [
       "<img src=\"data:image/png;base64,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\" width=\"640\">"
      ],
      "text/plain": [
       "<IPython.core.display.HTML object>"
      ]
     },
     "metadata": {},
     "output_type": "display_data"
    },
    {
     "data": {
      "text/plain": [
       "Text(0.5, 1.0, 'SelectKBest()')"
      ]
     },
     "execution_count": 122,
     "metadata": {},
     "output_type": "execute_result"
    }
   ],
   "source": [
    "Y = payloads['is_malicious']\n",
    "X = create_features(pd.DataFrame(payloads['payload'].copy()))\n",
    "\n",
    "from sklearn.feature_selection import SelectKBest\n",
    "from sklearn.feature_selection import chi2\n",
    "\n",
    "test = SelectKBest(score_func=chi2, k='all')\n",
    "fit = test.fit(X, Y)\n",
    "# summarize scores\n",
    "print(fit.scores_)\n",
    "features = fit.transform(X)\n",
    "# summarize selected features\n",
    "# summarize scores\n",
    "np.set_printoptions(precision=2)\n",
    "print(fit.scores_)\n",
    "\n",
    "# Get the indices sorted by most important to least important\n",
    "indices = np.argsort(fit.scores_)\n",
    "\n",
    "# To get your top 10 feature names\n",
    "featuress = []\n",
    "for i in range(10):\n",
    "    featuress.append(X.columns[indices[i]])\n",
    "\n",
    "display(featuress)\n",
    "display([featuress[i] + ' ' + str(fit.scores_[i]) for i in indices[range(10)]])\n",
    "\n",
    "\n",
    "plt.rcdefaults()\n",
    "fig, ax = plt.subplots()\n",
    "\n",
    "y_pos = np.arange(len(featuress))\n",
    "performance = 3 + 10 * np.random.rand(len(featuress))\n",
    "error = np.random.rand(len(featuress))\n",
    "\n",
    "ax.barh(y_pos, fit.scores_[indices[range(10)]],  align='center',\n",
    "        color='green', ecolor='black')\n",
    "ax.set_yticks(y_pos)\n",
    "ax.set_yticklabels(featuress)\n",
    "ax.set_xscale('log')\n",
    "\n",
    "#ax.invert_yaxis()  # labels read top-to-bottom\n",
    "ax.set_xlabel('Points')\n",
    "ax.set_title('SelectKBest()')\n",
    "\n",
    "# plt.show()\n",
    "\n",
    "\n",
    "\n",
    "\n",
    "\n"
   ]
  },
  {
   "cell_type": "markdown",
   "metadata": {},
   "source": [
    "# Step3B - Feature engineering using bag of words techniques.\n",
    "Additional to our custom feature space, we will create 6 more feature spaces using bag-of-words techniques  \n",
    "The following vectorizers below is another way of creating features for text input.  \n",
    "We will test the performance of these techniques independently from our custom features in Step 3A.  \n",
    "We will create vectorizers of these combinations:\n",
    "- 1-grams CountVectorizer\n",
    "- 2-grams CountVectorizer\n",
    "- 3-grams CountVectorizer\n",
    "- There are some significant data values in which you need not them as a training data set as it reduces the accuracy. in order to remove all those significant values we use term frequency and Inverse Data frequency \n",
    "- 1-grams TfidfVectorizer\n",
    "- 2-grams TfidfVectorizer\n",
    "- 3-grams TfidfVectorizer\n",
    "\n",
    "The type of N-gram function determines how the actual \"words\" should be created from the payload string  \n",
    "Each vectorizer is used later in Step4 in Pipeline objects before training  \n",
    "See report for further explanation"
   ]
  },
  {
   "cell_type": "markdown",
   "metadata": {},
   "source": [
    "### 1-Grams features\n",
    "create a Countvectorizer and TF-IDFvectorizer that uses 1-grams.  \n",
    "1-grams equals one feature for each letter/symbol recorded"
   ]
  },
  {
   "cell_type": "code",
   "execution_count": 18,
   "metadata": {},
   "outputs": [],
   "source": [
    "from sklearn.feature_extraction.text import CountVectorizer\n",
    "from sklearn.feature_extraction.text import TfidfVectorizer\n",
    "\n",
    "def get1Grams(payload_obj):\n",
    "    '''Divides a string into 1-grams\n",
    "    \n",
    "    Example: input - payload: \"<script>\"\n",
    "             output- [\"<\",\"s\",\"c\",\"r\",\"i\",\"p\",\"t\",\">\"]\n",
    "    '''\n",
    "    payload = str(payload_obj)\n",
    "    ngrams = []\n",
    "    for i in range(0,len(payload)-1):\n",
    "        ngrams.append(payload[i:i+1])\n",
    "    return ngrams\n",
    "\n",
    "tfidf_vectorizer_1grams = TfidfVectorizer(tokenizer=get1Grams)\n",
    "count_vectorizer_1grams = CountVectorizer(min_df=1, tokenizer=get1Grams)"
   ]
  },
  {
   "cell_type": "markdown",
   "metadata": {},
   "source": [
    "### 2-Grams features\n",
    "create a Countvectorizer and TF-IDFvectorizer that uses 2-grams.  "
   ]
  },
  {
   "cell_type": "code",
   "execution_count": 19,
   "metadata": {},
   "outputs": [],
   "source": [
    "def get2Grams(payload_obj):\n",
    "    '''Divides a string into 2-grams\n",
    "    \n",
    "    Example: input - payload: \"<script>\"\n",
    "             output- [\"<s\",\"sc\",\"cr\",\"ri\",\"ip\",\"pt\",\"t>\"]\n",
    "    '''\n",
    "    payload = str(payload_obj)\n",
    "    ngrams = []\n",
    "    for i in range(0,len(payload)-2):\n",
    "        ngrams.append(payload[i:i+2])\n",
    "    return ngrams\n",
    "\n",
    "tfidf_vectorizer_2grams = TfidfVectorizer(tokenizer=get2Grams)\n",
    "count_vectorizer_2grams = CountVectorizer(min_df=1, tokenizer=get2Grams)"
   ]
  },
  {
   "cell_type": "markdown",
   "metadata": {},
   "source": [
    "### 3-Grams features\n",
    "Create a Countvectorizer and TF-IDFvectorizer that uses 3-grams"
   ]
  },
  {
   "cell_type": "code",
   "execution_count": 20,
   "metadata": {},
   "outputs": [],
   "source": [
    "def get3Grams(payload_obj):\n",
    "    '''Divides a string into 3-grams\n",
    "    \n",
    "    Example: input - payload: \"<script>\"\n",
    "             output- [\"<sc\",\"scr\",\"cri\",\"rip\",\"ipt\",\"pt>\"]\n",
    "    '''\n",
    "    payload = str(payload_obj)\n",
    "    ngrams = []\n",
    "    for i in range(0,len(payload)-3):\n",
    "        ngrams.append(payload[i:i+3])\n",
    "    return ngrams\n",
    "\n",
    "tfidf_vectorizer_3grams = TfidfVectorizer(tokenizer=get3Grams)\n",
    "count_vectorizer_3grams = CountVectorizer(min_df=1, tokenizer=get3Grams)"
   ]
  },
  {
   "cell_type": "markdown",
   "metadata": {},
   "source": [
    "## Step3C - Feature space visualization\n",
    "After creating our different feature spaces to later train each classifier on,  \n",
    "we first examine them visually by projecting the feature spaces into two dimensions using Principle Component Analysis  \n",
    "Graphs are shown below displaying the data in 3 out of 7 of our feature spaces"
   ]
  },
  {
   "cell_type": "code",
   "execution_count": 22,
   "metadata": {},
   "outputs": [],
   "source": [
    "def visualize_feature_space_by_projection(X,Y,title='PCA'):\n",
    "    '''Plot a two-dimensional projection of the dataset in the specified feature space\n",
    "    \n",
    "    input: X - data\n",
    "           Y - labels\n",
    "           title - title of plot\n",
    "    '''\n",
    "    pca = TruncatedSVD(n_components=2)\n",
    "    X_r = pca.fit(X).transform(X)\n",
    "\n",
    "    # Percentage of variance explained for each components\n",
    "    print('explained variance ratio (first two components): %s'\n",
    "          % str(pca.explained_variance_ratio_))\n",
    "\n",
    "    plt.figure()\n",
    "    colors = ['blue', 'darkorange']\n",
    "    lw = 2\n",
    "\n",
    "    #Plot malicious and non-malicious separately with different colors\n",
    "    for color, i, y in zip(colors, [0, 1], Y):\n",
    "        plt.scatter(X_r[Y == i, 0], X_r[Y == i, 1], color=color, alpha=.3, lw=lw,\n",
    "                    label=i)\n",
    "        \n",
    "    plt.legend(loc='best', shadow=False, scatterpoints=1)\n",
    "    plt.title(title)\n",
    "    plt.show()"
   ]
  },
  {
   "cell_type": "markdown",
   "metadata": {},
   "source": [
    "### 1-Grams CountVectorizer feature space visualization"
   ]
  },
  {
   "cell_type": "code",
   "execution_count": 23,
   "metadata": {},
   "outputs": [],
   "source": [
    "from sklearn.decomposition import TruncatedSVD\n",
    "\n",
    "X = count_vectorizer_1grams.fit_transform(payloads['payload'].apply(lambda x: np.str_(x)))\n",
    "# (payloads['payload'].values.astype('U'))\n",
    "# (payloads['payload'].apply(lambda x: np.str_(x)))\n",
    "Y = payloads['is_malicious']\n",
    "# visualize_feature_space_by_projection(X,Y,title='PCA visualization of 1-grams CountVectorizer feature space')"
   ]
  },
  {
   "cell_type": "markdown",
   "metadata": {},
   "source": [
    "### 3-Grams TFIDFVectorizer feature space visualization"
   ]
  },
  {
   "cell_type": "code",
   "execution_count": 24,
   "metadata": {},
   "outputs": [],
   "source": [
    "X = tfidf_vectorizer_3grams.fit_transform(payloads['payload'].apply(lambda x: np.str_(x)))\n",
    "Y = payloads['is_malicious']\n",
    "# visualize_feature_space_by_projection(X,Y,title='PCA visualization of 3-grams TFIDFVectorizer feature space')"
   ]
  },
  {
   "cell_type": "markdown",
   "metadata": {},
   "source": [
    "### Custom feature space visualization"
   ]
  },
  {
   "cell_type": "code",
   "execution_count": 25,
   "metadata": {},
   "outputs": [],
   "source": [
    "X = create_features(pd.DataFrame(payloads['payload'].copy()))\n",
    "Y = payloads['is_malicious']\n",
    "# visualize_feature_space_by_projection(X,Y,title='PCA visualization of custom feature space')"
   ]
  },
  {
   "cell_type": "markdown",
   "metadata": {},
   "source": [
    "#  Step4 - Model selection and evaluation"
   ]
  },
  {
   "cell_type": "markdown",
   "metadata": {},
   "source": [
    "First, we will automate hyperparameter tuning and out of sample testing using train_model below"
   ]
  },
  {
   "cell_type": "code",
   "execution_count": 26,
   "metadata": {},
   "outputs": [],
   "source": [
    "def train_model(clf, param_grid, X, Y):\n",
    "    '''Trains and evaluates the model clf from input\n",
    "    \n",
    "    The function selects the best model of clf by optimizing for the validation data,\n",
    "    then evaluates its performance using the out of sample test data.\n",
    "    \n",
    "    input - clf: the model to train\n",
    "            param_grid: a dict of hyperparameters to use for optimization\n",
    "            X: features\n",
    "            Y: labels\n",
    "    \n",
    "    output - the best estimator (trained model)\n",
    "             the confusion matrix from classifying the test data\n",
    "    '''\n",
    "    \n",
    "    #First, partition into train and test data\n",
    "    X_train, X_test, Y_train, Y_test = train_test_split(X, Y, test_size=0.2, random_state=42)\n",
    "\n",
    "    max_iter = 5\n",
    "    #If number of possible iterations are less than prefered number of iterations, \n",
    "    #set it to the number of possible iterations\n",
    "    #number of possible iterations are not less than prefered number of iterations if any argument is expon()\n",
    "    #because expon() is continous (writing 100 instead, could be any large number)\n",
    "    max_iter = min(max_iter,np.prod([\n",
    "        100 if type(xs) == type(expon()) \n",
    "        else len(xs) \n",
    "        for xs in param_grid.values()\n",
    "    ]))\n",
    "    \n",
    "    #perform a grid search for the best parameters on the training data.\n",
    "    #Cross validation is made to select the parameters, so the training data is actually split into\n",
    "    #a new train data set and a validation data set, K number of times\n",
    "    cv = ShuffleSplit(len(X_train), test_size=0.2, random_state=0) #DEBUG: n_iter=10\n",
    "    #cv = KFold(n=len(X), n_folds=10)\n",
    "    random_grid_search = RandomizedSearchCV(\n",
    "        clf, \n",
    "        param_distributions=param_grid,\n",
    "        cv=cv, \n",
    "        scoring='f1', \n",
    "#         max_iter=max_iter, #DEBUG 1 \n",
    "        random_state=5,\n",
    "        refit=True,\n",
    "        verbose=10\n",
    "    )\n",
    "    \n",
    "    '''Randomized search used instead. We have limited computing power\n",
    "    grid_search = GridSearchCV(\n",
    "        clf,\n",
    "        param_grid=param_grid,\n",
    "        cv=cv,\n",
    "        scoring='f1', #accuracy/f1/f1_weighted all give same result?\n",
    "        verbose=10,\n",
    "        n_jobs=-1\n",
    "    )\n",
    "    grid_search.fit(X_train, Y_train)\n",
    "    '''\n",
    "    random_grid_search.fit(X_train, Y_train)\n",
    "    \n",
    "    #Evaluate the best model on the test data\n",
    "    Y_test_predicted = random_grid_search.best_estimator_.predict(X_test)\n",
    "    Y_test_predicted_prob = random_grid_search.best_estimator_.predict_proba(X_test)[:, 1]\n",
    "\n",
    "    confusion = confusion_matrix(Y_test, Y_test_predicted)\n",
    "    TP = confusion[1, 1]\n",
    "    TN = confusion[0, 0]\n",
    "    FP = confusion[0, 1]\n",
    "    FN = confusion[1, 0]\n",
    "\n",
    "    #Calculate recall (sensitivity) from confusion matrix\n",
    "    sensitivity = TP / float(TP + FN)\n",
    "    \n",
    "    #Calculate specificity from confusion matrix\n",
    "    specificity = TN / float(TN + FP)\n",
    "\n",
    "    #Calculate accuracy\n",
    "    accuracy = (confusion[0][0] + confusion[1][1]) / (confusion.sum().sum())\n",
    "    \n",
    "    #Calculate axes of ROC curve\n",
    "    fpr, tpr, thresholds = roc_curve(Y_test, Y_test_predicted_prob)\n",
    "    \n",
    "    #Area under the ROC curve\n",
    "    auc = roc_auc_score(Y_test, Y_test_predicted_prob)\n",
    "\n",
    "    return {\n",
    "        'conf_matrix':confusion, \n",
    "        'accuracy':accuracy, \n",
    "        'sensitivity':sensitivity,\n",
    "        'specificity':specificity,\n",
    "        'auc':auc,\n",
    "        'params':random_grid_search.best_params_,\n",
    "        'model':random_grid_search.best_estimator_,\n",
    "        'roc':{'fpr':fpr,'tpr':tpr,'thresholds':thresholds}\n",
    "    }\n"
   ]
  },
  {
   "cell_type": "markdown",
   "metadata": {},
   "source": [
    "Then, we will use the train_model function to train, optimize and retrieve out of sample testing results from a range of classifiers.  \n",
    "Classifiers tested using our custom feature space:\n",
    " - AdaBoost\n",
    " - SGD classifier \n",
    " - MultiLayerPerceptron classifier\n",
    " - Logistic Regression\n",
    " - Support Vector Machine\n",
    " - Random forest\n",
    " - Decision Tree\n",
    " - Multinomial Naive Bayes\n",
    "\n",
    "Classifiers tested using bag-of-words feature spaces:\n",
    " - MultiLayerPerceptron classifier\n",
    " - Logistic Regression\n",
    " - Support Vector Machine\n",
    " - Random forest\n",
    " - Multinomial Naive Bayes\n",
    " \n",
    " Some classifiers were unable to train using a bag-of-words feature space because they couldn't handle sparse graphs\n",
    " \n",
    " All their best parameters with their performance is stored in a dataframe called classifier_results"
   ]
  },
  {
   "cell_type": "markdown",
   "metadata": {},
   "source": [
    "Make dictionary of models with parameters to optimize using bag-of-words feature spaces"
   ]
  },
  {
   "cell_type": "code",
   "execution_count": 126,
   "metadata": {},
   "outputs": [],
   "source": [
    "def create_classifier_inputs_using_vectorizers(vectorizer, subscript):\n",
    "    '''make pipelines of the specified vectorizer with the classifiers to train\n",
    "    \n",
    "    input - vectorizer: the vectorizer to add to the pipelines\n",
    "            subscript:  subscript name for the dictionary key\n",
    "            \n",
    "    output - A dict of inputs to use for train_model(); a pipeline and a dict of params to optimize\n",
    "    '''\n",
    "    \n",
    "    classifier_inputs = {}\n",
    "    \n",
    "    classifier_inputs[subscript + ' RandomForest'] = {\n",
    "        'pipeline':Pipeline([('vect', vectorizer),('clf',RandomForestClassifier(\n",
    "            max_depth=None,min_samples_split=2, random_state=0))]),\n",
    "        'dict_params': {\n",
    "#             'vect__min_df':[1],#,2,5,10,20,40\n",
    "#             'clf__n_estimators':[10]#,20,40,60\n",
    "        }\n",
    "    }\n",
    "    '''\n",
    "    classifier_inputs[subscript + ' MLPClassifier'] = {\n",
    "        'pipeline':Pipeline([('vect', vectorizer),('clf',MLPClassifier(\n",
    "            activation='relu',\n",
    "            solver='adam',\n",
    "            early_stopping=False,\n",
    "            verbose=True\n",
    "            \n",
    "        ))]),\n",
    "        'dict_params': {\n",
    "            'vect__min_df':[1,2,5,10,20,40],\n",
    "            'clf__hidden_layer_sizes':[(500,250,125,62)],\n",
    "            'clf__alpha':[0.0005,0.001,0.01,0.1,1],\n",
    "            'clf__learning_rate':['constant','invscaling'],\n",
    "            'clf__learning_rate_init':[0.001,0.01,0.1,1],\n",
    "            'clf__momentum':[0,0.9],\n",
    "        }\n",
    "    }\n",
    "\n",
    "    classifier_inputs[subscript + ' MultinomialNB'] = {\n",
    "        'pipeline':Pipeline([('vect', vectorizer),('clf',MultinomialNB())]),\n",
    "        'dict_params': {\n",
    "            'vect__min_df':[1,2,5,10,20,40]\n",
    "        }\n",
    "    }\n",
    "\n",
    "    classifier_inputs[subscript + ' Logistic'] = {\n",
    "        'pipeline':Pipeline([('vect', vectorizer), ('clf',LogisticRegression())]),\n",
    "        'dict_params': {\n",
    "            'vect__min_df':[1,2,5,10,20,40],\n",
    "            'clf__C':[0.001, 0.01, 0.1, 1, 10, 100, 1000]\n",
    "        }\n",
    "    }\n",
    "    classifier_inputs[subscript + ' SVM'] = { \n",
    "        'pipeline':Pipeline([('vect', vectorizer), ('clf',SVC(probability=True))]),\n",
    "        'dict_params': {\n",
    "            'vect__min_df':[1,2,5,10,20,40],\n",
    "            'clf__C':[0.001, 0.01, 0.1, 1, 10, 100, 1000],\n",
    "            'clf__gamma':[0.001, 0.0001,'auto'],\n",
    "            'clf__kernel':['rbf']\n",
    "        }\n",
    "    }\n",
    "    '''\n",
    "    \n",
    "    return classifier_inputs\n"
   ]
  },
  {
   "cell_type": "markdown",
   "metadata": {},
   "source": [
    "Make dictionary of models with parameters to optimize using custom feature spaces"
   ]
  },
  {
   "cell_type": "code",
   "execution_count": 127,
   "metadata": {},
   "outputs": [],
   "source": [
    "def create_classifier_inputs(subscript):\n",
    "    \n",
    "    classifier_inputs = {}\n",
    "    \n",
    "    classifier_inputs[subscript + ' RandomForest'] = {\n",
    "        'pipeline':RandomForestClassifier(\n",
    "            max_depth=None,min_samples_split=2, random_state=0),\n",
    "        'dict_params': {\n",
    "            'n_estimators':[10]#,20,40,60\n",
    "        }\n",
    "    }\n",
    "    '''\n",
    "    classifier_inputs[subscript + ' GPC'] = {\n",
    "        'pipeline':GaussianProcessClassifier(),\n",
    "        'dict_params': {\n",
    "            'kernel':[\n",
    "                1.0*kernels.RBF(1.0),\n",
    "                1.0*kernels.Matern(),\n",
    "                1.0*kernels.RationalQuadratic(),\n",
    "                1.0*kernels.DotProduct()\n",
    "            ]\n",
    "        }\n",
    "    }\n",
    "    classifier_inputs[subscript + ' AdaBoostClassifier'] = {\n",
    "        'pipeline':AdaBoostClassifier(n_estimators=100),\n",
    "        'dict_params': {\n",
    "            'n_estimators':[10,20,50, 100], \n",
    "            'learning_rate':[0.1, 0.5, 1.0, 2.0]\n",
    "        }\n",
    "    }\n",
    "    classifier_inputs[subscript + ' SGD'] = {\n",
    "        'pipeline':SGDClassifier(loss=\"log\", penalty=\"l2\"),\n",
    "        'dict_params': {\n",
    "            'learning_rate': ['optimal']\n",
    "        }\n",
    "    }\n",
    "\n",
    "    classifier_inputs[subscript + ' DecisionTree'] = {\n",
    "        'pipeline':  DecisionTreeClassifier(max_depth=5),\n",
    "        'dict_params': {\n",
    "            'min_samples_split': [2]\n",
    "        }\n",
    "    }\n",
    "\n",
    "    classifier_inputs[subscript + ' MLPClassifier'] = {\n",
    "        'pipeline':MLPClassifier(\n",
    "            activation='relu',\n",
    "            solver='adam',\n",
    "            early_stopping=False,\n",
    "            verbose=True\n",
    "            \n",
    "        ),\n",
    "        'dict_params': {\n",
    "            'hidden_layer_sizes':[(300, 200, 150, 150), (30, 30, 30), (150, 30, 30, 150), \n",
    "                                  (400, 250, 100, 100) , (150, 200, 300)],\n",
    "            'alpha':[0.0005,0.001,0.01,0.1,1],\n",
    "            'learning_rate':['constant','invscaling'],\n",
    "            'learning_rate_init':[0.0005,0.001,0.01,0.1,1],\n",
    "            'momentum':[0,0.9],\n",
    "        }\n",
    "    }\n",
    "\n",
    "    classifier_inputs[subscript + ' Logistic'] = {\n",
    "        'pipeline':LogisticRegression(),\n",
    "        'dict_params': {\n",
    "            'C': [0.001, 0.01, 0.1, 1, 10, 100, 1000]\n",
    "        }\n",
    "    }\n",
    "    classifier_inputs[subscript + ' MultinomialNB'] = {\n",
    "        'pipeline':MultinomialNB(),\n",
    "        'dict_params': {\n",
    "            'alpha': [1.0]\n",
    "        }\n",
    "    }\n",
    "    \n",
    "    classifier_inputs[subscript + ' SVM'] = {\n",
    "        'pipeline':SVC(probability=True),\n",
    "        'dict_params': {\n",
    "            'C':[0.001, 0.01, 0.1, 1, 10, 100, 1000],\n",
    "            'gamma':[0.001, 0.0001,'auto'],\n",
    "            'kernel':['rbf']\n",
    "        }\n",
    "    }\n",
    "    '''\n",
    "    return classifier_inputs\n",
    "    "
   ]
  },
  {
   "cell_type": "markdown",
   "metadata": {},
   "source": [
    "Create a new result table"
   ]
  },
  {
   "cell_type": "code",
   "execution_count": 128,
   "metadata": {},
   "outputs": [
    {
     "data": {
      "text/html": [
       "<div>\n",
       "<style scoped>\n",
       "    .dataframe tbody tr th:only-of-type {\n",
       "        vertical-align: middle;\n",
       "    }\n",
       "\n",
       "    .dataframe tbody tr th {\n",
       "        vertical-align: top;\n",
       "    }\n",
       "\n",
       "    .dataframe thead th {\n",
       "        text-align: right;\n",
       "    }\n",
       "</style>\n",
       "<table border=\"1\" class=\"dataframe\">\n",
       "  <thead>\n",
       "    <tr style=\"text-align: right;\">\n",
       "      <th></th>\n",
       "      <th>accuracy</th>\n",
       "      <th>sensitivity</th>\n",
       "      <th>specificity</th>\n",
       "      <th>auc</th>\n",
       "      <th>conf_matrix</th>\n",
       "      <th>params</th>\n",
       "      <th>model</th>\n",
       "      <th>roc</th>\n",
       "    </tr>\n",
       "  </thead>\n",
       "  <tbody>\n",
       "  </tbody>\n",
       "</table>\n",
       "</div>"
      ],
      "text/plain": [
       "Empty DataFrame\n",
       "Columns: [accuracy, sensitivity, specificity, auc, conf_matrix, params, model, roc]\n",
       "Index: []"
      ]
     },
     "metadata": {},
     "output_type": "display_data"
    }
   ],
   "source": [
    "classifier_results = pd.DataFrame(columns=['accuracy','sensitivity','specificity','auc','conf_matrix','params','model','roc'])#,index=classifier_inputs.keys())\n",
    "display(classifier_results) "
   ]
  },
  {
   "cell_type": "markdown",
   "metadata": {},
   "source": [
    "# MY CUSTOM TRANSFORMATION USING COUNT AND TF-IDF "
   ]
  },
  {
   "cell_type": "code",
   "execution_count": 131,
   "metadata": {},
   "outputs": [],
   "source": [
    "from sklearn.feature_extraction.text import CountVectorizer, TfidfTransformer, TfidfVectorizer # Vectorizes the tokens into a matrix \n",
    "\n",
    "cv = CountVectorizer() \n",
    "count_vectorizer_1grams = CountVectorizer(min_df=1, tokenizer=get1Grams)\n",
    "count_vectorizer_1grams = CountVectorizer(min_df=1, tokenizer=get2Grams)\n",
    "count_vectorizer_1grams = CountVectorizer(min_df=1, tokenizer=get3Grams)\n",
    "\n",
    "tfidf_vectorizer_1grams = TfidfVectorizer(tokenizer=get1Grams)\n",
    "tfidf_vectorizer_1grams = TfidfVectorizer(tokenizer=get2Grams)\n",
    "tfidf_vectorizer_1grams = TfidfVectorizer(tokenizer=get3Grams)"
   ]
  },
  {
   "cell_type": "markdown",
   "metadata": {},
   "source": [
    "- PIPELINE A MODEL WITH A VECTORIZER / TRANSFORMER \n",
    "- GET THE TOKENIZED DATA \n",
    "- FIT THE TOKENIZED DATA USING A VECTORIZER \n",
    "- TRAIN_TEST_SPLIT USING FIT_TOKENIZED DATA & LABELLED DATA WITH TRAIN:TEST DATA RATIO \n",
    "- FIT THE MODEL WITH TRAINED DATA i.e. TRAINX, TRAINY \n",
    "- TEST THE MODEL \n",
    "- SERIALIZE THE MODEL --> DUMPING THE MODEL INTO PICKLE FILE \n",
    "- WEB INTEGRATION "
   ]
  },
  {
   "cell_type": "code",
   "execution_count": 132,
   "metadata": {},
   "outputs": [],
   "source": [
    "# PIPELINING WITH EVERY INDIVIDUAL MODEL WITH DIFFERENT N GRAMS \n",
    "from sklearn.pipeline import make_pipeline \n",
    "lr_count_1 = make_pipeline(count_vectorizer_1grams, LogisticRegression()) "
   ]
  },
  {
   "cell_type": "code",
   "execution_count": 133,
   "metadata": {},
   "outputs": [
    {
     "data": {
      "text/plain": [
       "<101840x54265 sparse matrix of type '<class 'numpy.int64'>'\n",
       "\twith 1219359 stored elements in Compressed Sparse Row format>"
      ]
     },
     "execution_count": 133,
     "metadata": {},
     "output_type": "execute_result"
    }
   ],
   "source": [
    "# AVOIDED THE ERROR OF UNABLE TO ALLOCATE 318 KIB BY CALLING ONLY count_vectorizer_1grams FUNCTION\n",
    "X = count_vectorizer_1grams.fit_transform(payloads['payload'].apply(lambda x: np.str_(x)))\n",
    "Y = payloads['is_malicious']\n",
    "X "
   ]
  },
  {
   "cell_type": "code",
   "execution_count": 134,
   "metadata": {},
   "outputs": [],
   "source": [
    "import xgboost as xgb\n",
    "xgb_classifier = xgb.XGBClassifier()\n",
    "\n",
    "from sklearn.ensemble import AdaBoostClassifier\n",
    "ada_classifier = AdaBoostClassifier()\n",
    "\n",
    "from sklearn.linear_model import SGDClassifier\n",
    "sgd_classifier = SGDClassifier() \n",
    "\n",
    "from sklearn.linear_model import LogisticRegression\n",
    "lr_classifier = LogisticRegression(max_iter = 110359) \n",
    "\n",
    "from sklearn.ensemble import RandomForestClassifier\n",
    "rf_classifier = RandomForestClassifier() \n",
    "\n",
    "from sklearn.svm import SVC\n",
    "svm_classifier = SVC() \n",
    "\n",
    "from sklearn.tree import DecisionTreeClassifier\n",
    "dt_classifier = DecisionTreeClassifier() \n",
    "\n",
    "from sklearn.naive_bayes import MultinomialNB\n",
    "mnb_classifier = MultinomialNB() "
   ]
  },
  {
   "cell_type": "code",
   "execution_count": null,
   "metadata": {},
   "outputs": [],
   "source": [
    "trainX, testX, trainY, testY = train_test_split(X, Y)"
   ]
  },
  {
   "cell_type": "code",
   "execution_count": null,
   "metadata": {},
   "outputs": [],
   "source": [
    "sgd_classifier.fit(trainX,trainY)"
   ]
  },
  {
   "cell_type": "code",
   "execution_count": 90,
   "metadata": {},
   "outputs": [
    {
     "data": {
      "text/plain": [
       "AdaBoostClassifier()"
      ]
     },
     "execution_count": 90,
     "metadata": {},
     "output_type": "execute_result"
    }
   ],
   "source": [
    "ada_classifier.fit(trainX,trainY)"
   ]
  },
  {
   "cell_type": "code",
   "execution_count": 91,
   "metadata": {},
   "outputs": [
    {
     "data": {
      "text/plain": [
       "SGDClassifier()"
      ]
     },
     "execution_count": 91,
     "metadata": {},
     "output_type": "execute_result"
    }
   ],
   "source": [
    "sgd_classifier.fit(trainX,trainY)"
   ]
  },
  {
   "cell_type": "code",
   "execution_count": 92,
   "metadata": {},
   "outputs": [
    {
     "data": {
      "text/plain": [
       "LogisticRegression(max_iter=110359)"
      ]
     },
     "execution_count": 92,
     "metadata": {},
     "output_type": "execute_result"
    }
   ],
   "source": [
    "lr_classifier.fit(trainX,trainY)"
   ]
  },
  {
   "cell_type": "code",
   "execution_count": 95,
   "metadata": {},
   "outputs": [
    {
     "data": {
      "text/plain": [
       "SVC()"
      ]
     },
     "execution_count": 95,
     "metadata": {},
     "output_type": "execute_result"
    }
   ],
   "source": [
    "svm_classifier.fit(trainX,trainY)"
   ]
  },
  {
   "cell_type": "code",
   "execution_count": 96,
   "metadata": {},
   "outputs": [
    {
     "data": {
      "text/plain": [
       "DecisionTreeClassifier()"
      ]
     },
     "execution_count": 96,
     "metadata": {},
     "output_type": "execute_result"
    }
   ],
   "source": [
    "dt_classifier.fit(trainX,trainY)"
   ]
  },
  {
   "cell_type": "code",
   "execution_count": 97,
   "metadata": {},
   "outputs": [
    {
     "data": {
      "text/plain": [
       "MultinomialNB()"
      ]
     },
     "execution_count": 97,
     "metadata": {},
     "output_type": "execute_result"
    }
   ],
   "source": [
    "mnb_classifier.fit(trainX,trainY)"
   ]
  },
  {
   "cell_type": "code",
   "execution_count": 100,
   "metadata": {},
   "outputs": [
    {
     "name": "stdout",
     "output_type": "stream",
     "text": [
      "D:\\1MYFILES\\ML_NGFW\\FIREWALLS\\-Machine-Learning-Web-Application-Firewall-and-Dataset-master\\gram_models\n"
     ]
    }
   ],
   "source": [
    "cd gram_models"
   ]
  },
  {
   "cell_type": "code",
   "execution_count": 102,
   "metadata": {},
   "outputs": [],
   "source": [
    "pickle.dump(xgb_classifier,open(\"xgb_classifier_cv_1.pkl\",\"wb\"))\n",
    "pickle.dump(ada_classifier,open(\"ada_classifier_cv_1.pkl\",\"wb\"))\n",
    "pickle.dump(sgd_classifier,open(\"sgd_classifier_cv_1.pkl\",\"wb\"))\n",
    "pickle.dump(lr_classifier,open(\"lr_classifier_cv_1.pkl\",\"wb\"))\n",
    "pickle.dump(rf_classifier,open(\"rf_classifier_cv_1.pkl\",\"wb\"))\n",
    "pickle.dump(svm_classifier,open(\"svm_classifier_cv_1.pkl\",\"wb\"))\n",
    "pickle.dump(dt_classifier,open(\"dt_classifier_cv_1.pkl\",\"wb\"))\n",
    "pickle.dump(mnb_classifier,open(\"mnb_classifier_cv_1.pkl\",\"wb\"))"
   ]
  },
  {
   "cell_type": "code",
   "execution_count": 103,
   "metadata": {},
   "outputs": [],
   "source": [
    "X = count_vectorizer_2grams.fit_transform(payloads['payload'].apply(lambda x: np.str_(x)))\n",
    "Y = payloads['is_malicious']"
   ]
  },
  {
   "cell_type": "code",
   "execution_count": 104,
   "metadata": {},
   "outputs": [],
   "source": [
    "trainX, testX, trainY, testY = train_test_split(X, Y, test_size = 0.2)"
   ]
  },
  {
   "cell_type": "code",
   "execution_count": 105,
   "metadata": {},
   "outputs": [
    {
     "data": {
      "text/plain": [
       "RandomForestClassifier()"
      ]
     },
     "execution_count": 105,
     "metadata": {},
     "output_type": "execute_result"
    }
   ],
   "source": [
    "rf_classifier.fit(trainX,trainY)"
   ]
  },
  {
   "cell_type": "code",
   "execution_count": 106,
   "metadata": {},
   "outputs": [
    {
     "data": {
      "text/plain": [
       "XGBClassifier(base_score=0.5, booster='gbtree', callbacks=None,\n",
       "              colsample_bylevel=1, colsample_bynode=1, colsample_bytree=1,\n",
       "              early_stopping_rounds=None, enable_categorical=False,\n",
       "              eval_metric=None, feature_types=None, gamma=0, gpu_id=-1,\n",
       "              grow_policy='depthwise', importance_type=None,\n",
       "              interaction_constraints='', learning_rate=0.300000012,\n",
       "              max_bin=256, max_cat_threshold=64, max_cat_to_onehot=4,\n",
       "              max_delta_step=0, max_depth=6, max_leaves=0, min_child_weight=1,\n",
       "              missing=nan, monotone_constraints='()', n_estimators=100,\n",
       "              n_jobs=0, num_parallel_tree=1, predictor='auto', random_state=0, ...)"
      ]
     },
     "execution_count": 106,
     "metadata": {},
     "output_type": "execute_result"
    }
   ],
   "source": [
    "xgb_classifier.fit(trainX,trainY)\n"
   ]
  },
  {
   "cell_type": "code",
   "execution_count": 107,
   "metadata": {},
   "outputs": [
    {
     "data": {
      "text/plain": [
       "AdaBoostClassifier()"
      ]
     },
     "execution_count": 107,
     "metadata": {},
     "output_type": "execute_result"
    }
   ],
   "source": [
    "ada_classifier.fit(trainX,trainY)\n"
   ]
  },
  {
   "cell_type": "code",
   "execution_count": 108,
   "metadata": {},
   "outputs": [
    {
     "data": {
      "text/plain": [
       "SGDClassifier()"
      ]
     },
     "execution_count": 108,
     "metadata": {},
     "output_type": "execute_result"
    }
   ],
   "source": [
    "sgd_classifier.fit(trainX,trainY)\n"
   ]
  },
  {
   "cell_type": "code",
   "execution_count": 109,
   "metadata": {},
   "outputs": [
    {
     "data": {
      "text/plain": [
       "LogisticRegression(max_iter=110359)"
      ]
     },
     "execution_count": 109,
     "metadata": {},
     "output_type": "execute_result"
    }
   ],
   "source": [
    "lr_classifier.fit(trainX,trainY)\n"
   ]
  },
  {
   "cell_type": "code",
   "execution_count": 110,
   "metadata": {},
   "outputs": [
    {
     "data": {
      "text/plain": [
       "SVC()"
      ]
     },
     "execution_count": 110,
     "metadata": {},
     "output_type": "execute_result"
    }
   ],
   "source": [
    "svm_classifier.fit(trainX,trainY)\n"
   ]
  },
  {
   "cell_type": "code",
   "execution_count": 111,
   "metadata": {},
   "outputs": [
    {
     "data": {
      "text/plain": [
       "DecisionTreeClassifier()"
      ]
     },
     "execution_count": 111,
     "metadata": {},
     "output_type": "execute_result"
    }
   ],
   "source": [
    "dt_classifier.fit(trainX,trainY)"
   ]
  },
  {
   "cell_type": "code",
   "execution_count": 112,
   "metadata": {},
   "outputs": [
    {
     "data": {
      "text/plain": [
       "MultinomialNB()"
      ]
     },
     "execution_count": 112,
     "metadata": {},
     "output_type": "execute_result"
    }
   ],
   "source": [
    "mnb_classifier.fit(trainX,trainY)"
   ]
  },
  {
   "cell_type": "code",
   "execution_count": 115,
   "metadata": {},
   "outputs": [],
   "source": [
    "pickle.dump(xgb_classifier,open(\"xgb_classifier_cv_2.pkl\",\"wb\"))\n",
    "pickle.dump(ada_classifier,open(\"ada_classifier_cv_2.pkl\",\"wb\"))\n",
    "pickle.dump(sgd_classifier,open(\"sgd_classifier_cv_2.pkl\",\"wb\"))\n",
    "pickle.dump(lr_classifier,open(\"lr_classifier_cv_2.pkl\",\"wb\"))\n",
    "pickle.dump(rf_classifier,open(\"rf_classifier_cv_2.pkl\",\"wb\"))\n",
    "pickle.dump(svm_classifier,open(\"svm_classifier_cv_2.pkl\",\"wb\"))\n",
    "pickle.dump(dt_classifier,open(\"dt_classifier_cv_2.pkl\",\"wb\"))\n",
    "pickle.dump(mnb_classifier,open(\"mnb_classifier_cv_2.pkl\",\"wb\"))"
   ]
  },
  {
   "cell_type": "code",
   "execution_count": 117,
   "metadata": {},
   "outputs": [],
   "source": [
    "X = count_vectorizer_3grams.fit_transform(payloads['payload'].apply(lambda x: np.str_(x)))\n",
    "Y = payloads['is_malicious']"
   ]
  },
  {
   "cell_type": "code",
   "execution_count": 118,
   "metadata": {},
   "outputs": [],
   "source": [
    "trainX, testX, trainY, testY = train_test_split(X, Y, test_size = 0.2)"
   ]
  },
  {
   "cell_type": "code",
   "execution_count": 119,
   "metadata": {},
   "outputs": [
    {
     "data": {
      "text/plain": [
       "RandomForestClassifier()"
      ]
     },
     "execution_count": 119,
     "metadata": {},
     "output_type": "execute_result"
    }
   ],
   "source": [
    "rf_classifier.fit(trainX,trainY)"
   ]
  },
  {
   "cell_type": "code",
   "execution_count": 120,
   "metadata": {},
   "outputs": [
    {
     "data": {
      "text/plain": [
       "XGBClassifier(base_score=0.5, booster='gbtree', callbacks=None,\n",
       "              colsample_bylevel=1, colsample_bynode=1, colsample_bytree=1,\n",
       "              early_stopping_rounds=None, enable_categorical=False,\n",
       "              eval_metric=None, feature_types=None, gamma=0, gpu_id=-1,\n",
       "              grow_policy='depthwise', importance_type=None,\n",
       "              interaction_constraints='', learning_rate=0.300000012,\n",
       "              max_bin=256, max_cat_threshold=64, max_cat_to_onehot=4,\n",
       "              max_delta_step=0, max_depth=6, max_leaves=0, min_child_weight=1,\n",
       "              missing=nan, monotone_constraints='()', n_estimators=100,\n",
       "              n_jobs=0, num_parallel_tree=1, predictor='auto', random_state=0, ...)"
      ]
     },
     "execution_count": 120,
     "metadata": {},
     "output_type": "execute_result"
    }
   ],
   "source": [
    "xgb_classifier.fit(trainX,trainY)\n"
   ]
  },
  {
   "cell_type": "code",
   "execution_count": 121,
   "metadata": {},
   "outputs": [
    {
     "data": {
      "text/plain": [
       "AdaBoostClassifier()"
      ]
     },
     "execution_count": 121,
     "metadata": {},
     "output_type": "execute_result"
    }
   ],
   "source": [
    "ada_classifier.fit(trainX,trainY)\n"
   ]
  },
  {
   "cell_type": "code",
   "execution_count": 122,
   "metadata": {},
   "outputs": [
    {
     "data": {
      "text/plain": [
       "SGDClassifier()"
      ]
     },
     "execution_count": 122,
     "metadata": {},
     "output_type": "execute_result"
    }
   ],
   "source": [
    "sgd_classifier.fit(trainX,trainY)\n"
   ]
  },
  {
   "cell_type": "code",
   "execution_count": 123,
   "metadata": {},
   "outputs": [
    {
     "data": {
      "text/plain": [
       "LogisticRegression(max_iter=110359)"
      ]
     },
     "execution_count": 123,
     "metadata": {},
     "output_type": "execute_result"
    }
   ],
   "source": [
    "lr_classifier.fit(trainX,trainY)\n"
   ]
  },
  {
   "cell_type": "code",
   "execution_count": 124,
   "metadata": {},
   "outputs": [
    {
     "data": {
      "text/plain": [
       "SVC()"
      ]
     },
     "execution_count": 124,
     "metadata": {},
     "output_type": "execute_result"
    }
   ],
   "source": [
    "svm_classifier.fit(trainX,trainY)\n"
   ]
  },
  {
   "cell_type": "code",
   "execution_count": 125,
   "metadata": {},
   "outputs": [
    {
     "data": {
      "text/plain": [
       "DecisionTreeClassifier()"
      ]
     },
     "execution_count": 125,
     "metadata": {},
     "output_type": "execute_result"
    }
   ],
   "source": [
    "dt_classifier.fit(trainX,trainY)\n"
   ]
  },
  {
   "cell_type": "code",
   "execution_count": 126,
   "metadata": {},
   "outputs": [
    {
     "data": {
      "text/plain": [
       "MultinomialNB()"
      ]
     },
     "execution_count": 126,
     "metadata": {},
     "output_type": "execute_result"
    }
   ],
   "source": [
    "mnb_classifier.fit(trainX,trainY)"
   ]
  },
  {
   "cell_type": "code",
   "execution_count": 127,
   "metadata": {},
   "outputs": [],
   "source": [
    "pickle.dump(xgb_classifier,open(\"xgb_classifier_cv_3.pkl\",\"wb\"))\n",
    "pickle.dump(ada_classifier,open(\"ada_classifier_cv_3.pkl\",\"wb\"))\n",
    "pickle.dump(sgd_classifier,open(\"sgd_classifier_cv_3.pkl\",\"wb\"))\n",
    "pickle.dump(lr_classifier,open(\"lr_classifier_cv_3.pkl\",\"wb\"))\n",
    "pickle.dump(rf_classifier,open(\"rf_classifier_cv_3.pkl\",\"wb\"))\n",
    "pickle.dump(svm_classifier,open(\"svm_classifier_cv_3.pkl\",\"wb\"))\n",
    "pickle.dump(dt_classifier,open(\"dt_classifier_cv_3.pkl\",\"wb\"))\n",
    "pickle.dump(mnb_classifier,open(\"mnb_classifier_cv_3.pkl\",\"wb\"))"
   ]
  },
  {
   "cell_type": "markdown",
   "metadata": {},
   "source": [
    "# TF-IDF N GRAMS VECTORIZERS"
   ]
  },
  {
   "cell_type": "code",
   "execution_count": 128,
   "metadata": {},
   "outputs": [],
   "source": [
    "X = tfidf_vectorizer_1grams.fit_transform(payloads['payload'].apply(lambda x: np.str_(x)))\n",
    "Y = payloads['is_malicious']"
   ]
  },
  {
   "cell_type": "code",
   "execution_count": 129,
   "metadata": {},
   "outputs": [],
   "source": [
    "trainX, testX, trainY, testY = train_test_split(X, Y, test_size = 0.2)"
   ]
  },
  {
   "cell_type": "code",
   "execution_count": 130,
   "metadata": {},
   "outputs": [
    {
     "data": {
      "text/plain": [
       "RandomForestClassifier()"
      ]
     },
     "execution_count": 130,
     "metadata": {},
     "output_type": "execute_result"
    }
   ],
   "source": [
    "rf_classifier.fit(trainX,trainY)\n"
   ]
  },
  {
   "cell_type": "code",
   "execution_count": 131,
   "metadata": {},
   "outputs": [
    {
     "data": {
      "text/plain": [
       "XGBClassifier(base_score=0.5, booster='gbtree', callbacks=None,\n",
       "              colsample_bylevel=1, colsample_bynode=1, colsample_bytree=1,\n",
       "              early_stopping_rounds=None, enable_categorical=False,\n",
       "              eval_metric=None, feature_types=None, gamma=0, gpu_id=-1,\n",
       "              grow_policy='depthwise', importance_type=None,\n",
       "              interaction_constraints='', learning_rate=0.300000012,\n",
       "              max_bin=256, max_cat_threshold=64, max_cat_to_onehot=4,\n",
       "              max_delta_step=0, max_depth=6, max_leaves=0, min_child_weight=1,\n",
       "              missing=nan, monotone_constraints='()', n_estimators=100,\n",
       "              n_jobs=0, num_parallel_tree=1, predictor='auto', random_state=0, ...)"
      ]
     },
     "execution_count": 131,
     "metadata": {},
     "output_type": "execute_result"
    }
   ],
   "source": [
    "xgb_classifier.fit(trainX,trainY)\n"
   ]
  },
  {
   "cell_type": "code",
   "execution_count": 132,
   "metadata": {},
   "outputs": [
    {
     "data": {
      "text/plain": [
       "AdaBoostClassifier()"
      ]
     },
     "execution_count": 132,
     "metadata": {},
     "output_type": "execute_result"
    }
   ],
   "source": [
    "ada_classifier.fit(trainX,trainY)\n"
   ]
  },
  {
   "cell_type": "code",
   "execution_count": 133,
   "metadata": {},
   "outputs": [
    {
     "data": {
      "text/plain": [
       "SGDClassifier()"
      ]
     },
     "execution_count": 133,
     "metadata": {},
     "output_type": "execute_result"
    }
   ],
   "source": [
    "sgd_classifier.fit(trainX,trainY)\n"
   ]
  },
  {
   "cell_type": "code",
   "execution_count": 134,
   "metadata": {},
   "outputs": [
    {
     "data": {
      "text/plain": [
       "LogisticRegression(max_iter=110359)"
      ]
     },
     "execution_count": 134,
     "metadata": {},
     "output_type": "execute_result"
    }
   ],
   "source": [
    "lr_classifier.fit(trainX,trainY)\n"
   ]
  },
  {
   "cell_type": "code",
   "execution_count": 135,
   "metadata": {},
   "outputs": [
    {
     "data": {
      "text/plain": [
       "SVC()"
      ]
     },
     "execution_count": 135,
     "metadata": {},
     "output_type": "execute_result"
    }
   ],
   "source": [
    "svm_classifier.fit(trainX,trainY)\n"
   ]
  },
  {
   "cell_type": "code",
   "execution_count": 136,
   "metadata": {},
   "outputs": [
    {
     "data": {
      "text/plain": [
       "DecisionTreeClassifier()"
      ]
     },
     "execution_count": 136,
     "metadata": {},
     "output_type": "execute_result"
    }
   ],
   "source": [
    "dt_classifier.fit(trainX,trainY)\n"
   ]
  },
  {
   "cell_type": "code",
   "execution_count": 137,
   "metadata": {},
   "outputs": [
    {
     "data": {
      "text/plain": [
       "MultinomialNB()"
      ]
     },
     "execution_count": 137,
     "metadata": {},
     "output_type": "execute_result"
    }
   ],
   "source": [
    "mnb_classifier.fit(trainX,trainY)"
   ]
  },
  {
   "cell_type": "code",
   "execution_count": 138,
   "metadata": {},
   "outputs": [
    {
     "name": "stdout",
     "output_type": "stream",
     "text": [
      "D:\\1MYFILES\\ML_NGFW\\FIREWALLS\\-Machine-Learning-Web-Application-Firewall-and-Dataset-master\n"
     ]
    }
   ],
   "source": [
    "cd .."
   ]
  },
  {
   "cell_type": "code",
   "execution_count": 139,
   "metadata": {},
   "outputs": [],
   "source": [
    "mkdir tf_gram_models"
   ]
  },
  {
   "cell_type": "code",
   "execution_count": 140,
   "metadata": {},
   "outputs": [
    {
     "name": "stdout",
     "output_type": "stream",
     "text": [
      "D:\\1MYFILES\\ML_NGFW\\FIREWALLS\\-Machine-Learning-Web-Application-Firewall-and-Dataset-master\\tf_gram_models\n"
     ]
    }
   ],
   "source": [
    "cd tf_gram_models"
   ]
  },
  {
   "cell_type": "code",
   "execution_count": 141,
   "metadata": {},
   "outputs": [],
   "source": [
    "pickle.dump(xgb_classifier,open(\"xgb_classifier_tf_1.pkl\",\"wb\"))\n",
    "pickle.dump(ada_classifier,open(\"ada_classifier_tf_1.pkl\",\"wb\"))\n",
    "pickle.dump(sgd_classifier,open(\"sgd_classifier_tf_1.pkl\",\"wb\"))\n",
    "pickle.dump(lr_classifier,open(\"lr_classifier_tf_1.pkl\",\"wb\"))\n",
    "pickle.dump(rf_classifier,open(\"rf_classifier_tf_1.pkl\",\"wb\"))\n",
    "pickle.dump(svm_classifier,open(\"svm_classifier_tf_1.pkl\",\"wb\"))\n",
    "pickle.dump(dt_classifier,open(\"dt_classifier_tf_1.pkl\",\"wb\"))\n",
    "pickle.dump(mnb_classifier,open(\"mnb_classifier_tf_1.pkl\",\"wb\"))"
   ]
  },
  {
   "cell_type": "code",
   "execution_count": 142,
   "metadata": {},
   "outputs": [],
   "source": [
    "X = tfidf_vectorizer_2grams.fit_transform(payloads['payload'].apply(lambda x: np.str_(x)))\n",
    "Y = payloads['is_malicious']"
   ]
  },
  {
   "cell_type": "code",
   "execution_count": 143,
   "metadata": {},
   "outputs": [],
   "source": [
    "trainX, testX, trainY, testY = train_test_split(X, Y, test_size = 0.2)"
   ]
  },
  {
   "cell_type": "code",
   "execution_count": 144,
   "metadata": {},
   "outputs": [
    {
     "data": {
      "text/plain": [
       "RandomForestClassifier()"
      ]
     },
     "execution_count": 144,
     "metadata": {},
     "output_type": "execute_result"
    }
   ],
   "source": [
    "rf_classifier.fit(trainX,trainY)\n"
   ]
  },
  {
   "cell_type": "code",
   "execution_count": 145,
   "metadata": {},
   "outputs": [
    {
     "data": {
      "text/plain": [
       "XGBClassifier(base_score=0.5, booster='gbtree', callbacks=None,\n",
       "              colsample_bylevel=1, colsample_bynode=1, colsample_bytree=1,\n",
       "              early_stopping_rounds=None, enable_categorical=False,\n",
       "              eval_metric=None, feature_types=None, gamma=0, gpu_id=-1,\n",
       "              grow_policy='depthwise', importance_type=None,\n",
       "              interaction_constraints='', learning_rate=0.300000012,\n",
       "              max_bin=256, max_cat_threshold=64, max_cat_to_onehot=4,\n",
       "              max_delta_step=0, max_depth=6, max_leaves=0, min_child_weight=1,\n",
       "              missing=nan, monotone_constraints='()', n_estimators=100,\n",
       "              n_jobs=0, num_parallel_tree=1, predictor='auto', random_state=0, ...)"
      ]
     },
     "execution_count": 145,
     "metadata": {},
     "output_type": "execute_result"
    }
   ],
   "source": [
    "xgb_classifier.fit(trainX,trainY)\n"
   ]
  },
  {
   "cell_type": "code",
   "execution_count": 146,
   "metadata": {},
   "outputs": [
    {
     "data": {
      "text/plain": [
       "AdaBoostClassifier()"
      ]
     },
     "execution_count": 146,
     "metadata": {},
     "output_type": "execute_result"
    }
   ],
   "source": [
    "ada_classifier.fit(trainX,trainY)\n"
   ]
  },
  {
   "cell_type": "code",
   "execution_count": 147,
   "metadata": {},
   "outputs": [
    {
     "data": {
      "text/plain": [
       "SGDClassifier()"
      ]
     },
     "execution_count": 147,
     "metadata": {},
     "output_type": "execute_result"
    }
   ],
   "source": [
    "sgd_classifier.fit(trainX,trainY)\n"
   ]
  },
  {
   "cell_type": "code",
   "execution_count": 148,
   "metadata": {},
   "outputs": [
    {
     "data": {
      "text/plain": [
       "LogisticRegression(max_iter=110359)"
      ]
     },
     "execution_count": 148,
     "metadata": {},
     "output_type": "execute_result"
    }
   ],
   "source": [
    "lr_classifier.fit(trainX,trainY)\n"
   ]
  },
  {
   "cell_type": "code",
   "execution_count": 149,
   "metadata": {},
   "outputs": [
    {
     "data": {
      "text/plain": [
       "SVC()"
      ]
     },
     "execution_count": 149,
     "metadata": {},
     "output_type": "execute_result"
    }
   ],
   "source": [
    "svm_classifier.fit(trainX,trainY)\n"
   ]
  },
  {
   "cell_type": "code",
   "execution_count": 150,
   "metadata": {},
   "outputs": [
    {
     "data": {
      "text/plain": [
       "DecisionTreeClassifier()"
      ]
     },
     "execution_count": 150,
     "metadata": {},
     "output_type": "execute_result"
    }
   ],
   "source": [
    "dt_classifier.fit(trainX,trainY)\n"
   ]
  },
  {
   "cell_type": "code",
   "execution_count": 151,
   "metadata": {},
   "outputs": [
    {
     "data": {
      "text/plain": [
       "MultinomialNB()"
      ]
     },
     "execution_count": 151,
     "metadata": {},
     "output_type": "execute_result"
    }
   ],
   "source": [
    "mnb_classifier.fit(trainX,trainY)"
   ]
  },
  {
   "cell_type": "code",
   "execution_count": 152,
   "metadata": {},
   "outputs": [],
   "source": [
    "pickle.dump(xgb_classifier,open(\"xgb_classifier_tf_2.pkl\",\"wb\"))\n",
    "pickle.dump(ada_classifier,open(\"ada_classifier_tf_2.pkl\",\"wb\"))\n",
    "pickle.dump(sgd_classifier,open(\"sgd_classifier_tf_2.pkl\",\"wb\"))\n",
    "pickle.dump(lr_classifier,open(\"lr_classifier_tf_2.pkl\",\"wb\"))\n",
    "pickle.dump(rf_classifier,open(\"rf_classifier_tf_2.pkl\",\"wb\"))\n",
    "pickle.dump(svm_classifier,open(\"svm_classifier_tf_2.pkl\",\"wb\"))\n",
    "pickle.dump(dt_classifier,open(\"dt_classifier_tf_2.pkl\",\"wb\"))\n",
    "pickle.dump(mnb_classifier,open(\"mnb_classifier_tf_2.pkl\",\"wb\"))"
   ]
  },
  {
   "cell_type": "code",
   "execution_count": 153,
   "metadata": {},
   "outputs": [],
   "source": [
    "X = tfidf_vectorizer_3grams.fit_transform(payloads['payload'].apply(lambda x: np.str_(x)))\n",
    "Y = payloads['is_malicious']"
   ]
  },
  {
   "cell_type": "code",
   "execution_count": 154,
   "metadata": {},
   "outputs": [],
   "source": [
    "trainX, testX, trainY, testY = train_test_split(X, Y, test_size = 0.2)"
   ]
  },
  {
   "cell_type": "code",
   "execution_count": 155,
   "metadata": {},
   "outputs": [
    {
     "data": {
      "text/plain": [
       "MultinomialNB()"
      ]
     },
     "execution_count": 155,
     "metadata": {},
     "output_type": "execute_result"
    }
   ],
   "source": [
    "rf_classifier.fit(trainX,trainY)\n",
    "xgb_classifier.fit(trainX,trainY)\n",
    "ada_classifier.fit(trainX,trainY)\n",
    "sgd_classifier.fit(trainX,trainY)\n",
    "lr_classifier.fit(trainX,trainY)\n",
    "svm_classifier.fit(trainX,trainY)\n",
    "dt_classifier.fit(trainX,trainY)\n",
    "mnb_classifier.fit(trainX,trainY)"
   ]
  },
  {
   "cell_type": "code",
   "execution_count": 156,
   "metadata": {},
   "outputs": [],
   "source": [
    "pickle.dump(xgb_classifier,open(\"xgb_classifier_tf_3.pkl\",\"wb\"))\n",
    "pickle.dump(ada_classifier,open(\"ada_classifier_tf_3.pkl\",\"wb\"))\n",
    "pickle.dump(sgd_classifier,open(\"sgd_classifier_tf_3.pkl\",\"wb\"))\n",
    "pickle.dump(lr_classifier,open(\"lr_classifier_tf_3.pkl\",\"wb\"))\n",
    "pickle.dump(rf_classifier,open(\"rf_classifier_tf_3.pkl\",\"wb\"))\n",
    "pickle.dump(svm_classifier,open(\"svm_classifier_tf_3.pkl\",\"wb\"))\n",
    "pickle.dump(dt_classifier,open(\"dt_classifier_tf_3.pkl\",\"wb\"))\n",
    "pickle.dump(mnb_classifier,open(\"mnb_classifier_tf_3.pkl\",\"wb\"))"
   ]
  },
  {
   "cell_type": "code",
   "execution_count": 4,
   "metadata": {},
   "outputs": [
    {
     "name": "stdout",
     "output_type": "stream",
     "text": [
      "D:\\1MYFILES\\ML_NGFW\\FIREWALLS\\-Machine-Learning-Web-Application-Firewall-and-Dataset-master\\gram_models\n"
     ]
    }
   ],
   "source": [
    "cd gram_models"
   ]
  },
  {
   "cell_type": "code",
   "execution_count": 5,
   "metadata": {},
   "outputs": [],
   "source": [
    "xgb = pickle.load(open(\"xgb_classifier_cv_1.pkl\", \"rb\")) \n",
    "ada = pickle.load(open(\"ada_classifier_cv_1.pkl\", \"rb\"))\n",
    "sgd = pickle.load(open(\"sgd_classifier_cv_1.pkl\", \"rb\"))\n",
    "lr = pickle.load(open(\"lr_classifier_cv_1.pkl\", \"rb\"))\n",
    "rf = pickle.load(open(\"rf_classifier_cv_1.pkl\", \"rb\"))\n",
    "svm = pickle.load(open(\"svm_classifier_cv_1.pkl\", \"rb\"))\n",
    "dt = pickle.load(open(\"dt_classifier_cv_1.pkl\", \"rb\"))\n",
    "mnb = pickle.load(open(\"mnb_classifier_cv_1.pkl\", \"rb\"))"
   ]
  },
  {
   "cell_type": "code",
   "execution_count": 135,
   "metadata": {},
   "outputs": [
    {
     "data": {
      "text/plain": [
       "<101840x54265 sparse matrix of type '<class 'numpy.int64'>'\n",
       "\twith 1219359 stored elements in Compressed Sparse Row format>"
      ]
     },
     "execution_count": 135,
     "metadata": {},
     "output_type": "execute_result"
    }
   ],
   "source": [
    "X = count_vectorizer_1grams.fit_transform(payloads['payload'].apply(lambda x: np.str_(x)))\n",
    "Y = payloads['is_malicious']\n",
    "X"
   ]
  },
  {
   "cell_type": "code",
   "execution_count": 136,
   "metadata": {},
   "outputs": [],
   "source": [
    "trainX, testX, trainY, testY = train_test_split(X, Y)"
   ]
  },
  {
   "cell_type": "code",
   "execution_count": 137,
   "metadata": {},
   "outputs": [
    {
     "data": {
      "text/plain": [
       "<25460x54265 sparse matrix of type '<class 'numpy.int64'>'\n",
       "\twith 298244 stored elements in Compressed Sparse Row format>"
      ]
     },
     "execution_count": 137,
     "metadata": {},
     "output_type": "execute_result"
    }
   ],
   "source": [
    "testX"
   ]
  },
  {
   "cell_type": "code",
   "execution_count": 139,
   "metadata": {},
   "outputs": [
    {
     "data": {
      "text/plain": [
       "SGDClassifier()"
      ]
     },
     "execution_count": 139,
     "metadata": {},
     "output_type": "execute_result"
    }
   ],
   "source": [
    "sgd_classifier.fit( trainX , trainY )"
   ]
  },
  {
   "cell_type": "code",
   "execution_count": 140,
   "metadata": {},
   "outputs": [
    {
     "data": {
      "text/plain": [
       "0.994776119402985"
      ]
     },
     "execution_count": 140,
     "metadata": {},
     "output_type": "execute_result"
    }
   ],
   "source": [
    "sgd_classifier.score( testX , testY ) "
   ]
  },
  {
   "cell_type": "code",
   "execution_count": 141,
   "metadata": {},
   "outputs": [
    {
     "data": {
      "text/plain": [
       "array([0., 0., 0., ..., 0., 0., 0.])"
      ]
     },
     "execution_count": 141,
     "metadata": {},
     "output_type": "execute_result"
    }
   ],
   "source": [
    "sgd_classifier.predict( testX ) \n"
   ]
  },
  {
   "cell_type": "code",
   "execution_count": 142,
   "metadata": {
    "scrolled": true
   },
   "outputs": [
    {
     "ename": "ValueError",
     "evalue": "X has 26 features, but SGDClassifier is expecting 54265 features as input.",
     "output_type": "error",
     "traceback": [
      "\u001b[1;31m---------------------------------------------------------------------------\u001b[0m",
      "\u001b[1;31mValueError\u001b[0m                                Traceback (most recent call last)",
      "Cell \u001b[1;32mIn [142], line 2\u001b[0m\n\u001b[0;32m      1\u001b[0m a \u001b[38;5;241m=\u001b[39m count_vectorizer_1grams\u001b[38;5;241m.\u001b[39mfit_transform([\u001b[38;5;124m'\u001b[39m\u001b[38;5;124m&kw=\u001b[39m\u001b[38;5;124m%\u001b[39m\u001b[38;5;124m27;alert\u001b[39m\u001b[38;5;132;01m%28%\u001b[39;00m\u001b[38;5;124m27XSS\u001b[39m\u001b[38;5;132;01m%27%\u001b[39;00m\u001b[38;5;124m29;//\u001b[39m\u001b[38;5;124m'\u001b[39m])\n\u001b[1;32m----> 2\u001b[0m \u001b[43msgd_classifier\u001b[49m\u001b[38;5;241;43m.\u001b[39;49m\u001b[43mpredict\u001b[49m\u001b[43m(\u001b[49m\u001b[43m \u001b[49m\u001b[43ma\u001b[49m\u001b[43m \u001b[49m\u001b[43m)\u001b[49m \n",
      "File \u001b[1;32m~\\anaconda3\\lib\\site-packages\\sklearn\\linear_model\\_base.py:425\u001b[0m, in \u001b[0;36mLinearClassifierMixin.predict\u001b[1;34m(self, X)\u001b[0m\n\u001b[0;32m    411\u001b[0m \u001b[38;5;28;01mdef\u001b[39;00m \u001b[38;5;21mpredict\u001b[39m(\u001b[38;5;28mself\u001b[39m, X):\n\u001b[0;32m    412\u001b[0m     \u001b[38;5;124;03m\"\"\"\u001b[39;00m\n\u001b[0;32m    413\u001b[0m \u001b[38;5;124;03m    Predict class labels for samples in X.\u001b[39;00m\n\u001b[0;32m    414\u001b[0m \n\u001b[1;32m   (...)\u001b[0m\n\u001b[0;32m    423\u001b[0m \u001b[38;5;124;03m        Vector containing the class labels for each sample.\u001b[39;00m\n\u001b[0;32m    424\u001b[0m \u001b[38;5;124;03m    \"\"\"\u001b[39;00m\n\u001b[1;32m--> 425\u001b[0m     scores \u001b[38;5;241m=\u001b[39m \u001b[38;5;28;43mself\u001b[39;49m\u001b[38;5;241;43m.\u001b[39;49m\u001b[43mdecision_function\u001b[49m\u001b[43m(\u001b[49m\u001b[43mX\u001b[49m\u001b[43m)\u001b[49m\n\u001b[0;32m    426\u001b[0m     \u001b[38;5;28;01mif\u001b[39;00m \u001b[38;5;28mlen\u001b[39m(scores\u001b[38;5;241m.\u001b[39mshape) \u001b[38;5;241m==\u001b[39m \u001b[38;5;241m1\u001b[39m:\n\u001b[0;32m    427\u001b[0m         indices \u001b[38;5;241m=\u001b[39m (scores \u001b[38;5;241m>\u001b[39m \u001b[38;5;241m0\u001b[39m)\u001b[38;5;241m.\u001b[39mastype(\u001b[38;5;28mint\u001b[39m)\n",
      "File \u001b[1;32m~\\anaconda3\\lib\\site-packages\\sklearn\\linear_model\\_base.py:407\u001b[0m, in \u001b[0;36mLinearClassifierMixin.decision_function\u001b[1;34m(self, X)\u001b[0m\n\u001b[0;32m    387\u001b[0m \u001b[38;5;124;03m\"\"\"\u001b[39;00m\n\u001b[0;32m    388\u001b[0m \u001b[38;5;124;03mPredict confidence scores for samples.\u001b[39;00m\n\u001b[0;32m    389\u001b[0m \n\u001b[1;32m   (...)\u001b[0m\n\u001b[0;32m    403\u001b[0m \u001b[38;5;124;03m    this class would be predicted.\u001b[39;00m\n\u001b[0;32m    404\u001b[0m \u001b[38;5;124;03m\"\"\"\u001b[39;00m\n\u001b[0;32m    405\u001b[0m check_is_fitted(\u001b[38;5;28mself\u001b[39m)\n\u001b[1;32m--> 407\u001b[0m X \u001b[38;5;241m=\u001b[39m \u001b[38;5;28;43mself\u001b[39;49m\u001b[38;5;241;43m.\u001b[39;49m\u001b[43m_validate_data\u001b[49m\u001b[43m(\u001b[49m\u001b[43mX\u001b[49m\u001b[43m,\u001b[49m\u001b[43m \u001b[49m\u001b[43maccept_sparse\u001b[49m\u001b[38;5;241;43m=\u001b[39;49m\u001b[38;5;124;43m\"\u001b[39;49m\u001b[38;5;124;43mcsr\u001b[39;49m\u001b[38;5;124;43m\"\u001b[39;49m\u001b[43m,\u001b[49m\u001b[43m \u001b[49m\u001b[43mreset\u001b[49m\u001b[38;5;241;43m=\u001b[39;49m\u001b[38;5;28;43;01mFalse\u001b[39;49;00m\u001b[43m)\u001b[49m\n\u001b[0;32m    408\u001b[0m scores \u001b[38;5;241m=\u001b[39m safe_sparse_dot(X, \u001b[38;5;28mself\u001b[39m\u001b[38;5;241m.\u001b[39mcoef_\u001b[38;5;241m.\u001b[39mT, dense_output\u001b[38;5;241m=\u001b[39m\u001b[38;5;28;01mTrue\u001b[39;00m) \u001b[38;5;241m+\u001b[39m \u001b[38;5;28mself\u001b[39m\u001b[38;5;241m.\u001b[39mintercept_\n\u001b[0;32m    409\u001b[0m \u001b[38;5;28;01mreturn\u001b[39;00m scores\u001b[38;5;241m.\u001b[39mravel() \u001b[38;5;28;01mif\u001b[39;00m scores\u001b[38;5;241m.\u001b[39mshape[\u001b[38;5;241m1\u001b[39m] \u001b[38;5;241m==\u001b[39m \u001b[38;5;241m1\u001b[39m \u001b[38;5;28;01melse\u001b[39;00m scores\n",
      "File \u001b[1;32m~\\anaconda3\\lib\\site-packages\\sklearn\\base.py:585\u001b[0m, in \u001b[0;36mBaseEstimator._validate_data\u001b[1;34m(self, X, y, reset, validate_separately, **check_params)\u001b[0m\n\u001b[0;32m    582\u001b[0m     out \u001b[38;5;241m=\u001b[39m X, y\n\u001b[0;32m    584\u001b[0m \u001b[38;5;28;01mif\u001b[39;00m \u001b[38;5;129;01mnot\u001b[39;00m no_val_X \u001b[38;5;129;01mand\u001b[39;00m check_params\u001b[38;5;241m.\u001b[39mget(\u001b[38;5;124m\"\u001b[39m\u001b[38;5;124mensure_2d\u001b[39m\u001b[38;5;124m\"\u001b[39m, \u001b[38;5;28;01mTrue\u001b[39;00m):\n\u001b[1;32m--> 585\u001b[0m     \u001b[38;5;28;43mself\u001b[39;49m\u001b[38;5;241;43m.\u001b[39;49m\u001b[43m_check_n_features\u001b[49m\u001b[43m(\u001b[49m\u001b[43mX\u001b[49m\u001b[43m,\u001b[49m\u001b[43m \u001b[49m\u001b[43mreset\u001b[49m\u001b[38;5;241;43m=\u001b[39;49m\u001b[43mreset\u001b[49m\u001b[43m)\u001b[49m\n\u001b[0;32m    587\u001b[0m \u001b[38;5;28;01mreturn\u001b[39;00m out\n",
      "File \u001b[1;32m~\\anaconda3\\lib\\site-packages\\sklearn\\base.py:400\u001b[0m, in \u001b[0;36mBaseEstimator._check_n_features\u001b[1;34m(self, X, reset)\u001b[0m\n\u001b[0;32m    397\u001b[0m     \u001b[38;5;28;01mreturn\u001b[39;00m\n\u001b[0;32m    399\u001b[0m \u001b[38;5;28;01mif\u001b[39;00m n_features \u001b[38;5;241m!=\u001b[39m \u001b[38;5;28mself\u001b[39m\u001b[38;5;241m.\u001b[39mn_features_in_:\n\u001b[1;32m--> 400\u001b[0m     \u001b[38;5;28;01mraise\u001b[39;00m \u001b[38;5;167;01mValueError\u001b[39;00m(\n\u001b[0;32m    401\u001b[0m         \u001b[38;5;124mf\u001b[39m\u001b[38;5;124m\"\u001b[39m\u001b[38;5;124mX has \u001b[39m\u001b[38;5;132;01m{\u001b[39;00mn_features\u001b[38;5;132;01m}\u001b[39;00m\u001b[38;5;124m features, but \u001b[39m\u001b[38;5;132;01m{\u001b[39;00m\u001b[38;5;28mself\u001b[39m\u001b[38;5;241m.\u001b[39m\u001b[38;5;18m__class__\u001b[39m\u001b[38;5;241m.\u001b[39m\u001b[38;5;18m__name__\u001b[39m\u001b[38;5;132;01m}\u001b[39;00m\u001b[38;5;124m \u001b[39m\u001b[38;5;124m\"\u001b[39m\n\u001b[0;32m    402\u001b[0m         \u001b[38;5;124mf\u001b[39m\u001b[38;5;124m\"\u001b[39m\u001b[38;5;124mis expecting \u001b[39m\u001b[38;5;132;01m{\u001b[39;00m\u001b[38;5;28mself\u001b[39m\u001b[38;5;241m.\u001b[39mn_features_in_\u001b[38;5;132;01m}\u001b[39;00m\u001b[38;5;124m features as input.\u001b[39m\u001b[38;5;124m\"\u001b[39m\n\u001b[0;32m    403\u001b[0m     )\n",
      "\u001b[1;31mValueError\u001b[0m: X has 26 features, but SGDClassifier is expecting 54265 features as input."
     ]
    }
   ],
   "source": [
    "a = count_vectorizer_1grams.fit_transform(['&kw=%27;alert%28%27XSS%27%29;//'])\n",
    "sgd_classifier.predict( a ) \n"
   ]
  },
  {
   "cell_type": "code",
   "execution_count": 72,
   "metadata": {
    "scrolled": true
   },
   "outputs": [
    {
     "ename": "SyntaxError",
     "evalue": "invalid syntax (279245137.py, line 1)",
     "output_type": "error",
     "traceback": [
      "\u001b[1;36m  Cell \u001b[1;32mIn [72], line 1\u001b[1;36m\u001b[0m\n\u001b[1;33m    cd ~\\anaconda3\\lib\\site-packages\\sklearn\u001b[0m\n\u001b[1;37m       ^\u001b[0m\n\u001b[1;31mSyntaxError\u001b[0m\u001b[1;31m:\u001b[0m invalid syntax\n"
     ]
    }
   ],
   "source": [
    "cd ~\\anaconda3\\lib\\site-packages\\sklearn"
   ]
  },
  {
   "cell_type": "code",
   "execution_count": 45,
   "metadata": {},
   "outputs": [],
   "source": [
    "# ValueError: Feature shape mismatch, expected: 54265, got 172\n",
    "# ValueError: X has 172 features, but LogisticRegression is expecting 54265 features as input.\n",
    "# Train size != Test size to know the accuracy and predicting --> trying by not splitting the train & test data and building the model\n",
    "# ValueError: could not convert string to float: '&kw=%27;alert%28%27XSS%27%29;//' --> when trying to predict \n",
    "# ValueError: X has 26 features, but SGDClassifier is expecting 54265 features as input.\n",
    "# the column size jumped from 172 to 54265 --> {101840x54265}\n",
    "# because all the data features were included in the csv file "
   ]
  },
  {
   "cell_type": "code",
   "execution_count": 15,
   "metadata": {
    "collapsed": true
   },
   "outputs": [
    {
     "ename": "ValueError",
     "evalue": "Feature shape mismatch, expected: 54265, got 172",
     "output_type": "error",
     "traceback": [
      "\u001b[1;31m---------------------------------------------------------------------------\u001b[0m",
      "\u001b[1;31mValueError\u001b[0m                                Traceback (most recent call last)",
      "Cell \u001b[1;32mIn [15], line 2\u001b[0m\n\u001b[0;32m      1\u001b[0m scores \u001b[38;5;241m=\u001b[39m {} \n\u001b[1;32m----> 2\u001b[0m scores[\u001b[38;5;124m'\u001b[39m\u001b[38;5;124mxgb\u001b[39m\u001b[38;5;124m'\u001b[39m] \u001b[38;5;241m=\u001b[39m \u001b[43mxgb\u001b[49m\u001b[38;5;241;43m.\u001b[39;49m\u001b[43mscore\u001b[49m\u001b[43m(\u001b[49m\u001b[43mtestX\u001b[49m\u001b[43m,\u001b[49m\u001b[43mtestY\u001b[49m\u001b[43m)\u001b[49m\n\u001b[0;32m      3\u001b[0m scores[\u001b[38;5;124m'\u001b[39m\u001b[38;5;124mada\u001b[39m\u001b[38;5;124m'\u001b[39m] \u001b[38;5;241m=\u001b[39m ada\u001b[38;5;241m.\u001b[39mscore(testX,testY)\n\u001b[0;32m      4\u001b[0m scores[\u001b[38;5;124m'\u001b[39m\u001b[38;5;124msgd\u001b[39m\u001b[38;5;124m'\u001b[39m] \u001b[38;5;241m=\u001b[39m sgd\u001b[38;5;241m.\u001b[39mscore(testX,testY)\n",
      "File \u001b[1;32m~\\anaconda3\\lib\\site-packages\\sklearn\\base.py:651\u001b[0m, in \u001b[0;36mClassifierMixin.score\u001b[1;34m(self, X, y, sample_weight)\u001b[0m\n\u001b[0;32m    626\u001b[0m \u001b[38;5;124;03m\"\"\"\u001b[39;00m\n\u001b[0;32m    627\u001b[0m \u001b[38;5;124;03mReturn the mean accuracy on the given test data and labels.\u001b[39;00m\n\u001b[0;32m    628\u001b[0m \n\u001b[1;32m   (...)\u001b[0m\n\u001b[0;32m    647\u001b[0m \u001b[38;5;124;03m    Mean accuracy of ``self.predict(X)`` wrt. `y`.\u001b[39;00m\n\u001b[0;32m    648\u001b[0m \u001b[38;5;124;03m\"\"\"\u001b[39;00m\n\u001b[0;32m    649\u001b[0m \u001b[38;5;28;01mfrom\u001b[39;00m \u001b[38;5;21;01m.\u001b[39;00m\u001b[38;5;21;01mmetrics\u001b[39;00m \u001b[38;5;28;01mimport\u001b[39;00m accuracy_score\n\u001b[1;32m--> 651\u001b[0m \u001b[38;5;28;01mreturn\u001b[39;00m accuracy_score(y, \u001b[38;5;28;43mself\u001b[39;49m\u001b[38;5;241;43m.\u001b[39;49m\u001b[43mpredict\u001b[49m\u001b[43m(\u001b[49m\u001b[43mX\u001b[49m\u001b[43m)\u001b[49m, sample_weight\u001b[38;5;241m=\u001b[39msample_weight)\n",
      "File \u001b[1;32m~\\anaconda3\\lib\\site-packages\\xgboost\\sklearn.py:1551\u001b[0m, in \u001b[0;36mXGBClassifier.predict\u001b[1;34m(self, X, output_margin, ntree_limit, validate_features, base_margin, iteration_range)\u001b[0m\n\u001b[0;32m   1541\u001b[0m \u001b[38;5;28;01mdef\u001b[39;00m \u001b[38;5;21mpredict\u001b[39m(\n\u001b[0;32m   1542\u001b[0m     \u001b[38;5;28mself\u001b[39m,\n\u001b[0;32m   1543\u001b[0m     X: ArrayLike,\n\u001b[1;32m   (...)\u001b[0m\n\u001b[0;32m   1548\u001b[0m     iteration_range: Optional[Tuple[\u001b[38;5;28mint\u001b[39m, \u001b[38;5;28mint\u001b[39m]] \u001b[38;5;241m=\u001b[39m \u001b[38;5;28;01mNone\u001b[39;00m,\n\u001b[0;32m   1549\u001b[0m ) \u001b[38;5;241m-\u001b[39m\u001b[38;5;241m>\u001b[39m np\u001b[38;5;241m.\u001b[39mndarray:\n\u001b[0;32m   1550\u001b[0m     \u001b[38;5;28;01mwith\u001b[39;00m config_context(verbosity\u001b[38;5;241m=\u001b[39m\u001b[38;5;28mself\u001b[39m\u001b[38;5;241m.\u001b[39mverbosity):\n\u001b[1;32m-> 1551\u001b[0m         class_probs \u001b[38;5;241m=\u001b[39m \u001b[38;5;28;43msuper\u001b[39;49m\u001b[43m(\u001b[49m\u001b[43m)\u001b[49m\u001b[38;5;241;43m.\u001b[39;49m\u001b[43mpredict\u001b[49m\u001b[43m(\u001b[49m\n\u001b[0;32m   1552\u001b[0m \u001b[43m            \u001b[49m\u001b[43mX\u001b[49m\u001b[38;5;241;43m=\u001b[39;49m\u001b[43mX\u001b[49m\u001b[43m,\u001b[49m\n\u001b[0;32m   1553\u001b[0m \u001b[43m            \u001b[49m\u001b[43moutput_margin\u001b[49m\u001b[38;5;241;43m=\u001b[39;49m\u001b[43moutput_margin\u001b[49m\u001b[43m,\u001b[49m\n\u001b[0;32m   1554\u001b[0m \u001b[43m            \u001b[49m\u001b[43mntree_limit\u001b[49m\u001b[38;5;241;43m=\u001b[39;49m\u001b[43mntree_limit\u001b[49m\u001b[43m,\u001b[49m\n\u001b[0;32m   1555\u001b[0m \u001b[43m            \u001b[49m\u001b[43mvalidate_features\u001b[49m\u001b[38;5;241;43m=\u001b[39;49m\u001b[43mvalidate_features\u001b[49m\u001b[43m,\u001b[49m\n\u001b[0;32m   1556\u001b[0m \u001b[43m            \u001b[49m\u001b[43mbase_margin\u001b[49m\u001b[38;5;241;43m=\u001b[39;49m\u001b[43mbase_margin\u001b[49m\u001b[43m,\u001b[49m\n\u001b[0;32m   1557\u001b[0m \u001b[43m            \u001b[49m\u001b[43miteration_range\u001b[49m\u001b[38;5;241;43m=\u001b[39;49m\u001b[43miteration_range\u001b[49m\u001b[43m,\u001b[49m\n\u001b[0;32m   1558\u001b[0m \u001b[43m        \u001b[49m\u001b[43m)\u001b[49m\n\u001b[0;32m   1559\u001b[0m         \u001b[38;5;28;01mif\u001b[39;00m output_margin:\n\u001b[0;32m   1560\u001b[0m             \u001b[38;5;66;03m# If output_margin is active, simply return the scores\u001b[39;00m\n\u001b[0;32m   1561\u001b[0m             \u001b[38;5;28;01mreturn\u001b[39;00m class_probs\n",
      "File \u001b[1;32m~\\anaconda3\\lib\\site-packages\\xgboost\\sklearn.py:1140\u001b[0m, in \u001b[0;36mXGBModel.predict\u001b[1;34m(self, X, output_margin, ntree_limit, validate_features, base_margin, iteration_range)\u001b[0m\n\u001b[0;32m   1138\u001b[0m \u001b[38;5;28;01mif\u001b[39;00m \u001b[38;5;28mself\u001b[39m\u001b[38;5;241m.\u001b[39m_can_use_inplace_predict():\n\u001b[0;32m   1139\u001b[0m     \u001b[38;5;28;01mtry\u001b[39;00m:\n\u001b[1;32m-> 1140\u001b[0m         predts \u001b[38;5;241m=\u001b[39m \u001b[38;5;28;43mself\u001b[39;49m\u001b[38;5;241;43m.\u001b[39;49m\u001b[43mget_booster\u001b[49m\u001b[43m(\u001b[49m\u001b[43m)\u001b[49m\u001b[38;5;241;43m.\u001b[39;49m\u001b[43minplace_predict\u001b[49m\u001b[43m(\u001b[49m\n\u001b[0;32m   1141\u001b[0m \u001b[43m            \u001b[49m\u001b[43mdata\u001b[49m\u001b[38;5;241;43m=\u001b[39;49m\u001b[43mX\u001b[49m\u001b[43m,\u001b[49m\n\u001b[0;32m   1142\u001b[0m \u001b[43m            \u001b[49m\u001b[43miteration_range\u001b[49m\u001b[38;5;241;43m=\u001b[39;49m\u001b[43miteration_range\u001b[49m\u001b[43m,\u001b[49m\n\u001b[0;32m   1143\u001b[0m \u001b[43m            \u001b[49m\u001b[43mpredict_type\u001b[49m\u001b[38;5;241;43m=\u001b[39;49m\u001b[38;5;124;43m\"\u001b[39;49m\u001b[38;5;124;43mmargin\u001b[39;49m\u001b[38;5;124;43m\"\u001b[39;49m\u001b[43m \u001b[49m\u001b[38;5;28;43;01mif\u001b[39;49;00m\u001b[43m \u001b[49m\u001b[43moutput_margin\u001b[49m\u001b[43m \u001b[49m\u001b[38;5;28;43;01melse\u001b[39;49;00m\u001b[43m \u001b[49m\u001b[38;5;124;43m\"\u001b[39;49m\u001b[38;5;124;43mvalue\u001b[39;49m\u001b[38;5;124;43m\"\u001b[39;49m\u001b[43m,\u001b[49m\n\u001b[0;32m   1144\u001b[0m \u001b[43m            \u001b[49m\u001b[43mmissing\u001b[49m\u001b[38;5;241;43m=\u001b[39;49m\u001b[38;5;28;43mself\u001b[39;49m\u001b[38;5;241;43m.\u001b[39;49m\u001b[43mmissing\u001b[49m\u001b[43m,\u001b[49m\n\u001b[0;32m   1145\u001b[0m \u001b[43m            \u001b[49m\u001b[43mbase_margin\u001b[49m\u001b[38;5;241;43m=\u001b[39;49m\u001b[43mbase_margin\u001b[49m\u001b[43m,\u001b[49m\n\u001b[0;32m   1146\u001b[0m \u001b[43m            \u001b[49m\u001b[43mvalidate_features\u001b[49m\u001b[38;5;241;43m=\u001b[39;49m\u001b[43mvalidate_features\u001b[49m\u001b[43m,\u001b[49m\n\u001b[0;32m   1147\u001b[0m \u001b[43m        \u001b[49m\u001b[43m)\u001b[49m\n\u001b[0;32m   1148\u001b[0m         \u001b[38;5;28;01mif\u001b[39;00m _is_cupy_array(predts):\n\u001b[0;32m   1149\u001b[0m             \u001b[38;5;28;01mimport\u001b[39;00m \u001b[38;5;21;01mcupy\u001b[39;00m  \u001b[38;5;66;03m# pylint: disable=import-error\u001b[39;00m\n",
      "File \u001b[1;32m~\\anaconda3\\lib\\site-packages\\xgboost\\core.py:2268\u001b[0m, in \u001b[0;36mBooster.inplace_predict\u001b[1;34m(self, data, iteration_range, predict_type, missing, validate_features, base_margin, strict_shape)\u001b[0m\n\u001b[0;32m   2264\u001b[0m         \u001b[38;5;28;01mraise\u001b[39;00m \u001b[38;5;167;01mTypeError\u001b[39;00m(\n\u001b[0;32m   2265\u001b[0m             \u001b[38;5;124m\"\u001b[39m\u001b[38;5;124m`shape` attribute is required when `validate_features` is True.\u001b[39m\u001b[38;5;124m\"\u001b[39m\n\u001b[0;32m   2266\u001b[0m         )\n\u001b[0;32m   2267\u001b[0m     \u001b[38;5;28;01mif\u001b[39;00m \u001b[38;5;28mlen\u001b[39m(data\u001b[38;5;241m.\u001b[39mshape) \u001b[38;5;241m!=\u001b[39m \u001b[38;5;241m1\u001b[39m \u001b[38;5;129;01mand\u001b[39;00m \u001b[38;5;28mself\u001b[39m\u001b[38;5;241m.\u001b[39mnum_features() \u001b[38;5;241m!=\u001b[39m data\u001b[38;5;241m.\u001b[39mshape[\u001b[38;5;241m1\u001b[39m]:\n\u001b[1;32m-> 2268\u001b[0m         \u001b[38;5;28;01mraise\u001b[39;00m \u001b[38;5;167;01mValueError\u001b[39;00m(\n\u001b[0;32m   2269\u001b[0m             \u001b[38;5;124mf\u001b[39m\u001b[38;5;124m\"\u001b[39m\u001b[38;5;124mFeature shape mismatch, expected: \u001b[39m\u001b[38;5;132;01m{\u001b[39;00m\u001b[38;5;28mself\u001b[39m\u001b[38;5;241m.\u001b[39mnum_features()\u001b[38;5;132;01m}\u001b[39;00m\u001b[38;5;124m, \u001b[39m\u001b[38;5;124m\"\u001b[39m\n\u001b[0;32m   2270\u001b[0m             \u001b[38;5;124mf\u001b[39m\u001b[38;5;124m\"\u001b[39m\u001b[38;5;124mgot \u001b[39m\u001b[38;5;132;01m{\u001b[39;00mdata\u001b[38;5;241m.\u001b[39mshape[\u001b[38;5;241m1\u001b[39m]\u001b[38;5;132;01m}\u001b[39;00m\u001b[38;5;124m\"\u001b[39m\n\u001b[0;32m   2271\u001b[0m         )\n\u001b[0;32m   2273\u001b[0m \u001b[38;5;28;01mfrom\u001b[39;00m \u001b[38;5;21;01m.\u001b[39;00m\u001b[38;5;21;01mdata\u001b[39;00m \u001b[38;5;28;01mimport\u001b[39;00m (\n\u001b[0;32m   2274\u001b[0m     _array_interface,\n\u001b[0;32m   2275\u001b[0m     _is_cudf_df,\n\u001b[1;32m   (...)\u001b[0m\n\u001b[0;32m   2278\u001b[0m     _transform_pandas_df,\n\u001b[0;32m   2279\u001b[0m )\n\u001b[0;32m   2281\u001b[0m enable_categorical \u001b[38;5;241m=\u001b[39m _has_categorical(\u001b[38;5;28mself\u001b[39m, data)\n",
      "\u001b[1;31mValueError\u001b[0m: Feature shape mismatch, expected: 54265, got 172"
     ]
    }
   ],
   "source": [
    "scores = {} \n",
    "scores['xgb'] = xgb.score(testX,testY)\n",
    "scores['ada'] = ada.score(testX,testY)\n",
    "scores['sgd'] = sgd.score(testX,testY)\n",
    "scores['lr'] = lr.score(testX,testY)\n",
    "scores['rf'] = rf.score(testX,testY)\n",
    "scores['svm'] = svm.score(testX,testY)\n",
    "scores['dt'] = dt.score(testX,testY)\n",
    "scores['mnb'] = mnb.score(testX,testY)"
   ]
  },
  {
   "cell_type": "markdown",
   "metadata": {},
   "source": [
    "# OPTIMAL THRESHOLD CALCULATION"
   ]
  },
  {
   "cell_type": "code",
   "execution_count": null,
   "metadata": {},
   "outputs": [],
   "source": []
  },
  {
   "cell_type": "code",
   "execution_count": null,
   "metadata": {},
   "outputs": [],
   "source": []
  },
  {
   "cell_type": "code",
   "execution_count": null,
   "metadata": {},
   "outputs": [],
   "source": []
  },
  {
   "cell_type": "code",
   "execution_count": null,
   "metadata": {},
   "outputs": [],
   "source": []
  },
  {
   "cell_type": "code",
   "execution_count": null,
   "metadata": {},
   "outputs": [],
   "source": []
  },
  {
   "cell_type": "code",
   "execution_count": null,
   "metadata": {},
   "outputs": [],
   "source": []
  },
  {
   "cell_type": "code",
   "execution_count": null,
   "metadata": {},
   "outputs": [],
   "source": []
  },
  {
   "cell_type": "code",
   "execution_count": null,
   "metadata": {},
   "outputs": [],
   "source": []
  },
  {
   "cell_type": "code",
   "execution_count": null,
   "metadata": {},
   "outputs": [],
   "source": []
  },
  {
   "cell_type": "code",
   "execution_count": null,
   "metadata": {},
   "outputs": [],
   "source": []
  },
  {
   "cell_type": "code",
   "execution_count": null,
   "metadata": {},
   "outputs": [],
   "source": []
  },
  {
   "cell_type": "code",
   "execution_count": null,
   "metadata": {},
   "outputs": [],
   "source": []
  },
  {
   "cell_type": "code",
   "execution_count": null,
   "metadata": {},
   "outputs": [],
   "source": []
  },
  {
   "cell_type": "code",
   "execution_count": null,
   "metadata": {},
   "outputs": [],
   "source": []
  },
  {
   "cell_type": "code",
   "execution_count": null,
   "metadata": {},
   "outputs": [],
   "source": []
  },
  {
   "cell_type": "code",
   "execution_count": null,
   "metadata": {},
   "outputs": [],
   "source": []
  },
  {
   "cell_type": "code",
   "execution_count": null,
   "metadata": {},
   "outputs": [],
   "source": []
  },
  {
   "cell_type": "code",
   "execution_count": null,
   "metadata": {},
   "outputs": [],
   "source": []
  },
  {
   "cell_type": "code",
   "execution_count": 22,
   "metadata": {},
   "outputs": [
    {
     "data": {
      "text/html": [
       "<div>\n",
       "<style scoped>\n",
       "    .dataframe tbody tr th:only-of-type {\n",
       "        vertical-align: middle;\n",
       "    }\n",
       "\n",
       "    .dataframe tbody tr th {\n",
       "        vertical-align: top;\n",
       "    }\n",
       "\n",
       "    .dataframe thead th {\n",
       "        text-align: right;\n",
       "    }\n",
       "</style>\n",
       "<table border=\"1\" class=\"dataframe\">\n",
       "  <thead>\n",
       "    <tr style=\"text-align: right;\">\n",
       "      <th></th>\n",
       "      <th>payload</th>\n",
       "      <th>is_malicious</th>\n",
       "      <th>injection_type</th>\n",
       "      <th>length</th>\n",
       "      <th>non-printable</th>\n",
       "      <th>punctuation</th>\n",
       "      <th>min-byte</th>\n",
       "      <th>max-byte</th>\n",
       "      <th>mean-byte</th>\n",
       "      <th>std-byte</th>\n",
       "      <th>distinct-bytes</th>\n",
       "      <th>sql-keywords</th>\n",
       "      <th>js-keywords</th>\n",
       "    </tr>\n",
       "    <tr>\n",
       "      <th>index</th>\n",
       "      <th></th>\n",
       "      <th></th>\n",
       "      <th></th>\n",
       "      <th></th>\n",
       "      <th></th>\n",
       "      <th></th>\n",
       "      <th></th>\n",
       "      <th></th>\n",
       "      <th></th>\n",
       "      <th></th>\n",
       "      <th></th>\n",
       "      <th></th>\n",
       "      <th></th>\n",
       "    </tr>\n",
       "  </thead>\n",
       "  <tbody>\n",
       "    <tr>\n",
       "      <th>0</th>\n",
       "      <td>37662577P</td>\n",
       "      <td>0.0</td>\n",
       "      <td>LEGAL</td>\n",
       "      <td>9</td>\n",
       "      <td>9</td>\n",
       "      <td>0</td>\n",
       "      <td>50</td>\n",
       "      <td>80</td>\n",
       "      <td>56.333333</td>\n",
       "      <td>8.537499</td>\n",
       "      <td>6</td>\n",
       "      <td>0</td>\n",
       "      <td>0</td>\n",
       "    </tr>\n",
       "    <tr>\n",
       "      <th>1</th>\n",
       "      <td>shirting</td>\n",
       "      <td>0.0</td>\n",
       "      <td>LEGAL</td>\n",
       "      <td>8</td>\n",
       "      <td>3</td>\n",
       "      <td>4</td>\n",
       "      <td>103</td>\n",
       "      <td>116</td>\n",
       "      <td>109.000000</td>\n",
       "      <td>5.049752</td>\n",
       "      <td>7</td>\n",
       "      <td>0</td>\n",
       "      <td>1</td>\n",
       "    </tr>\n",
       "    <tr>\n",
       "      <th>2</th>\n",
       "      <td>&amp;kw=%27;alert%28%27XSS%27%29;//</td>\n",
       "      <td>1.0</td>\n",
       "      <td>XSS</td>\n",
       "      <td>31</td>\n",
       "      <td>26</td>\n",
       "      <td>2</td>\n",
       "      <td>37</td>\n",
       "      <td>119</td>\n",
       "      <td>65.806452</td>\n",
       "      <td>26.617263</td>\n",
       "      <td>18</td>\n",
       "      <td>0</td>\n",
       "      <td>1</td>\n",
       "    </tr>\n",
       "    <tr>\n",
       "      <th>3</th>\n",
       "      <td>obeying</td>\n",
       "      <td>0.0</td>\n",
       "      <td>LEGAL</td>\n",
       "      <td>7</td>\n",
       "      <td>3</td>\n",
       "      <td>3</td>\n",
       "      <td>98</td>\n",
       "      <td>121</td>\n",
       "      <td>107.000000</td>\n",
       "      <td>7.151423</td>\n",
       "      <td>7</td>\n",
       "      <td>0</td>\n",
       "      <td>1</td>\n",
       "    </tr>\n",
       "    <tr>\n",
       "      <th>4</th>\n",
       "      <td>dictating</td>\n",
       "      <td>0.0</td>\n",
       "      <td>LEGAL</td>\n",
       "      <td>9</td>\n",
       "      <td>3</td>\n",
       "      <td>7</td>\n",
       "      <td>97</td>\n",
       "      <td>116</td>\n",
       "      <td>105.666667</td>\n",
       "      <td>6.599663</td>\n",
       "      <td>7</td>\n",
       "      <td>0</td>\n",
       "      <td>1</td>\n",
       "    </tr>\n",
       "    <tr>\n",
       "      <th>...</th>\n",
       "      <td>...</td>\n",
       "      <td>...</td>\n",
       "      <td>...</td>\n",
       "      <td>...</td>\n",
       "      <td>...</td>\n",
       "      <td>...</td>\n",
       "      <td>...</td>\n",
       "      <td>...</td>\n",
       "      <td>...</td>\n",
       "      <td>...</td>\n",
       "      <td>...</td>\n",
       "      <td>...</td>\n",
       "      <td>...</td>\n",
       "    </tr>\n",
       "    <tr>\n",
       "      <th>110355</th>\n",
       "      <td>needlessness</td>\n",
       "      <td>0.0</td>\n",
       "      <td>LEGAL</td>\n",
       "      <td>12</td>\n",
       "      <td>5</td>\n",
       "      <td>2</td>\n",
       "      <td>100</td>\n",
       "      <td>115</td>\n",
       "      <td>107.666667</td>\n",
       "      <td>6.209312</td>\n",
       "      <td>5</td>\n",
       "      <td>1</td>\n",
       "      <td>0</td>\n",
       "    </tr>\n",
       "    <tr>\n",
       "      <th>110356</th>\n",
       "      <td>Mary-Jo</td>\n",
       "      <td>0.0</td>\n",
       "      <td>LEGAL</td>\n",
       "      <td>7</td>\n",
       "      <td>5</td>\n",
       "      <td>2</td>\n",
       "      <td>45</td>\n",
       "      <td>121</td>\n",
       "      <td>91.285714</td>\n",
       "      <td>25.257046</td>\n",
       "      <td>7</td>\n",
       "      <td>0</td>\n",
       "      <td>0</td>\n",
       "    </tr>\n",
       "    <tr>\n",
       "      <th>110357</th>\n",
       "      <td>marshaled</td>\n",
       "      <td>0.0</td>\n",
       "      <td>LEGAL</td>\n",
       "      <td>9</td>\n",
       "      <td>4</td>\n",
       "      <td>2</td>\n",
       "      <td>97</td>\n",
       "      <td>115</td>\n",
       "      <td>105.000000</td>\n",
       "      <td>6.463573</td>\n",
       "      <td>8</td>\n",
       "      <td>0</td>\n",
       "      <td>0</td>\n",
       "    </tr>\n",
       "    <tr>\n",
       "      <th>110358</th>\n",
       "      <td>9553847952570755</td>\n",
       "      <td>0.0</td>\n",
       "      <td>LEGAL</td>\n",
       "      <td>16</td>\n",
       "      <td>16</td>\n",
       "      <td>0</td>\n",
       "      <td>48</td>\n",
       "      <td>57</td>\n",
       "      <td>53.375000</td>\n",
       "      <td>2.368412</td>\n",
       "      <td>8</td>\n",
       "      <td>0</td>\n",
       "      <td>0</td>\n",
       "    </tr>\n",
       "    <tr>\n",
       "      <th>110359</th>\n",
       "      <td>\"&gt;&lt;body language=vbs onload=window.location='d...</td>\n",
       "      <td>1.0</td>\n",
       "      <td>XSS</td>\n",
       "      <td>109</td>\n",
       "      <td>76</td>\n",
       "      <td>30</td>\n",
       "      <td>32</td>\n",
       "      <td>122</td>\n",
       "      <td>90.990826</td>\n",
       "      <td>24.773653</td>\n",
       "      <td>50</td>\n",
       "      <td>3</td>\n",
       "      <td>5</td>\n",
       "    </tr>\n",
       "  </tbody>\n",
       "</table>\n",
       "<p>101840 rows × 13 columns</p>\n",
       "</div>"
      ],
      "text/plain": [
       "                                                  payload  is_malicious  \\\n",
       "index                                                                     \n",
       "0                                               37662577P           0.0   \n",
       "1                                                shirting           0.0   \n",
       "2                         &kw=%27;alert%28%27XSS%27%29;//           1.0   \n",
       "3                                                 obeying           0.0   \n",
       "4                                               dictating           0.0   \n",
       "...                                                   ...           ...   \n",
       "110355                                       needlessness           0.0   \n",
       "110356                                            Mary-Jo           0.0   \n",
       "110357                                          marshaled           0.0   \n",
       "110358                                   9553847952570755           0.0   \n",
       "110359  \"><body language=vbs onload=window.location='d...           1.0   \n",
       "\n",
       "       injection_type  length  non-printable  punctuation  min-byte  max-byte  \\\n",
       "index                                                                           \n",
       "0               LEGAL       9              9            0        50        80   \n",
       "1               LEGAL       8              3            4       103       116   \n",
       "2                 XSS      31             26            2        37       119   \n",
       "3               LEGAL       7              3            3        98       121   \n",
       "4               LEGAL       9              3            7        97       116   \n",
       "...               ...     ...            ...          ...       ...       ...   \n",
       "110355          LEGAL      12              5            2       100       115   \n",
       "110356          LEGAL       7              5            2        45       121   \n",
       "110357          LEGAL       9              4            2        97       115   \n",
       "110358          LEGAL      16             16            0        48        57   \n",
       "110359            XSS     109             76           30        32       122   \n",
       "\n",
       "         mean-byte   std-byte  distinct-bytes  sql-keywords  js-keywords  \n",
       "index                                                                     \n",
       "0        56.333333   8.537499               6             0            0  \n",
       "1       109.000000   5.049752               7             0            1  \n",
       "2        65.806452  26.617263              18             0            1  \n",
       "3       107.000000   7.151423               7             0            1  \n",
       "4       105.666667   6.599663               7             0            1  \n",
       "...            ...        ...             ...           ...          ...  \n",
       "110355  107.666667   6.209312               5             1            0  \n",
       "110356   91.285714  25.257046               7             0            0  \n",
       "110357  105.000000   6.463573               8             0            0  \n",
       "110358   53.375000   2.368412               8             0            0  \n",
       "110359   90.990826  24.773653              50             3            5  \n",
       "\n",
       "[101840 rows x 13 columns]"
      ]
     },
     "execution_count": 22,
     "metadata": {},
     "output_type": "execute_result"
    }
   ],
   "source": [
    "payloads"
   ]
  },
  {
   "cell_type": "code",
   "execution_count": 25,
   "metadata": {
    "scrolled": true
   },
   "outputs": [
    {
     "data": {
      "text/plain": [
       "index\n",
       "0                             [3, 7, 6, 6, 2, 5, 7, 7]\n",
       "1                                [s, h, i, r, t, i, n]\n",
       "2    [&, k, w, =, %, 2, 7, ;, a, l, e, r, t, %, 2, ...\n",
       "3                                   [o, b, e, y, i, n]\n",
       "4                             [d, i, c, t, a, t, i, n]\n",
       "5                                   [l, a, f, l, e, u]\n",
       "6                             [c, a, p, t, u, r, e, r]\n",
       "7                             [8, n, c, a, 5, 8, z, 4]\n",
       "8                          [a, u, t, o, c, r, a, t, i]\n",
       "9    [g, r, o, c, e, r, y, +, w, a, r, e, h, o, u, ...\n",
       "Name: tokens_1, dtype: object"
      ]
     },
     "execution_count": 25,
     "metadata": {},
     "output_type": "execute_result"
    }
   ],
   "source": [
    "payloads['tokens_1'] = payloads.payload.map( lambda t : get1Grams(t))\n",
    "payloads['tokens_1'].head(10)"
   ]
  },
  {
   "cell_type": "code",
   "execution_count": 26,
   "metadata": {},
   "outputs": [
    {
     "data": {
      "text/html": [
       "<div>\n",
       "<style scoped>\n",
       "    .dataframe tbody tr th:only-of-type {\n",
       "        vertical-align: middle;\n",
       "    }\n",
       "\n",
       "    .dataframe tbody tr th {\n",
       "        vertical-align: top;\n",
       "    }\n",
       "\n",
       "    .dataframe thead th {\n",
       "        text-align: right;\n",
       "    }\n",
       "</style>\n",
       "<table border=\"1\" class=\"dataframe\">\n",
       "  <thead>\n",
       "    <tr style=\"text-align: right;\">\n",
       "      <th></th>\n",
       "      <th>tokens_1</th>\n",
       "    </tr>\n",
       "    <tr>\n",
       "      <th>index</th>\n",
       "      <th></th>\n",
       "    </tr>\n",
       "  </thead>\n",
       "  <tbody>\n",
       "    <tr>\n",
       "      <th>0</th>\n",
       "      <td>[ ' 3 ' ,   ' 7 ' ,   ' 6 ' ,   ' 6 ' ,   ' 2 ...</td>\n",
       "    </tr>\n",
       "    <tr>\n",
       "      <th>1</th>\n",
       "      <td>[ ' s ' ,   ' h ' ,   ' i ' ,   ' r ' ,   ' t ...</td>\n",
       "    </tr>\n",
       "    <tr>\n",
       "      <th>2</th>\n",
       "      <td>[ ' &amp; ' ,   ' k ' ,   ' w ' ,   ' = ' ,   ' % ...</td>\n",
       "    </tr>\n",
       "    <tr>\n",
       "      <th>3</th>\n",
       "      <td>[ ' o ' ,   ' b ' ,   ' e ' ,   ' y ' ,   ' i ...</td>\n",
       "    </tr>\n",
       "    <tr>\n",
       "      <th>4</th>\n",
       "      <td>[ ' d ' ,   ' i ' ,   ' c ' ,   ' t ' ,   ' a ...</td>\n",
       "    </tr>\n",
       "    <tr>\n",
       "      <th>...</th>\n",
       "      <td>...</td>\n",
       "    </tr>\n",
       "    <tr>\n",
       "      <th>110355</th>\n",
       "      <td>[ ' n ' ,   ' e ' ,   ' e ' ,   ' d ' ,   ' l ...</td>\n",
       "    </tr>\n",
       "    <tr>\n",
       "      <th>110356</th>\n",
       "      <td>[ ' M ' ,   ' a ' ,   ' r ' ,   ' y ' ,   ' - ...</td>\n",
       "    </tr>\n",
       "    <tr>\n",
       "      <th>110357</th>\n",
       "      <td>[ ' m ' ,   ' a ' ,   ' r ' ,   ' s ' ,   ' h ...</td>\n",
       "    </tr>\n",
       "    <tr>\n",
       "      <th>110358</th>\n",
       "      <td>[ ' 9 ' ,   ' 5 ' ,   ' 5 ' ,   ' 3 ' ,   ' 8 ...</td>\n",
       "    </tr>\n",
       "    <tr>\n",
       "      <th>110359</th>\n",
       "      <td>[ ' \" ' ,   ' &gt; ' ,   ' &lt; ' ,   ' b ' ,   ' o ...</td>\n",
       "    </tr>\n",
       "  </tbody>\n",
       "</table>\n",
       "<p>101840 rows × 1 columns</p>\n",
       "</div>"
      ],
      "text/plain": [
       "                                                 tokens_1\n",
       "index                                                    \n",
       "0       [ ' 3 ' ,   ' 7 ' ,   ' 6 ' ,   ' 6 ' ,   ' 2 ...\n",
       "1       [ ' s ' ,   ' h ' ,   ' i ' ,   ' r ' ,   ' t ...\n",
       "2       [ ' & ' ,   ' k ' ,   ' w ' ,   ' = ' ,   ' % ...\n",
       "3       [ ' o ' ,   ' b ' ,   ' e ' ,   ' y ' ,   ' i ...\n",
       "4       [ ' d ' ,   ' i ' ,   ' c ' ,   ' t ' ,   ' a ...\n",
       "...                                                   ...\n",
       "110355  [ ' n ' ,   ' e ' ,   ' e ' ,   ' d ' ,   ' l ...\n",
       "110356  [ ' M ' ,   ' a ' ,   ' r ' ,   ' y ' ,   ' - ...\n",
       "110357  [ ' m ' ,   ' a ' ,   ' r ' ,   ' s ' ,   ' h ...\n",
       "110358  [ ' 9 ' ,   ' 5 ' ,   ' 5 ' ,   ' 3 ' ,   ' 8 ...\n",
       "110359  [ ' \" ' ,   ' > ' ,   ' < ' ,   ' b ' ,   ' o ...\n",
       "\n",
       "[101840 rows x 1 columns]"
      ]
     },
     "execution_count": 26,
     "metadata": {},
     "output_type": "execute_result"
    }
   ],
   "source": [
    "payloads['tokens_1'] = payloads.payload.map(lambda t: get1Grams(t))\n",
    "payloads['tokens_1'] = payloads['tokens_1'].map(lambda l: ' '.join(str(l)))\n",
    "payloads.iloc[:,13:] \n",
    "# document = [' '.join(str(item)) for item in corpus]"
   ]
  },
  {
   "cell_type": "code",
   "execution_count": 63,
   "metadata": {},
   "outputs": [
    {
     "ename": "ValueError",
     "evalue": "empty vocabulary; perhaps the documents only contain stop words",
     "output_type": "error",
     "traceback": [
      "\u001b[1;31m---------------------------------------------------------------------------\u001b[0m",
      "\u001b[1;31mValueError\u001b[0m                                Traceback (most recent call last)",
      "Cell \u001b[1;32mIn [63], line 1\u001b[0m\n\u001b[1;32m----> 1\u001b[0m X \u001b[38;5;241m=\u001b[39m \u001b[43mCountVectorizer\u001b[49m\u001b[43m(\u001b[49m\u001b[43m)\u001b[49m\u001b[38;5;241;43m.\u001b[39;49m\u001b[43mfit_transform\u001b[49m\u001b[43m(\u001b[49m\u001b[43mpayloads\u001b[49m\u001b[38;5;241;43m.\u001b[39;49m\u001b[43mtokens_1\u001b[49m\u001b[43m)\u001b[49m \n\u001b[0;32m      2\u001b[0m X \u001b[38;5;241m=\u001b[39m X\u001b[38;5;241m.\u001b[39miloc[:,\u001b[38;5;241m13\u001b[39m:]\n\u001b[0;32m      3\u001b[0m Y \u001b[38;5;241m=\u001b[39m payloads[\u001b[38;5;124m'\u001b[39m\u001b[38;5;124mis_malicious\u001b[39m\u001b[38;5;124m'\u001b[39m] \n",
      "File \u001b[1;32m~\\anaconda3\\lib\\site-packages\\sklearn\\feature_extraction\\text.py:1330\u001b[0m, in \u001b[0;36mCountVectorizer.fit_transform\u001b[1;34m(self, raw_documents, y)\u001b[0m\n\u001b[0;32m   1322\u001b[0m             warnings\u001b[38;5;241m.\u001b[39mwarn(\n\u001b[0;32m   1323\u001b[0m                 \u001b[38;5;124m\"\u001b[39m\u001b[38;5;124mUpper case characters found in\u001b[39m\u001b[38;5;124m\"\u001b[39m\n\u001b[0;32m   1324\u001b[0m                 \u001b[38;5;124m\"\u001b[39m\u001b[38;5;124m vocabulary while \u001b[39m\u001b[38;5;124m'\u001b[39m\u001b[38;5;124mlowercase\u001b[39m\u001b[38;5;124m'\u001b[39m\u001b[38;5;124m\"\u001b[39m\n\u001b[0;32m   1325\u001b[0m                 \u001b[38;5;124m\"\u001b[39m\u001b[38;5;124m is True. These entries will not\u001b[39m\u001b[38;5;124m\"\u001b[39m\n\u001b[0;32m   1326\u001b[0m                 \u001b[38;5;124m\"\u001b[39m\u001b[38;5;124m be matched with any documents\u001b[39m\u001b[38;5;124m\"\u001b[39m\n\u001b[0;32m   1327\u001b[0m             )\n\u001b[0;32m   1328\u001b[0m             \u001b[38;5;28;01mbreak\u001b[39;00m\n\u001b[1;32m-> 1330\u001b[0m vocabulary, X \u001b[38;5;241m=\u001b[39m \u001b[38;5;28;43mself\u001b[39;49m\u001b[38;5;241;43m.\u001b[39;49m\u001b[43m_count_vocab\u001b[49m\u001b[43m(\u001b[49m\u001b[43mraw_documents\u001b[49m\u001b[43m,\u001b[49m\u001b[43m \u001b[49m\u001b[38;5;28;43mself\u001b[39;49m\u001b[38;5;241;43m.\u001b[39;49m\u001b[43mfixed_vocabulary_\u001b[49m\u001b[43m)\u001b[49m\n\u001b[0;32m   1332\u001b[0m \u001b[38;5;28;01mif\u001b[39;00m \u001b[38;5;28mself\u001b[39m\u001b[38;5;241m.\u001b[39mbinary:\n\u001b[0;32m   1333\u001b[0m     X\u001b[38;5;241m.\u001b[39mdata\u001b[38;5;241m.\u001b[39mfill(\u001b[38;5;241m1\u001b[39m)\n",
      "File \u001b[1;32m~\\anaconda3\\lib\\site-packages\\sklearn\\feature_extraction\\text.py:1220\u001b[0m, in \u001b[0;36mCountVectorizer._count_vocab\u001b[1;34m(self, raw_documents, fixed_vocab)\u001b[0m\n\u001b[0;32m   1218\u001b[0m     vocabulary \u001b[38;5;241m=\u001b[39m \u001b[38;5;28mdict\u001b[39m(vocabulary)\n\u001b[0;32m   1219\u001b[0m     \u001b[38;5;28;01mif\u001b[39;00m \u001b[38;5;129;01mnot\u001b[39;00m vocabulary:\n\u001b[1;32m-> 1220\u001b[0m         \u001b[38;5;28;01mraise\u001b[39;00m \u001b[38;5;167;01mValueError\u001b[39;00m(\n\u001b[0;32m   1221\u001b[0m             \u001b[38;5;124m\"\u001b[39m\u001b[38;5;124mempty vocabulary; perhaps the documents only contain stop words\u001b[39m\u001b[38;5;124m\"\u001b[39m\n\u001b[0;32m   1222\u001b[0m         )\n\u001b[0;32m   1224\u001b[0m \u001b[38;5;28;01mif\u001b[39;00m indptr[\u001b[38;5;241m-\u001b[39m\u001b[38;5;241m1\u001b[39m] \u001b[38;5;241m>\u001b[39m np\u001b[38;5;241m.\u001b[39miinfo(np\u001b[38;5;241m.\u001b[39mint32)\u001b[38;5;241m.\u001b[39mmax:  \u001b[38;5;66;03m# = 2**31 - 1\u001b[39;00m\n\u001b[0;32m   1225\u001b[0m     \u001b[38;5;28;01mif\u001b[39;00m _IS_32BIT:\n",
      "\u001b[1;31mValueError\u001b[0m: empty vocabulary; perhaps the documents only contain stop words"
     ]
    }
   ],
   "source": [
    "X = CountVectorizer().fit_transform(payloads.tokens_1) \n",
    "# lower not found error - select the exact attribute / column using slicing \n",
    "X = X.iloc[:,13:]\n",
    "Y = payloads['is_malicious'] "
   ]
  },
  {
   "cell_type": "code",
   "execution_count": 53,
   "metadata": {},
   "outputs": [],
   "source": [
    "#trainX, testX, trainY, testY = train_test_split(fitted_tokenized_data, labelled_data , test_size = 0.x)\n",
    "trainX, testX, trainY, testY = train_test_split(X, Y, test_size = 0.2)\n",
    "\n",
    "# LOWER NOT FOUND ERROR \n",
    "HOW TO ADD A NEW COLUMN TO DATA TRANSFORMING A GIVEN COLUMN "
   ]
  },
  {
   "cell_type": "code",
   "execution_count": 27,
   "metadata": {},
   "outputs": [
    {
     "data": {
      "text/html": [
       "<div>\n",
       "<style scoped>\n",
       "    .dataframe tbody tr th:only-of-type {\n",
       "        vertical-align: middle;\n",
       "    }\n",
       "\n",
       "    .dataframe tbody tr th {\n",
       "        vertical-align: top;\n",
       "    }\n",
       "\n",
       "    .dataframe thead th {\n",
       "        text-align: right;\n",
       "    }\n",
       "</style>\n",
       "<table border=\"1\" class=\"dataframe\">\n",
       "  <thead>\n",
       "    <tr style=\"text-align: right;\">\n",
       "      <th></th>\n",
       "      <th>payload</th>\n",
       "      <th>is_malicious</th>\n",
       "      <th>injection_type</th>\n",
       "      <th>length</th>\n",
       "      <th>non-printable</th>\n",
       "      <th>punctuation</th>\n",
       "      <th>min-byte</th>\n",
       "      <th>max-byte</th>\n",
       "      <th>mean-byte</th>\n",
       "      <th>std-byte</th>\n",
       "      <th>distinct-bytes</th>\n",
       "      <th>sql-keywords</th>\n",
       "      <th>js-keywords</th>\n",
       "      <th>tokens_1</th>\n",
       "      <th>tokens_2</th>\n",
       "    </tr>\n",
       "    <tr>\n",
       "      <th>index</th>\n",
       "      <th></th>\n",
       "      <th></th>\n",
       "      <th></th>\n",
       "      <th></th>\n",
       "      <th></th>\n",
       "      <th></th>\n",
       "      <th></th>\n",
       "      <th></th>\n",
       "      <th></th>\n",
       "      <th></th>\n",
       "      <th></th>\n",
       "      <th></th>\n",
       "      <th></th>\n",
       "      <th></th>\n",
       "      <th></th>\n",
       "    </tr>\n",
       "  </thead>\n",
       "  <tbody>\n",
       "    <tr>\n",
       "      <th>0</th>\n",
       "      <td>37662577P</td>\n",
       "      <td>0.0</td>\n",
       "      <td>LEGAL</td>\n",
       "      <td>9</td>\n",
       "      <td>9</td>\n",
       "      <td>0</td>\n",
       "      <td>50</td>\n",
       "      <td>80</td>\n",
       "      <td>56.333333</td>\n",
       "      <td>8.537499</td>\n",
       "      <td>6</td>\n",
       "      <td>0</td>\n",
       "      <td>0</td>\n",
       "      <td>[ ' 3 ' ,   ' 7 ' ,   ' 6 ' ,   ' 6 ' ,   ' 2 ...</td>\n",
       "      <td>[37, 76, 66, 62, 25, 57, 77]</td>\n",
       "    </tr>\n",
       "    <tr>\n",
       "      <th>1</th>\n",
       "      <td>shirting</td>\n",
       "      <td>0.0</td>\n",
       "      <td>LEGAL</td>\n",
       "      <td>8</td>\n",
       "      <td>3</td>\n",
       "      <td>4</td>\n",
       "      <td>103</td>\n",
       "      <td>116</td>\n",
       "      <td>109.000000</td>\n",
       "      <td>5.049752</td>\n",
       "      <td>7</td>\n",
       "      <td>0</td>\n",
       "      <td>1</td>\n",
       "      <td>[ ' s ' ,   ' h ' ,   ' i ' ,   ' r ' ,   ' t ...</td>\n",
       "      <td>[sh, hi, ir, rt, ti, in]</td>\n",
       "    </tr>\n",
       "    <tr>\n",
       "      <th>2</th>\n",
       "      <td>&amp;kw=%27;alert%28%27XSS%27%29;//</td>\n",
       "      <td>1.0</td>\n",
       "      <td>XSS</td>\n",
       "      <td>31</td>\n",
       "      <td>26</td>\n",
       "      <td>2</td>\n",
       "      <td>37</td>\n",
       "      <td>119</td>\n",
       "      <td>65.806452</td>\n",
       "      <td>26.617263</td>\n",
       "      <td>18</td>\n",
       "      <td>0</td>\n",
       "      <td>1</td>\n",
       "      <td>[ ' &amp; ' ,   ' k ' ,   ' w ' ,   ' = ' ,   ' % ...</td>\n",
       "      <td>[&amp;k, kw, w=, =%, %2, 27, 7;, ;a, al, le, er, r...</td>\n",
       "    </tr>\n",
       "    <tr>\n",
       "      <th>3</th>\n",
       "      <td>obeying</td>\n",
       "      <td>0.0</td>\n",
       "      <td>LEGAL</td>\n",
       "      <td>7</td>\n",
       "      <td>3</td>\n",
       "      <td>3</td>\n",
       "      <td>98</td>\n",
       "      <td>121</td>\n",
       "      <td>107.000000</td>\n",
       "      <td>7.151423</td>\n",
       "      <td>7</td>\n",
       "      <td>0</td>\n",
       "      <td>1</td>\n",
       "      <td>[ ' o ' ,   ' b ' ,   ' e ' ,   ' y ' ,   ' i ...</td>\n",
       "      <td>[ob, be, ey, yi, in]</td>\n",
       "    </tr>\n",
       "    <tr>\n",
       "      <th>4</th>\n",
       "      <td>dictating</td>\n",
       "      <td>0.0</td>\n",
       "      <td>LEGAL</td>\n",
       "      <td>9</td>\n",
       "      <td>3</td>\n",
       "      <td>7</td>\n",
       "      <td>97</td>\n",
       "      <td>116</td>\n",
       "      <td>105.666667</td>\n",
       "      <td>6.599663</td>\n",
       "      <td>7</td>\n",
       "      <td>0</td>\n",
       "      <td>1</td>\n",
       "      <td>[ ' d ' ,   ' i ' ,   ' c ' ,   ' t ' ,   ' a ...</td>\n",
       "      <td>[di, ic, ct, ta, at, ti, in]</td>\n",
       "    </tr>\n",
       "    <tr>\n",
       "      <th>...</th>\n",
       "      <td>...</td>\n",
       "      <td>...</td>\n",
       "      <td>...</td>\n",
       "      <td>...</td>\n",
       "      <td>...</td>\n",
       "      <td>...</td>\n",
       "      <td>...</td>\n",
       "      <td>...</td>\n",
       "      <td>...</td>\n",
       "      <td>...</td>\n",
       "      <td>...</td>\n",
       "      <td>...</td>\n",
       "      <td>...</td>\n",
       "      <td>...</td>\n",
       "      <td>...</td>\n",
       "    </tr>\n",
       "    <tr>\n",
       "      <th>110355</th>\n",
       "      <td>needlessness</td>\n",
       "      <td>0.0</td>\n",
       "      <td>LEGAL</td>\n",
       "      <td>12</td>\n",
       "      <td>5</td>\n",
       "      <td>2</td>\n",
       "      <td>100</td>\n",
       "      <td>115</td>\n",
       "      <td>107.666667</td>\n",
       "      <td>6.209312</td>\n",
       "      <td>5</td>\n",
       "      <td>1</td>\n",
       "      <td>0</td>\n",
       "      <td>[ ' n ' ,   ' e ' ,   ' e ' ,   ' d ' ,   ' l ...</td>\n",
       "      <td>[ne, ee, ed, dl, le, es, ss, sn, ne, es]</td>\n",
       "    </tr>\n",
       "    <tr>\n",
       "      <th>110356</th>\n",
       "      <td>Mary-Jo</td>\n",
       "      <td>0.0</td>\n",
       "      <td>LEGAL</td>\n",
       "      <td>7</td>\n",
       "      <td>5</td>\n",
       "      <td>2</td>\n",
       "      <td>45</td>\n",
       "      <td>121</td>\n",
       "      <td>91.285714</td>\n",
       "      <td>25.257046</td>\n",
       "      <td>7</td>\n",
       "      <td>0</td>\n",
       "      <td>0</td>\n",
       "      <td>[ ' M ' ,   ' a ' ,   ' r ' ,   ' y ' ,   ' - ...</td>\n",
       "      <td>[Ma, ar, ry, y-, -J]</td>\n",
       "    </tr>\n",
       "    <tr>\n",
       "      <th>110357</th>\n",
       "      <td>marshaled</td>\n",
       "      <td>0.0</td>\n",
       "      <td>LEGAL</td>\n",
       "      <td>9</td>\n",
       "      <td>4</td>\n",
       "      <td>2</td>\n",
       "      <td>97</td>\n",
       "      <td>115</td>\n",
       "      <td>105.000000</td>\n",
       "      <td>6.463573</td>\n",
       "      <td>8</td>\n",
       "      <td>0</td>\n",
       "      <td>0</td>\n",
       "      <td>[ ' m ' ,   ' a ' ,   ' r ' ,   ' s ' ,   ' h ...</td>\n",
       "      <td>[ma, ar, rs, sh, ha, al, le]</td>\n",
       "    </tr>\n",
       "    <tr>\n",
       "      <th>110358</th>\n",
       "      <td>9553847952570755</td>\n",
       "      <td>0.0</td>\n",
       "      <td>LEGAL</td>\n",
       "      <td>16</td>\n",
       "      <td>16</td>\n",
       "      <td>0</td>\n",
       "      <td>48</td>\n",
       "      <td>57</td>\n",
       "      <td>53.375000</td>\n",
       "      <td>2.368412</td>\n",
       "      <td>8</td>\n",
       "      <td>0</td>\n",
       "      <td>0</td>\n",
       "      <td>[ ' 9 ' ,   ' 5 ' ,   ' 5 ' ,   ' 3 ' ,   ' 8 ...</td>\n",
       "      <td>[95, 55, 53, 38, 84, 47, 79, 95, 52, 25, 57, 7...</td>\n",
       "    </tr>\n",
       "    <tr>\n",
       "      <th>110359</th>\n",
       "      <td>\"&gt;&lt;body language=vbs onload=window.location='d...</td>\n",
       "      <td>1.0</td>\n",
       "      <td>XSS</td>\n",
       "      <td>109</td>\n",
       "      <td>76</td>\n",
       "      <td>30</td>\n",
       "      <td>32</td>\n",
       "      <td>122</td>\n",
       "      <td>90.990826</td>\n",
       "      <td>24.773653</td>\n",
       "      <td>50</td>\n",
       "      <td>3</td>\n",
       "      <td>5</td>\n",
       "      <td>[ ' \" ' ,   ' &gt; ' ,   ' &lt; ' ,   ' b ' ,   ' o ...</td>\n",
       "      <td>[\"&gt;, &gt;&lt;, &lt;b, bo, od, dy, y ,  l, la, an, ng, g...</td>\n",
       "    </tr>\n",
       "  </tbody>\n",
       "</table>\n",
       "<p>101840 rows × 15 columns</p>\n",
       "</div>"
      ],
      "text/plain": [
       "                                                  payload  is_malicious  \\\n",
       "index                                                                     \n",
       "0                                               37662577P           0.0   \n",
       "1                                                shirting           0.0   \n",
       "2                         &kw=%27;alert%28%27XSS%27%29;//           1.0   \n",
       "3                                                 obeying           0.0   \n",
       "4                                               dictating           0.0   \n",
       "...                                                   ...           ...   \n",
       "110355                                       needlessness           0.0   \n",
       "110356                                            Mary-Jo           0.0   \n",
       "110357                                          marshaled           0.0   \n",
       "110358                                   9553847952570755           0.0   \n",
       "110359  \"><body language=vbs onload=window.location='d...           1.0   \n",
       "\n",
       "       injection_type  length  non-printable  punctuation  min-byte  max-byte  \\\n",
       "index                                                                           \n",
       "0               LEGAL       9              9            0        50        80   \n",
       "1               LEGAL       8              3            4       103       116   \n",
       "2                 XSS      31             26            2        37       119   \n",
       "3               LEGAL       7              3            3        98       121   \n",
       "4               LEGAL       9              3            7        97       116   \n",
       "...               ...     ...            ...          ...       ...       ...   \n",
       "110355          LEGAL      12              5            2       100       115   \n",
       "110356          LEGAL       7              5            2        45       121   \n",
       "110357          LEGAL       9              4            2        97       115   \n",
       "110358          LEGAL      16             16            0        48        57   \n",
       "110359            XSS     109             76           30        32       122   \n",
       "\n",
       "         mean-byte   std-byte  distinct-bytes  sql-keywords  js-keywords  \\\n",
       "index                                                                      \n",
       "0        56.333333   8.537499               6             0            0   \n",
       "1       109.000000   5.049752               7             0            1   \n",
       "2        65.806452  26.617263              18             0            1   \n",
       "3       107.000000   7.151423               7             0            1   \n",
       "4       105.666667   6.599663               7             0            1   \n",
       "...            ...        ...             ...           ...          ...   \n",
       "110355  107.666667   6.209312               5             1            0   \n",
       "110356   91.285714  25.257046               7             0            0   \n",
       "110357  105.000000   6.463573               8             0            0   \n",
       "110358   53.375000   2.368412               8             0            0   \n",
       "110359   90.990826  24.773653              50             3            5   \n",
       "\n",
       "                                                 tokens_1  \\\n",
       "index                                                       \n",
       "0       [ ' 3 ' ,   ' 7 ' ,   ' 6 ' ,   ' 6 ' ,   ' 2 ...   \n",
       "1       [ ' s ' ,   ' h ' ,   ' i ' ,   ' r ' ,   ' t ...   \n",
       "2       [ ' & ' ,   ' k ' ,   ' w ' ,   ' = ' ,   ' % ...   \n",
       "3       [ ' o ' ,   ' b ' ,   ' e ' ,   ' y ' ,   ' i ...   \n",
       "4       [ ' d ' ,   ' i ' ,   ' c ' ,   ' t ' ,   ' a ...   \n",
       "...                                                   ...   \n",
       "110355  [ ' n ' ,   ' e ' ,   ' e ' ,   ' d ' ,   ' l ...   \n",
       "110356  [ ' M ' ,   ' a ' ,   ' r ' ,   ' y ' ,   ' - ...   \n",
       "110357  [ ' m ' ,   ' a ' ,   ' r ' ,   ' s ' ,   ' h ...   \n",
       "110358  [ ' 9 ' ,   ' 5 ' ,   ' 5 ' ,   ' 3 ' ,   ' 8 ...   \n",
       "110359  [ ' \" ' ,   ' > ' ,   ' < ' ,   ' b ' ,   ' o ...   \n",
       "\n",
       "                                                 tokens_2  \n",
       "index                                                      \n",
       "0                            [37, 76, 66, 62, 25, 57, 77]  \n",
       "1                                [sh, hi, ir, rt, ti, in]  \n",
       "2       [&k, kw, w=, =%, %2, 27, 7;, ;a, al, le, er, r...  \n",
       "3                                    [ob, be, ey, yi, in]  \n",
       "4                            [di, ic, ct, ta, at, ti, in]  \n",
       "...                                                   ...  \n",
       "110355           [ne, ee, ed, dl, le, es, ss, sn, ne, es]  \n",
       "110356                               [Ma, ar, ry, y-, -J]  \n",
       "110357                       [ma, ar, rs, sh, ha, al, le]  \n",
       "110358  [95, 55, 53, 38, 84, 47, 79, 95, 52, 25, 57, 7...  \n",
       "110359  [\">, ><, <b, bo, od, dy, y ,  l, la, an, ng, g...  \n",
       "\n",
       "[101840 rows x 15 columns]"
      ]
     },
     "execution_count": 27,
     "metadata": {},
     "output_type": "execute_result"
    }
   ],
   "source": [
    "payloads['tokens_2'] = payloads.payload.map(lambda t: get2Grams(t))\n",
    "payloads"
   ]
  },
  {
   "cell_type": "code",
   "execution_count": 28,
   "metadata": {},
   "outputs": [
    {
     "data": {
      "text/html": [
       "<div>\n",
       "<style scoped>\n",
       "    .dataframe tbody tr th:only-of-type {\n",
       "        vertical-align: middle;\n",
       "    }\n",
       "\n",
       "    .dataframe tbody tr th {\n",
       "        vertical-align: top;\n",
       "    }\n",
       "\n",
       "    .dataframe thead th {\n",
       "        text-align: right;\n",
       "    }\n",
       "</style>\n",
       "<table border=\"1\" class=\"dataframe\">\n",
       "  <thead>\n",
       "    <tr style=\"text-align: right;\">\n",
       "      <th></th>\n",
       "      <th>payload</th>\n",
       "      <th>is_malicious</th>\n",
       "      <th>injection_type</th>\n",
       "      <th>length</th>\n",
       "      <th>non-printable</th>\n",
       "      <th>punctuation</th>\n",
       "      <th>min-byte</th>\n",
       "      <th>max-byte</th>\n",
       "      <th>mean-byte</th>\n",
       "      <th>std-byte</th>\n",
       "      <th>distinct-bytes</th>\n",
       "      <th>sql-keywords</th>\n",
       "      <th>js-keywords</th>\n",
       "      <th>tokens_1</th>\n",
       "      <th>tokens_2</th>\n",
       "      <th>tokens_3</th>\n",
       "    </tr>\n",
       "    <tr>\n",
       "      <th>index</th>\n",
       "      <th></th>\n",
       "      <th></th>\n",
       "      <th></th>\n",
       "      <th></th>\n",
       "      <th></th>\n",
       "      <th></th>\n",
       "      <th></th>\n",
       "      <th></th>\n",
       "      <th></th>\n",
       "      <th></th>\n",
       "      <th></th>\n",
       "      <th></th>\n",
       "      <th></th>\n",
       "      <th></th>\n",
       "      <th></th>\n",
       "      <th></th>\n",
       "    </tr>\n",
       "  </thead>\n",
       "  <tbody>\n",
       "    <tr>\n",
       "      <th>0</th>\n",
       "      <td>37662577P</td>\n",
       "      <td>0.0</td>\n",
       "      <td>LEGAL</td>\n",
       "      <td>9</td>\n",
       "      <td>9</td>\n",
       "      <td>0</td>\n",
       "      <td>50</td>\n",
       "      <td>80</td>\n",
       "      <td>56.333333</td>\n",
       "      <td>8.537499</td>\n",
       "      <td>6</td>\n",
       "      <td>0</td>\n",
       "      <td>0</td>\n",
       "      <td>[ ' 3 ' ,   ' 7 ' ,   ' 6 ' ,   ' 6 ' ,   ' 2 ...</td>\n",
       "      <td>[37, 76, 66, 62, 25, 57, 77]</td>\n",
       "      <td>[376, 766, 662, 625, 257, 577]</td>\n",
       "    </tr>\n",
       "  </tbody>\n",
       "</table>\n",
       "</div>"
      ],
      "text/plain": [
       "         payload  is_malicious injection_type  length  non-printable  \\\n",
       "index                                                                  \n",
       "0      37662577P           0.0          LEGAL       9              9   \n",
       "\n",
       "       punctuation  min-byte  max-byte  mean-byte  std-byte  distinct-bytes  \\\n",
       "index                                                                         \n",
       "0                0        50        80  56.333333  8.537499               6   \n",
       "\n",
       "       sql-keywords  js-keywords  \\\n",
       "index                              \n",
       "0                 0            0   \n",
       "\n",
       "                                                tokens_1  \\\n",
       "index                                                      \n",
       "0      [ ' 3 ' ,   ' 7 ' ,   ' 6 ' ,   ' 6 ' ,   ' 2 ...   \n",
       "\n",
       "                           tokens_2                        tokens_3  \n",
       "index                                                                \n",
       "0      [37, 76, 66, 62, 25, 57, 77]  [376, 766, 662, 625, 257, 577]  "
      ]
     },
     "execution_count": 28,
     "metadata": {},
     "output_type": "execute_result"
    }
   ],
   "source": [
    "payloads['tokens_3'] = payloads.payload.map(lambda t: get3Grams(t))\n",
    "payloads.head(1) "
   ]
  },
  {
   "cell_type": "code",
   "execution_count": 29,
   "metadata": {},
   "outputs": [],
   "source": [
    "payloads.to_csv('payloadss.csv')"
   ]
  },
  {
   "cell_type": "code",
   "execution_count": 48,
   "metadata": {
    "collapsed": true
   },
   "outputs": [
    {
     "ename": "AttributeError",
     "evalue": "lower not found",
     "output_type": "error",
     "traceback": [
      "\u001b[1;31m---------------------------------------------------------------------------\u001b[0m",
      "\u001b[1;31mAttributeError\u001b[0m                            Traceback (most recent call last)",
      "Cell \u001b[1;32mIn [48], line 1\u001b[0m\n\u001b[1;32m----> 1\u001b[0m \u001b[43mlr_count_1\u001b[49m\u001b[38;5;241;43m.\u001b[39;49m\u001b[43mfit\u001b[49m\u001b[43m(\u001b[49m\u001b[43m \u001b[49m\u001b[43mtrainX\u001b[49m\u001b[43m \u001b[49m\u001b[43m,\u001b[49m\u001b[43m \u001b[49m\u001b[43mtrainY\u001b[49m\u001b[43m \u001b[49m\u001b[43m)\u001b[49m \n",
      "File \u001b[1;32m~\\anaconda3\\lib\\site-packages\\sklearn\\pipeline.py:390\u001b[0m, in \u001b[0;36mPipeline.fit\u001b[1;34m(self, X, y, **fit_params)\u001b[0m\n\u001b[0;32m    364\u001b[0m \u001b[38;5;124;03m\"\"\"Fit the model.\u001b[39;00m\n\u001b[0;32m    365\u001b[0m \n\u001b[0;32m    366\u001b[0m \u001b[38;5;124;03mFit all the transformers one after the other and transform the\u001b[39;00m\n\u001b[1;32m   (...)\u001b[0m\n\u001b[0;32m    387\u001b[0m \u001b[38;5;124;03m    Pipeline with fitted steps.\u001b[39;00m\n\u001b[0;32m    388\u001b[0m \u001b[38;5;124;03m\"\"\"\u001b[39;00m\n\u001b[0;32m    389\u001b[0m fit_params_steps \u001b[38;5;241m=\u001b[39m \u001b[38;5;28mself\u001b[39m\u001b[38;5;241m.\u001b[39m_check_fit_params(\u001b[38;5;241m*\u001b[39m\u001b[38;5;241m*\u001b[39mfit_params)\n\u001b[1;32m--> 390\u001b[0m Xt \u001b[38;5;241m=\u001b[39m \u001b[38;5;28mself\u001b[39m\u001b[38;5;241m.\u001b[39m_fit(X, y, \u001b[38;5;241m*\u001b[39m\u001b[38;5;241m*\u001b[39mfit_params_steps)\n\u001b[0;32m    391\u001b[0m \u001b[38;5;28;01mwith\u001b[39;00m _print_elapsed_time(\u001b[38;5;124m\"\u001b[39m\u001b[38;5;124mPipeline\u001b[39m\u001b[38;5;124m\"\u001b[39m, \u001b[38;5;28mself\u001b[39m\u001b[38;5;241m.\u001b[39m_log_message(\u001b[38;5;28mlen\u001b[39m(\u001b[38;5;28mself\u001b[39m\u001b[38;5;241m.\u001b[39msteps) \u001b[38;5;241m-\u001b[39m \u001b[38;5;241m1\u001b[39m)):\n\u001b[0;32m    392\u001b[0m     \u001b[38;5;28;01mif\u001b[39;00m \u001b[38;5;28mself\u001b[39m\u001b[38;5;241m.\u001b[39m_final_estimator \u001b[38;5;241m!=\u001b[39m \u001b[38;5;124m\"\u001b[39m\u001b[38;5;124mpassthrough\u001b[39m\u001b[38;5;124m\"\u001b[39m:\n",
      "File \u001b[1;32m~\\anaconda3\\lib\\site-packages\\sklearn\\pipeline.py:348\u001b[0m, in \u001b[0;36mPipeline._fit\u001b[1;34m(self, X, y, **fit_params_steps)\u001b[0m\n\u001b[0;32m    346\u001b[0m     cloned_transformer \u001b[38;5;241m=\u001b[39m clone(transformer)\n\u001b[0;32m    347\u001b[0m \u001b[38;5;66;03m# Fit or load from cache the current transformer\u001b[39;00m\n\u001b[1;32m--> 348\u001b[0m X, fitted_transformer \u001b[38;5;241m=\u001b[39m fit_transform_one_cached(\n\u001b[0;32m    349\u001b[0m     cloned_transformer,\n\u001b[0;32m    350\u001b[0m     X,\n\u001b[0;32m    351\u001b[0m     y,\n\u001b[0;32m    352\u001b[0m     \u001b[38;5;28;01mNone\u001b[39;00m,\n\u001b[0;32m    353\u001b[0m     message_clsname\u001b[38;5;241m=\u001b[39m\u001b[38;5;124m\"\u001b[39m\u001b[38;5;124mPipeline\u001b[39m\u001b[38;5;124m\"\u001b[39m,\n\u001b[0;32m    354\u001b[0m     message\u001b[38;5;241m=\u001b[39m\u001b[38;5;28mself\u001b[39m\u001b[38;5;241m.\u001b[39m_log_message(step_idx),\n\u001b[0;32m    355\u001b[0m     \u001b[38;5;241m*\u001b[39m\u001b[38;5;241m*\u001b[39mfit_params_steps[name],\n\u001b[0;32m    356\u001b[0m )\n\u001b[0;32m    357\u001b[0m \u001b[38;5;66;03m# Replace the transformer of the step with the fitted\u001b[39;00m\n\u001b[0;32m    358\u001b[0m \u001b[38;5;66;03m# transformer. This is necessary when loading the transformer\u001b[39;00m\n\u001b[0;32m    359\u001b[0m \u001b[38;5;66;03m# from the cache.\u001b[39;00m\n\u001b[0;32m    360\u001b[0m \u001b[38;5;28mself\u001b[39m\u001b[38;5;241m.\u001b[39msteps[step_idx] \u001b[38;5;241m=\u001b[39m (name, fitted_transformer)\n",
      "File \u001b[1;32m~\\anaconda3\\lib\\site-packages\\joblib\\memory.py:349\u001b[0m, in \u001b[0;36mNotMemorizedFunc.__call__\u001b[1;34m(self, *args, **kwargs)\u001b[0m\n\u001b[0;32m    348\u001b[0m \u001b[38;5;28;01mdef\u001b[39;00m \u001b[38;5;21m__call__\u001b[39m(\u001b[38;5;28mself\u001b[39m, \u001b[38;5;241m*\u001b[39margs, \u001b[38;5;241m*\u001b[39m\u001b[38;5;241m*\u001b[39mkwargs):\n\u001b[1;32m--> 349\u001b[0m     \u001b[38;5;28;01mreturn\u001b[39;00m \u001b[38;5;28mself\u001b[39m\u001b[38;5;241m.\u001b[39mfunc(\u001b[38;5;241m*\u001b[39margs, \u001b[38;5;241m*\u001b[39m\u001b[38;5;241m*\u001b[39mkwargs)\n",
      "File \u001b[1;32m~\\anaconda3\\lib\\site-packages\\sklearn\\pipeline.py:893\u001b[0m, in \u001b[0;36m_fit_transform_one\u001b[1;34m(transformer, X, y, weight, message_clsname, message, **fit_params)\u001b[0m\n\u001b[0;32m    891\u001b[0m \u001b[38;5;28;01mwith\u001b[39;00m _print_elapsed_time(message_clsname, message):\n\u001b[0;32m    892\u001b[0m     \u001b[38;5;28;01mif\u001b[39;00m \u001b[38;5;28mhasattr\u001b[39m(transformer, \u001b[38;5;124m\"\u001b[39m\u001b[38;5;124mfit_transform\u001b[39m\u001b[38;5;124m\"\u001b[39m):\n\u001b[1;32m--> 893\u001b[0m         res \u001b[38;5;241m=\u001b[39m transformer\u001b[38;5;241m.\u001b[39mfit_transform(X, y, \u001b[38;5;241m*\u001b[39m\u001b[38;5;241m*\u001b[39mfit_params)\n\u001b[0;32m    894\u001b[0m     \u001b[38;5;28;01melse\u001b[39;00m:\n\u001b[0;32m    895\u001b[0m         res \u001b[38;5;241m=\u001b[39m transformer\u001b[38;5;241m.\u001b[39mfit(X, y, \u001b[38;5;241m*\u001b[39m\u001b[38;5;241m*\u001b[39mfit_params)\u001b[38;5;241m.\u001b[39mtransform(X)\n",
      "File \u001b[1;32m~\\anaconda3\\lib\\site-packages\\sklearn\\feature_extraction\\text.py:1330\u001b[0m, in \u001b[0;36mCountVectorizer.fit_transform\u001b[1;34m(self, raw_documents, y)\u001b[0m\n\u001b[0;32m   1322\u001b[0m             warnings\u001b[38;5;241m.\u001b[39mwarn(\n\u001b[0;32m   1323\u001b[0m                 \u001b[38;5;124m\"\u001b[39m\u001b[38;5;124mUpper case characters found in\u001b[39m\u001b[38;5;124m\"\u001b[39m\n\u001b[0;32m   1324\u001b[0m                 \u001b[38;5;124m\"\u001b[39m\u001b[38;5;124m vocabulary while \u001b[39m\u001b[38;5;124m'\u001b[39m\u001b[38;5;124mlowercase\u001b[39m\u001b[38;5;124m'\u001b[39m\u001b[38;5;124m\"\u001b[39m\n\u001b[0;32m   1325\u001b[0m                 \u001b[38;5;124m\"\u001b[39m\u001b[38;5;124m is True. These entries will not\u001b[39m\u001b[38;5;124m\"\u001b[39m\n\u001b[0;32m   1326\u001b[0m                 \u001b[38;5;124m\"\u001b[39m\u001b[38;5;124m be matched with any documents\u001b[39m\u001b[38;5;124m\"\u001b[39m\n\u001b[0;32m   1327\u001b[0m             )\n\u001b[0;32m   1328\u001b[0m             \u001b[38;5;28;01mbreak\u001b[39;00m\n\u001b[1;32m-> 1330\u001b[0m vocabulary, X \u001b[38;5;241m=\u001b[39m \u001b[38;5;28;43mself\u001b[39;49m\u001b[38;5;241;43m.\u001b[39;49m\u001b[43m_count_vocab\u001b[49m\u001b[43m(\u001b[49m\u001b[43mraw_documents\u001b[49m\u001b[43m,\u001b[49m\u001b[43m \u001b[49m\u001b[38;5;28;43mself\u001b[39;49m\u001b[38;5;241;43m.\u001b[39;49m\u001b[43mfixed_vocabulary_\u001b[49m\u001b[43m)\u001b[49m\n\u001b[0;32m   1332\u001b[0m \u001b[38;5;28;01mif\u001b[39;00m \u001b[38;5;28mself\u001b[39m\u001b[38;5;241m.\u001b[39mbinary:\n\u001b[0;32m   1333\u001b[0m     X\u001b[38;5;241m.\u001b[39mdata\u001b[38;5;241m.\u001b[39mfill(\u001b[38;5;241m1\u001b[39m)\n",
      "File \u001b[1;32m~\\anaconda3\\lib\\site-packages\\sklearn\\feature_extraction\\text.py:1201\u001b[0m, in \u001b[0;36mCountVectorizer._count_vocab\u001b[1;34m(self, raw_documents, fixed_vocab)\u001b[0m\n\u001b[0;32m   1199\u001b[0m \u001b[38;5;28;01mfor\u001b[39;00m doc \u001b[38;5;129;01min\u001b[39;00m raw_documents:\n\u001b[0;32m   1200\u001b[0m     feature_counter \u001b[38;5;241m=\u001b[39m {}\n\u001b[1;32m-> 1201\u001b[0m     \u001b[38;5;28;01mfor\u001b[39;00m feature \u001b[38;5;129;01min\u001b[39;00m \u001b[43manalyze\u001b[49m\u001b[43m(\u001b[49m\u001b[43mdoc\u001b[49m\u001b[43m)\u001b[49m:\n\u001b[0;32m   1202\u001b[0m         \u001b[38;5;28;01mtry\u001b[39;00m:\n\u001b[0;32m   1203\u001b[0m             feature_idx \u001b[38;5;241m=\u001b[39m vocabulary[feature]\n",
      "File \u001b[1;32m~\\anaconda3\\lib\\site-packages\\sklearn\\feature_extraction\\text.py:113\u001b[0m, in \u001b[0;36m_analyze\u001b[1;34m(doc, analyzer, tokenizer, ngrams, preprocessor, decoder, stop_words)\u001b[0m\n\u001b[0;32m    111\u001b[0m \u001b[38;5;28;01melse\u001b[39;00m:\n\u001b[0;32m    112\u001b[0m     \u001b[38;5;28;01mif\u001b[39;00m preprocessor \u001b[38;5;129;01mis\u001b[39;00m \u001b[38;5;129;01mnot\u001b[39;00m \u001b[38;5;28;01mNone\u001b[39;00m:\n\u001b[1;32m--> 113\u001b[0m         doc \u001b[38;5;241m=\u001b[39m \u001b[43mpreprocessor\u001b[49m\u001b[43m(\u001b[49m\u001b[43mdoc\u001b[49m\u001b[43m)\u001b[49m\n\u001b[0;32m    114\u001b[0m     \u001b[38;5;28;01mif\u001b[39;00m tokenizer \u001b[38;5;129;01mis\u001b[39;00m \u001b[38;5;129;01mnot\u001b[39;00m \u001b[38;5;28;01mNone\u001b[39;00m:\n\u001b[0;32m    115\u001b[0m         doc \u001b[38;5;241m=\u001b[39m tokenizer(doc)\n",
      "File \u001b[1;32m~\\anaconda3\\lib\\site-packages\\sklearn\\feature_extraction\\text.py:71\u001b[0m, in \u001b[0;36m_preprocess\u001b[1;34m(doc, accent_function, lower)\u001b[0m\n\u001b[0;32m     52\u001b[0m \u001b[38;5;124;03m\"\"\"Chain together an optional series of text preprocessing steps to\u001b[39;00m\n\u001b[0;32m     53\u001b[0m \u001b[38;5;124;03mapply to a document.\u001b[39;00m\n\u001b[0;32m     54\u001b[0m \n\u001b[1;32m   (...)\u001b[0m\n\u001b[0;32m     68\u001b[0m \u001b[38;5;124;03m    preprocessed string\u001b[39;00m\n\u001b[0;32m     69\u001b[0m \u001b[38;5;124;03m\"\"\"\u001b[39;00m\n\u001b[0;32m     70\u001b[0m \u001b[38;5;28;01mif\u001b[39;00m lower:\n\u001b[1;32m---> 71\u001b[0m     doc \u001b[38;5;241m=\u001b[39m \u001b[43mdoc\u001b[49m\u001b[38;5;241;43m.\u001b[39;49m\u001b[43mlower\u001b[49m()\n\u001b[0;32m     72\u001b[0m \u001b[38;5;28;01mif\u001b[39;00m accent_function \u001b[38;5;129;01mis\u001b[39;00m \u001b[38;5;129;01mnot\u001b[39;00m \u001b[38;5;28;01mNone\u001b[39;00m:\n\u001b[0;32m     73\u001b[0m     doc \u001b[38;5;241m=\u001b[39m accent_function(doc)\n",
      "File \u001b[1;32m~\\anaconda3\\lib\\site-packages\\scipy\\sparse\\base.py:687\u001b[0m, in \u001b[0;36mspmatrix.__getattr__\u001b[1;34m(self, attr)\u001b[0m\n\u001b[0;32m    685\u001b[0m     \u001b[38;5;28;01mreturn\u001b[39;00m \u001b[38;5;28mself\u001b[39m\u001b[38;5;241m.\u001b[39mgetnnz()\n\u001b[0;32m    686\u001b[0m \u001b[38;5;28;01melse\u001b[39;00m:\n\u001b[1;32m--> 687\u001b[0m     \u001b[38;5;28;01mraise\u001b[39;00m \u001b[38;5;167;01mAttributeError\u001b[39;00m(attr \u001b[38;5;241m+\u001b[39m \u001b[38;5;124m\"\u001b[39m\u001b[38;5;124m not found\u001b[39m\u001b[38;5;124m\"\u001b[39m)\n",
      "\u001b[1;31mAttributeError\u001b[0m: lower not found"
     ]
    }
   ],
   "source": [
    "lr_count_1.fit( trainX , trainY ) "
   ]
  },
  {
   "cell_type": "code",
   "execution_count": null,
   "metadata": {},
   "outputs": [],
   "source": [
    "lr_count_1.score( testX , testY ) "
   ]
  },
  {
   "cell_type": "code",
   "execution_count": null,
   "metadata": {},
   "outputs": [],
   "source": [
    "pickle.dump( lr_count_1 , open('lr_count_1.pkl', 'wb') ) "
   ]
  },
  {
   "cell_type": "code",
   "execution_count": null,
   "metadata": {},
   "outputs": [],
   "source": [
    "\n",
    "def get1Grams(payload_obj):\n",
    "    '''Divides a string into 1-grams\n",
    "    \n",
    "    Example: input - payload: \"<script>\"\n",
    "             output- [\"<\",\"s\",\"c\",\"r\",\"i\",\"p\",\"t\",\">\"]\n",
    "    '''\n",
    "    payload = str(payload_obj)\n",
    "    ngrams = []\n",
    "    for i in range(0,len(payload)-1):\n",
    "        ngrams.append(payload[i:i+1])\n",
    "    return ngrams\n",
    "\n",
    "tfidf_vectorizer_1grams = TfidfVectorizer(tokenizer=get1Grams)\n",
    "count_vectorizer_1grams = CountVectorizer(min_df=1, tokenizer=get1Grams)"
   ]
  },
  {
   "cell_type": "markdown",
   "metadata": {},
   "source": [
    "Use the 6 different feature spaces generated from the vectorizers previously above, \n",
    "and train every classifier in classifier_inputs in every feature space\n",
    "\n",
    "### P.S! Don't try to run this, it will take several days to complete  \n",
    "### Instead skip to Step4B"
   ]
  },
  {
   "cell_type": "code",
   "execution_count": 80,
   "metadata": {},
   "outputs": [],
   "source": [
    "# pip install scikit-learn --user\n",
    "\n",
    "# !pip install git \n",
    "# !pip install git+https://github.com/hyperopt/hyperopt-sklearn.git"
   ]
  },
  {
   "cell_type": "code",
   "execution_count": 72,
   "metadata": {},
   "outputs": [
    {
     "data": {
      "text/plain": [
       "{}"
      ]
     },
     "metadata": {},
     "output_type": "display_data"
    },
    {
     "name": "stderr",
     "output_type": "stream",
     "text": [
      "C:\\Users\\lanka\\anaconda3\\lib\\site-packages\\sklearn\\model_selection\\_search.py:292: UserWarning: The total space of parameters 1 is smaller than n_iter=10. Running 1 iterations. For exhaustive searches, use GridSearchCV.\n",
      "  warnings.warn(\n"
     ]
    },
    {
     "name": "stdout",
     "output_type": "stream",
     "text": [
      "Fitting 81472 folds for each of 1 candidates, totalling 81472 fits\n"
     ]
    },
    {
     "ename": "MemoryError",
     "evalue": "Unable to allocate 318. KiB for an array with shape (81472,) and data type int32",
     "output_type": "error",
     "traceback": [
      "\u001b[1;31m---------------------------------------------------------------------------\u001b[0m",
      "\u001b[1;31mMemoryError\u001b[0m                               Traceback (most recent call last)",
      "Cell \u001b[1;32mIn [72], line 24\u001b[0m\n\u001b[0;32m     22\u001b[0m         \u001b[38;5;28mprint\u001b[39m(\u001b[38;5;124m'\u001b[39m\u001b[38;5;124mSkipping \u001b[39m\u001b[38;5;124m'\u001b[39m \u001b[38;5;241m+\u001b[39m classifier_name \u001b[38;5;241m+\u001b[39m \u001b[38;5;124m'\u001b[39m\u001b[38;5;124m, already trained\u001b[39m\u001b[38;5;124m'\u001b[39m)\n\u001b[0;32m     23\u001b[0m     \u001b[38;5;28;01melse\u001b[39;00m:\n\u001b[1;32m---> 24\u001b[0m         result_dict \u001b[38;5;241m=\u001b[39m \u001b[43mtrain_model\u001b[49m\u001b[43m(\u001b[49m\u001b[43minputs\u001b[49m\u001b[43m[\u001b[49m\u001b[38;5;124;43m'\u001b[39;49m\u001b[38;5;124;43mpipeline\u001b[39;49m\u001b[38;5;124;43m'\u001b[39;49m\u001b[43m]\u001b[49m\u001b[43m,\u001b[49m\u001b[43minputs\u001b[49m\u001b[43m[\u001b[49m\u001b[38;5;124;43m'\u001b[39;49m\u001b[38;5;124;43mdict_params\u001b[39;49m\u001b[38;5;124;43m'\u001b[39;49m\u001b[43m]\u001b[49m\u001b[43m,\u001b[49m\u001b[43mX\u001b[49m\u001b[43m,\u001b[49m\u001b[43mY\u001b[49m\u001b[43m)\u001b[49m\n\u001b[0;32m     25\u001b[0m         classifier_results\u001b[38;5;241m.\u001b[39mloc[classifier_name] \u001b[38;5;241m=\u001b[39m result_dict\n\u001b[0;32m     27\u001b[0m display(classifier_results)\n",
      "Cell \u001b[1;32mIn [26], line 57\u001b[0m, in \u001b[0;36mtrain_model\u001b[1;34m(clf, param_grid, X, Y)\u001b[0m\n\u001b[0;32m     35\u001b[0m random_grid_search \u001b[38;5;241m=\u001b[39m RandomizedSearchCV(\n\u001b[0;32m     36\u001b[0m     clf, \n\u001b[0;32m     37\u001b[0m     param_distributions\u001b[38;5;241m=\u001b[39mparam_grid,\n\u001b[1;32m   (...)\u001b[0m\n\u001b[0;32m     43\u001b[0m     verbose\u001b[38;5;241m=\u001b[39m\u001b[38;5;241m10\u001b[39m\n\u001b[0;32m     44\u001b[0m )\n\u001b[0;32m     46\u001b[0m \u001b[38;5;124;03m'''Randomized search used instead. We have limited computing power\u001b[39;00m\n\u001b[0;32m     47\u001b[0m \u001b[38;5;124;03mgrid_search = GridSearchCV(\u001b[39;00m\n\u001b[0;32m     48\u001b[0m \u001b[38;5;124;03m    clf,\u001b[39;00m\n\u001b[1;32m   (...)\u001b[0m\n\u001b[0;32m     55\u001b[0m \u001b[38;5;124;03mgrid_search.fit(X_train, Y_train)\u001b[39;00m\n\u001b[0;32m     56\u001b[0m \u001b[38;5;124;03m'''\u001b[39;00m\n\u001b[1;32m---> 57\u001b[0m \u001b[43mrandom_grid_search\u001b[49m\u001b[38;5;241;43m.\u001b[39;49m\u001b[43mfit\u001b[49m\u001b[43m(\u001b[49m\u001b[43mX_train\u001b[49m\u001b[43m,\u001b[49m\u001b[43m \u001b[49m\u001b[43mY_train\u001b[49m\u001b[43m)\u001b[49m\n\u001b[0;32m     59\u001b[0m \u001b[38;5;66;03m#Evaluate the best model on the test data\u001b[39;00m\n\u001b[0;32m     60\u001b[0m Y_test_predicted \u001b[38;5;241m=\u001b[39m random_grid_search\u001b[38;5;241m.\u001b[39mbest_estimator_\u001b[38;5;241m.\u001b[39mpredict(X_test)\n",
      "File \u001b[1;32m~\\anaconda3\\lib\\site-packages\\sklearn\\model_selection\\_search.py:891\u001b[0m, in \u001b[0;36mBaseSearchCV.fit\u001b[1;34m(self, X, y, groups, **fit_params)\u001b[0m\n\u001b[0;32m    885\u001b[0m     results \u001b[38;5;241m=\u001b[39m \u001b[38;5;28mself\u001b[39m\u001b[38;5;241m.\u001b[39m_format_results(\n\u001b[0;32m    886\u001b[0m         all_candidate_params, n_splits, all_out, all_more_results\n\u001b[0;32m    887\u001b[0m     )\n\u001b[0;32m    889\u001b[0m     \u001b[38;5;28;01mreturn\u001b[39;00m results\n\u001b[1;32m--> 891\u001b[0m \u001b[38;5;28;43mself\u001b[39;49m\u001b[38;5;241;43m.\u001b[39;49m\u001b[43m_run_search\u001b[49m\u001b[43m(\u001b[49m\u001b[43mevaluate_candidates\u001b[49m\u001b[43m)\u001b[49m\n\u001b[0;32m    893\u001b[0m \u001b[38;5;66;03m# multimetric is determined here because in the case of a callable\u001b[39;00m\n\u001b[0;32m    894\u001b[0m \u001b[38;5;66;03m# self.scoring the return type is only known after calling\u001b[39;00m\n\u001b[0;32m    895\u001b[0m first_test_score \u001b[38;5;241m=\u001b[39m all_out[\u001b[38;5;241m0\u001b[39m][\u001b[38;5;124m\"\u001b[39m\u001b[38;5;124mtest_scores\u001b[39m\u001b[38;5;124m\"\u001b[39m]\n",
      "File \u001b[1;32m~\\anaconda3\\lib\\site-packages\\sklearn\\model_selection\\_search.py:1766\u001b[0m, in \u001b[0;36mRandomizedSearchCV._run_search\u001b[1;34m(self, evaluate_candidates)\u001b[0m\n\u001b[0;32m   1764\u001b[0m \u001b[38;5;28;01mdef\u001b[39;00m \u001b[38;5;21m_run_search\u001b[39m(\u001b[38;5;28mself\u001b[39m, evaluate_candidates):\n\u001b[0;32m   1765\u001b[0m     \u001b[38;5;124;03m\"\"\"Search n_iter candidates from param_distributions\"\"\"\u001b[39;00m\n\u001b[1;32m-> 1766\u001b[0m     \u001b[43mevaluate_candidates\u001b[49m\u001b[43m(\u001b[49m\n\u001b[0;32m   1767\u001b[0m \u001b[43m        \u001b[49m\u001b[43mParameterSampler\u001b[49m\u001b[43m(\u001b[49m\n\u001b[0;32m   1768\u001b[0m \u001b[43m            \u001b[49m\u001b[38;5;28;43mself\u001b[39;49m\u001b[38;5;241;43m.\u001b[39;49m\u001b[43mparam_distributions\u001b[49m\u001b[43m,\u001b[49m\u001b[43m \u001b[49m\u001b[38;5;28;43mself\u001b[39;49m\u001b[38;5;241;43m.\u001b[39;49m\u001b[43mn_iter\u001b[49m\u001b[43m,\u001b[49m\u001b[43m \u001b[49m\u001b[43mrandom_state\u001b[49m\u001b[38;5;241;43m=\u001b[39;49m\u001b[38;5;28;43mself\u001b[39;49m\u001b[38;5;241;43m.\u001b[39;49m\u001b[43mrandom_state\u001b[49m\n\u001b[0;32m   1769\u001b[0m \u001b[43m        \u001b[49m\u001b[43m)\u001b[49m\n\u001b[0;32m   1770\u001b[0m \u001b[43m    \u001b[49m\u001b[43m)\u001b[49m\n",
      "File \u001b[1;32m~\\anaconda3\\lib\\site-packages\\sklearn\\model_selection\\_search.py:850\u001b[0m, in \u001b[0;36mBaseSearchCV.fit.<locals>.evaluate_candidates\u001b[1;34m(candidate_params, cv, more_results)\u001b[0m\n\u001b[0;32m    830\u001b[0m \u001b[38;5;28;01mif\u001b[39;00m \u001b[38;5;28mself\u001b[39m\u001b[38;5;241m.\u001b[39mverbose \u001b[38;5;241m>\u001b[39m \u001b[38;5;241m0\u001b[39m:\n\u001b[0;32m    831\u001b[0m     \u001b[38;5;28mprint\u001b[39m(\n\u001b[0;32m    832\u001b[0m         \u001b[38;5;124m\"\u001b[39m\u001b[38;5;124mFitting \u001b[39m\u001b[38;5;132;01m{0}\u001b[39;00m\u001b[38;5;124m folds for each of \u001b[39m\u001b[38;5;132;01m{1}\u001b[39;00m\u001b[38;5;124m candidates,\u001b[39m\u001b[38;5;124m\"\u001b[39m\n\u001b[0;32m    833\u001b[0m         \u001b[38;5;124m\"\u001b[39m\u001b[38;5;124m totalling \u001b[39m\u001b[38;5;132;01m{2}\u001b[39;00m\u001b[38;5;124m fits\u001b[39m\u001b[38;5;124m\"\u001b[39m\u001b[38;5;241m.\u001b[39mformat(\n\u001b[0;32m    834\u001b[0m             n_splits, n_candidates, n_candidates \u001b[38;5;241m*\u001b[39m n_splits\n\u001b[0;32m    835\u001b[0m         )\n\u001b[0;32m    836\u001b[0m     )\n\u001b[0;32m    838\u001b[0m out \u001b[38;5;241m=\u001b[39m parallel(\n\u001b[0;32m    839\u001b[0m     delayed(_fit_and_score)(\n\u001b[0;32m    840\u001b[0m         clone(base_estimator),\n\u001b[0;32m    841\u001b[0m         X,\n\u001b[0;32m    842\u001b[0m         y,\n\u001b[0;32m    843\u001b[0m         train\u001b[38;5;241m=\u001b[39mtrain,\n\u001b[0;32m    844\u001b[0m         test\u001b[38;5;241m=\u001b[39mtest,\n\u001b[0;32m    845\u001b[0m         parameters\u001b[38;5;241m=\u001b[39mparameters,\n\u001b[0;32m    846\u001b[0m         split_progress\u001b[38;5;241m=\u001b[39m(split_idx, n_splits),\n\u001b[0;32m    847\u001b[0m         candidate_progress\u001b[38;5;241m=\u001b[39m(cand_idx, n_candidates),\n\u001b[0;32m    848\u001b[0m         \u001b[38;5;241m*\u001b[39m\u001b[38;5;241m*\u001b[39mfit_and_score_kwargs,\n\u001b[0;32m    849\u001b[0m     )\n\u001b[1;32m--> 850\u001b[0m     \u001b[38;5;28;01mfor\u001b[39;00m (cand_idx, parameters), (split_idx, (train, test)) \u001b[38;5;129;01min\u001b[39;00m \u001b[43mproduct\u001b[49m\u001b[43m(\u001b[49m\n\u001b[0;32m    851\u001b[0m \u001b[43m        \u001b[49m\u001b[38;5;28;43menumerate\u001b[39;49m\u001b[43m(\u001b[49m\u001b[43mcandidate_params\u001b[49m\u001b[43m)\u001b[49m\u001b[43m,\u001b[49m\u001b[43m \u001b[49m\u001b[38;5;28;43menumerate\u001b[39;49m\u001b[43m(\u001b[49m\u001b[43mcv\u001b[49m\u001b[38;5;241;43m.\u001b[39;49m\u001b[43msplit\u001b[49m\u001b[43m(\u001b[49m\u001b[43mX\u001b[49m\u001b[43m,\u001b[49m\u001b[43m \u001b[49m\u001b[43my\u001b[49m\u001b[43m,\u001b[49m\u001b[43m \u001b[49m\u001b[43mgroups\u001b[49m\u001b[43m)\u001b[49m\u001b[43m)\u001b[49m\n\u001b[0;32m    852\u001b[0m \u001b[43m    \u001b[49m\u001b[43m)\u001b[49m\n\u001b[0;32m    853\u001b[0m )\n\u001b[0;32m    855\u001b[0m \u001b[38;5;28;01mif\u001b[39;00m \u001b[38;5;28mlen\u001b[39m(out) \u001b[38;5;241m<\u001b[39m \u001b[38;5;241m1\u001b[39m:\n\u001b[0;32m    856\u001b[0m     \u001b[38;5;28;01mraise\u001b[39;00m \u001b[38;5;167;01mValueError\u001b[39;00m(\n\u001b[0;32m    857\u001b[0m         \u001b[38;5;124m\"\u001b[39m\u001b[38;5;124mNo fits were performed. \u001b[39m\u001b[38;5;124m\"\u001b[39m\n\u001b[0;32m    858\u001b[0m         \u001b[38;5;124m\"\u001b[39m\u001b[38;5;124mWas the CV iterator empty? \u001b[39m\u001b[38;5;124m\"\u001b[39m\n\u001b[0;32m    859\u001b[0m         \u001b[38;5;124m\"\u001b[39m\u001b[38;5;124mWere there no candidates?\u001b[39m\u001b[38;5;124m\"\u001b[39m\n\u001b[0;32m    860\u001b[0m     )\n",
      "File \u001b[1;32m~\\anaconda3\\lib\\site-packages\\sklearn\\model_selection\\_split.py:1600\u001b[0m, in \u001b[0;36mBaseShuffleSplit.split\u001b[1;34m(self, X, y, groups)\u001b[0m\n\u001b[0;32m   1570\u001b[0m \u001b[38;5;124;03m\"\"\"Generate indices to split data into training and test set.\u001b[39;00m\n\u001b[0;32m   1571\u001b[0m \n\u001b[0;32m   1572\u001b[0m \u001b[38;5;124;03mParameters\u001b[39;00m\n\u001b[1;32m   (...)\u001b[0m\n\u001b[0;32m   1597\u001b[0m \u001b[38;5;124;03mto an integer.\u001b[39;00m\n\u001b[0;32m   1598\u001b[0m \u001b[38;5;124;03m\"\"\"\u001b[39;00m\n\u001b[0;32m   1599\u001b[0m X, y, groups \u001b[38;5;241m=\u001b[39m indexable(X, y, groups)\n\u001b[1;32m-> 1600\u001b[0m \u001b[38;5;28;01mfor\u001b[39;00m train, test \u001b[38;5;129;01min\u001b[39;00m \u001b[38;5;28mself\u001b[39m\u001b[38;5;241m.\u001b[39m_iter_indices(X, y, groups):\n\u001b[0;32m   1601\u001b[0m     \u001b[38;5;28;01myield\u001b[39;00m train, test\n",
      "File \u001b[1;32m~\\anaconda3\\lib\\site-packages\\sklearn\\model_selection\\_split.py:1718\u001b[0m, in \u001b[0;36mShuffleSplit._iter_indices\u001b[1;34m(self, X, y, groups)\u001b[0m\n\u001b[0;32m   1715\u001b[0m rng \u001b[38;5;241m=\u001b[39m check_random_state(\u001b[38;5;28mself\u001b[39m\u001b[38;5;241m.\u001b[39mrandom_state)\n\u001b[0;32m   1716\u001b[0m \u001b[38;5;28;01mfor\u001b[39;00m i \u001b[38;5;129;01min\u001b[39;00m \u001b[38;5;28mrange\u001b[39m(\u001b[38;5;28mself\u001b[39m\u001b[38;5;241m.\u001b[39mn_splits):\n\u001b[0;32m   1717\u001b[0m     \u001b[38;5;66;03m# random partition\u001b[39;00m\n\u001b[1;32m-> 1718\u001b[0m     permutation \u001b[38;5;241m=\u001b[39m \u001b[43mrng\u001b[49m\u001b[38;5;241;43m.\u001b[39;49m\u001b[43mpermutation\u001b[49m\u001b[43m(\u001b[49m\u001b[43mn_samples\u001b[49m\u001b[43m)\u001b[49m\n\u001b[0;32m   1719\u001b[0m     ind_test \u001b[38;5;241m=\u001b[39m permutation[:n_test]\n\u001b[0;32m   1720\u001b[0m     ind_train \u001b[38;5;241m=\u001b[39m permutation[n_test : (n_test \u001b[38;5;241m+\u001b[39m n_train)]\n",
      "File \u001b[1;32mmtrand.pyx:4604\u001b[0m, in \u001b[0;36mnumpy.random.mtrand.RandomState.permutation\u001b[1;34m()\u001b[0m\n",
      "\u001b[1;31mMemoryError\u001b[0m: Unable to allocate 318. KiB for an array with shape (81472,) and data type int32"
     ]
    }
   ],
   "source": [
    "from sklearn.pipeline import Pipeline\n",
    "from sklearn.neural_network import MLPClassifier\n",
    "from sklearn.model_selection import train_test_split\n",
    "from scipy.stats import expon\n",
    "from sklearn.model_selection import ShuffleSplit\n",
    "\n",
    "classifier_inputs = {}\n",
    "classifier_inputs.update(create_classifier_inputs_using_vectorizers(count_vectorizer_1grams,'count 1grams'))\n",
    "# classifier_inputs.update(create_classifier_inputs_using_vectorizers(count_vectorizer_2grams,'count 2grams'))\n",
    "# classifier_inputs.update(create_classifier_inputs_using_vectorizers(count_vectorizer_3grams,'count 3grams'))\n",
    "# classifier_inputs.update(create_classifier_inputs_using_vectorizers(tfidf_vectorizer_1grams,'tfidf 1grams'))\n",
    "# classifier_inputs.update(create_classifier_inputs_using_vectorizers(tfidf_vectorizer_2grams,'tfidf 2grams'))\n",
    "# classifier_inputs.update(create_classifier_inputs_using_vectorizers(tfidf_vectorizer_3grams,'tfidf 3grams'))\n",
    "\n",
    "\n",
    "X = payloads['payload'] \n",
    "Y = payloads['is_malicious']\n",
    "\n",
    "for classifier_name, inputs in classifier_inputs.items():\n",
    "    display(inputs['dict_params'])\n",
    "    if classifier_name in classifier_results.index.values.tolist():\n",
    "        print('Skipping ' + classifier_name + ', already trained')\n",
    "    else:\n",
    "        result_dict = train_model(inputs['pipeline'],inputs['dict_params'],X,Y)\n",
    "        classifier_results.loc[classifier_name] = result_dict\n",
    "\n",
    "display(classifier_results)\n",
    "\n",
    "# ERRORS \n",
    "# TypeError: __init__() got an unexpected keyword argument 'n'\n",
    "\n",
    "# what is n_iter() ? \n",
    "# why is n_iter used ? \n",
    "# can we remove and work without n_iter?\n",
    "# can we replace n_iter with something ? \n",
    "\n",
    "# Memory OVERCOMMIT problem \n",
    "# can't allocate that large number of physical pages memory to the data storage of all these processes \n",
    "# MemoryError: Unable to allocate 318. KiB for an array with shape (81472,) and data type int32"
   ]
  },
  {
   "cell_type": "code",
   "execution_count": null,
   "metadata": {},
   "outputs": [],
   "source": [
    "display(pd.DataFrame(payloads['payload'].copy()))"
   ]
  },
  {
   "cell_type": "code",
   "execution_count": null,
   "metadata": {},
   "outputs": [],
   "source": [
    "cd newmodels"
   ]
  },
  {
   "cell_type": "code",
   "execution_count": null,
   "metadata": {},
   "outputs": [],
   "source": [
    "# Custom classifiers with n grams\n",
    "pickle.dump( classifier_results, open( \"data/trained_classifiers.p\", \"wb\" ) )"
   ]
  },
  {
   "cell_type": "markdown",
   "metadata": {},
   "source": [
    "Use our custom feature space, \n",
    "and train every classifier in classifier_inputs_custom with\n",
    "\n",
    "### P.S! Don't try to run this, it will take many hours to complete  \n",
    "### Instead skip to Step4B"
   ]
  },
  {
   "cell_type": "code",
   "execution_count": null,
   "metadata": {
    "scrolled": false
   },
   "outputs": [],
   "source": [
    "classifier_inputs_custom = {}\n",
    "\n",
    "#Get classifiers and parameters to optimize\n",
    "classifier_inputs_custom.update(create_classifier_inputs('custom'))\n",
    "\n",
    "#Extract payloads and labels\n",
    "Y = payloads['is_malicious']\n",
    "X = create_features(pd.DataFrame(payloads['payload'].copy()))\n",
    "\n",
    "#Select the best features\n",
    "X_new = SelectKBest(score_func=chi2, k=4).fit_transform(X,Y)\n",
    "\n",
    "#Call train_model for every classifier and save results to classifier_results\n",
    "for classifier_name, inputs in classifier_inputs_custom.items():\n",
    "    if classifier_name in classifier_results.index.values.tolist():\n",
    "        print('Skipping ' + classifier_name + ', already trained')\n",
    "    else:\n",
    "        result_dict = train_model(inputs['pipeline'],inputs['dict_params'],X,Y)\n",
    "        classifier_results.loc[classifier_name] = result_dict\n",
    "\n",
    "display(classifier_results)\n",
    "\n",
    "# pickle.dump( classifier_results, open( \"data/trained_classifier_custom_all_features.p\", \"wb\" ) )"
   ]
  },
  {
   "cell_type": "code",
   "execution_count": null,
   "metadata": {},
   "outputs": [],
   "source": [
    "#Save classifiers in a pickle file to be able to re-use them without re-training\n",
    "pickle.dump( classifier_results, open( \"data/trained_classifier_custom_all_features.p\", \"wb\" )"
   ]
  },
  {
   "cell_type": "markdown",
   "metadata": {},
   "source": [
    "### Classifier results"
   ]
  },
  {
   "cell_type": "code",
   "execution_count": null,
   "metadata": {},
   "outputs": [],
   "source": [
    "#Display the results for the classifiers that were trained using our custom feature space\n",
    "custom_features_classifiers = pickle.load( open(\"data/trained_classifier_custom_all_features.p\", \"rb\"))\n",
    "display(custom_features_classifiers)"
   ]
  },
  {
   "cell_type": "code",
   "execution_count": null,
   "metadata": {
    "scrolled": false
   },
   "outputs": [],
   "source": [
    "#Display the results for the classifiers that were using bag of words feature spaces\n",
    "classifier_results = pickle.load( open( \"data/trained_classifiers.p\", \"rb\" ) )\n",
    "display(classifier_results)\n"
   ]
  },
  {
   "cell_type": "code",
   "execution_count": null,
   "metadata": {},
   "outputs": [],
   "source": [
    "#Combine the two tables into one table\n",
    "classifier_results = classifier_results.append(custom_features_classifiers)\n",
    "classifier_results = classifier_results.sort_values(['sensitivity','accuracy'], ascending=[False,False])\n",
    "display(classifier_results)"
   ]
  },
  {
   "cell_type": "markdown",
   "metadata": {},
   "source": [
    "### F1-score\n",
    "Calculate F1-score of each classifier and add to classifiers table\n",
    "\n",
    "(We didn't implement this in the train_model function as with the other performance metrics because we've already done a 82 hour training session before this and didn't want to re-run the entire training just to add F1-score from inside train_model)"
   ]
  },
  {
   "cell_type": "code",
   "execution_count": null,
   "metadata": {},
   "outputs": [],
   "source": [
    "def f1_score(conf_matrix):\n",
    "    precision = conf_matrix[0][0] / (conf_matrix[0][0] + conf_matrix[0][1] )\n",
    "    recall = conf_matrix[0][0] / (conf_matrix[0][0] + conf_matrix[1][0] )\n",
    "    \n",
    "    return (2 * precision * recall) / (precision + recall)\n",
    "\n",
    "#load classifier table if not yet loaded\n",
    "classifier_results = pickle.load( open( \"data/trained_classifiers.p\", \"rb\" ) )\n",
    "\n",
    "#Calculate F1-scores\n",
    "classifier_results['F1-score'] = [ f1_score(conf_matrix) for conf_matrix in classifier_results['conf_matrix']]\n",
    "\n",
    "#Re-arrange columns\n",
    "classifier_results = classifier_results[['F1-score','accuracy','sensitivity','specificity','auc','conf_matrix','params','model','roc']]\n",
    "\n",
    "#re-sort on F1-score\n",
    "classifier_results = classifier_results.sort_values(['F1-score','accuracy'], ascending=[False,False])\n",
    "\n",
    "display(classifier_results)"
   ]
  },
  {
   "cell_type": "markdown",
   "metadata": {},
   "source": [
    "Final formating  \n",
    "Convert numeric columns to float  \n",
    "Round numeric columns to 4 decimals  "
   ]
  },
  {
   "cell_type": "code",
   "execution_count": 42,
   "metadata": {},
   "outputs": [
    {
     "data": {
      "text/plain": [
       "F1-score       float64\n",
       "accuracy       float64\n",
       "sensitivity    float64\n",
       "specificity    float64\n",
       "auc            float64\n",
       "conf_matrix     object\n",
       "params          object\n",
       "model           object\n",
       "roc             object\n",
       "dtype: object"
      ]
     },
     "metadata": {},
     "output_type": "display_data"
    }
   ],
   "source": [
    "classifier_results[['F1-score','accuracy','sensitivity','specificity','auc']] = classifier_results[['F1-score','accuracy','sensitivity','specificity','auc']].apply(pd.to_numeric)\n",
    "classifier_results = classifier_results.round({'F1-score':4,'accuracy':4,'sensitivity':4,'specificity':4,'auc':4})\n",
    "#classifier_results[['F1-score','accuracy','sensitivity','specificity','auc','conf_matrix','params']].to_csv('data/classifiers_result_table.csv')\n",
    "display(classifier_results.dtypes)"
   ]
  },
  {
   "cell_type": "markdown",
   "metadata": {},
   "source": [
    "### Export classifiers\n",
    "First, export full list of trained classifiers for later use\n",
    "Second, pick one classifier to save in a separate pickle, used later to implement in a dummy server"
   ]
  },
  {
   "cell_type": "code",
   "execution_count": 43,
   "metadata": {
    "collapsed": true
   },
   "outputs": [],
   "source": [
    "#save complete list of classifiers to 'trained_classifiers'\n",
    "pickle.dump( classifier_results, open( \"data/trained_classifiers.p\", \"wb\" ) )"
   ]
  },
  {
   "cell_type": "code",
   "execution_count": null,
   "metadata": {
    "collapsed": true
   },
   "outputs": [],
   "source": [
    "#In this case, we are going to implement tfidf 2grams RandomForest in our dummy server\n",
    "classifier = (custom_features_classifiers['model'].iloc[0])\n",
    "print(classifier)\n",
    "\n",
    "#Save classifiers in a pickle file to be able to re-use them without re-training\n",
    "pickle.dump( classifier, open( \"data/tfidf_2grams_randomforest.p\", \"wb\" ) )"
   ]
  },
  {
   "cell_type": "markdown",
   "metadata": {},
   "source": [
    "## Step4B - load pre-trained classifiers\n",
    "Instead of re-training all classifiers, load the classifiers from disk that we have already trained"
   ]
  },
  {
   "cell_type": "code",
   "execution_count": null,
   "metadata": {
    "collapsed": true
   },
   "outputs": [],
   "source": [
    "classifier_results = pickle.load( open( \"data/trained_classifiers.p\", \"rb\" ) )"
   ]
  },
  {
   "cell_type": "markdown",
   "metadata": {},
   "source": [
    "## Step5 - Visualization\n",
    "In this section we will visualize:\n",
    " - Histogram of classifier performances\n",
    " - Learning curves\n",
    " - ROC curves"
   ]
  },
  {
   "cell_type": "markdown",
   "metadata": {},
   "source": [
    "### Performance histogram\n",
    "First, make a histogram of classifier performance measured by F1-score.  \n",
    "Same classifier using different feature spaces are clustered together in the graph  \n",
    "Also, print the table of F1-scores and computes the averages along the x-axis and y-axis,  \n",
    "e.g. the average F1-score for each classifier, and the average F1-score for each feature space"
   ]
  },
  {
   "cell_type": "code",
   "execution_count": 151,
   "metadata": {},
   "outputs": [
    {
     "data": {
      "text/html": [
       "<div>\n",
       "<table border=\"1\" class=\"dataframe\">\n",
       "  <thead>\n",
       "    <tr style=\"text-align: right;\">\n",
       "      <th></th>\n",
       "      <th>custom</th>\n",
       "      <th>count 1grams</th>\n",
       "      <th>count 2grams</th>\n",
       "      <th>count 3grams</th>\n",
       "      <th>tfidf 1grams</th>\n",
       "      <th>tfidf 2grams</th>\n",
       "      <th>tfidf 3grams</th>\n",
       "      <th>Avg Feature</th>\n",
       "    </tr>\n",
       "  </thead>\n",
       "  <tbody>\n",
       "    <tr>\n",
       "      <th>MLPClassifier</th>\n",
       "      <td>0.9960</td>\n",
       "      <td>0.0000</td>\n",
       "      <td>0.0000</td>\n",
       "      <td>0.0000</td>\n",
       "      <td>0.0000</td>\n",
       "      <td>0.0000</td>\n",
       "      <td>0.0000</td>\n",
       "      <td>0.9960</td>\n",
       "    </tr>\n",
       "    <tr>\n",
       "      <th>RandomForest</th>\n",
       "      <td>0.9983</td>\n",
       "      <td>0.9991</td>\n",
       "      <td>0.9991</td>\n",
       "      <td>0.9985</td>\n",
       "      <td>0.9991</td>\n",
       "      <td>0.9992</td>\n",
       "      <td>0.9987</td>\n",
       "      <td>0.9989</td>\n",
       "    </tr>\n",
       "    <tr>\n",
       "      <th>MultinomialNB</th>\n",
       "      <td>0.9570</td>\n",
       "      <td>0.9950</td>\n",
       "      <td>0.9968</td>\n",
       "      <td>0.9965</td>\n",
       "      <td>0.9951</td>\n",
       "      <td>0.9976</td>\n",
       "      <td>0.9978</td>\n",
       "      <td>0.9908</td>\n",
       "    </tr>\n",
       "    <tr>\n",
       "      <th>DecisionTree</th>\n",
       "      <td>0.9939</td>\n",
       "      <td>0.0000</td>\n",
       "      <td>0.0000</td>\n",
       "      <td>0.0000</td>\n",
       "      <td>0.0000</td>\n",
       "      <td>0.0000</td>\n",
       "      <td>0.0000</td>\n",
       "      <td>0.9939</td>\n",
       "    </tr>\n",
       "    <tr>\n",
       "      <th>SVM</th>\n",
       "      <td>0.9968</td>\n",
       "      <td>0.9985</td>\n",
       "      <td>0.9988</td>\n",
       "      <td>0.9982</td>\n",
       "      <td>0.9968</td>\n",
       "      <td>0.9982</td>\n",
       "      <td>0.9972</td>\n",
       "      <td>0.9978</td>\n",
       "    </tr>\n",
       "    <tr>\n",
       "      <th>SGD</th>\n",
       "      <td>0.9899</td>\n",
       "      <td>0.0000</td>\n",
       "      <td>0.0000</td>\n",
       "      <td>0.0000</td>\n",
       "      <td>0.0000</td>\n",
       "      <td>0.0000</td>\n",
       "      <td>0.0000</td>\n",
       "      <td>0.9899</td>\n",
       "    </tr>\n",
       "    <tr>\n",
       "      <th>Logistic</th>\n",
       "      <td>0.9915</td>\n",
       "      <td>0.9980</td>\n",
       "      <td>0.9988</td>\n",
       "      <td>0.9984</td>\n",
       "      <td>0.9979</td>\n",
       "      <td>0.9990</td>\n",
       "      <td>0.9988</td>\n",
       "      <td>0.9975</td>\n",
       "    </tr>\n",
       "    <tr>\n",
       "      <th>AdaBoostClassifier</th>\n",
       "      <td>0.9943</td>\n",
       "      <td>0.0000</td>\n",
       "      <td>0.0000</td>\n",
       "      <td>0.0000</td>\n",
       "      <td>0.0000</td>\n",
       "      <td>0.0000</td>\n",
       "      <td>0.0000</td>\n",
       "      <td>0.9943</td>\n",
       "    </tr>\n",
       "    <tr>\n",
       "      <th>Avg Classifier</th>\n",
       "      <td>0.9897</td>\n",
       "      <td>0.9976</td>\n",
       "      <td>0.9984</td>\n",
       "      <td>0.9979</td>\n",
       "      <td>0.9972</td>\n",
       "      <td>0.9985</td>\n",
       "      <td>0.9981</td>\n",
       "      <td>0.9949</td>\n",
       "    </tr>\n",
       "  </tbody>\n",
       "</table>\n",
       "</div>"
      ],
      "text/plain": [
       "                    custom  count 1grams  count 2grams  count 3grams  \\\n",
       "MLPClassifier       0.9960        0.0000        0.0000        0.0000   \n",
       "RandomForest        0.9983        0.9991        0.9991        0.9985   \n",
       "MultinomialNB       0.9570        0.9950        0.9968        0.9965   \n",
       "DecisionTree        0.9939        0.0000        0.0000        0.0000   \n",
       "SVM                 0.9968        0.9985        0.9988        0.9982   \n",
       "SGD                 0.9899        0.0000        0.0000        0.0000   \n",
       "Logistic            0.9915        0.9980        0.9988        0.9984   \n",
       "AdaBoostClassifier  0.9943        0.0000        0.0000        0.0000   \n",
       "Avg Classifier      0.9897        0.9976        0.9984        0.9979   \n",
       "\n",
       "                    tfidf 1grams  tfidf 2grams  tfidf 3grams  Avg Feature  \n",
       "MLPClassifier             0.0000        0.0000        0.0000       0.9960  \n",
       "RandomForest              0.9991        0.9992        0.9987       0.9989  \n",
       "MultinomialNB             0.9951        0.9976        0.9978       0.9908  \n",
       "DecisionTree              0.0000        0.0000        0.0000       0.9939  \n",
       "SVM                       0.9968        0.9982        0.9972       0.9978  \n",
       "SGD                       0.0000        0.0000        0.0000       0.9899  \n",
       "Logistic                  0.9979        0.9990        0.9988       0.9975  \n",
       "AdaBoostClassifier        0.0000        0.0000        0.0000       0.9943  \n",
       "Avg Classifier            0.9972        0.9985        0.9981       0.9949  "
      ]
     },
     "metadata": {},
     "output_type": "display_data"
    },
    {
     "data": {
      "image/png": "[encoded data removed]",
      "text/plain": [
       "<matplotlib.figure.Figure at 0x7ff187c8bf28>"
      ]
     },
     "metadata": {},
     "output_type": "display_data"
    }
   ],
   "source": [
    "def get_classifier_name(index):\n",
    "    '''\n",
    "    Returns the name of the classifier at the given index name\n",
    "    '''\n",
    "    return index.split()[len(index.split())-1]\n",
    "    \n",
    "#Group rows together using same classifier\n",
    "grouped = classifier_results.groupby(get_classifier_name)\n",
    "\n",
    "hist_df = pd.DataFrame(columns=['custom','count 1grams','count 2grams','count 3grams','tfidf 1grams','tfidf 2grams','tfidf 3grams'])\n",
    "\n",
    "for classifier, indices in grouped.groups.items():\n",
    "    \n",
    "    #Make a list of feature spaces\n",
    "    feature_spaces = indices.tolist()\n",
    "    feature_spaces = [feature_space.replace(classifier,'') for feature_space in feature_spaces]\n",
    "    feature_spaces = [feature_space.strip() for feature_space in feature_spaces]\n",
    "\n",
    "    #If no result exists, it will stay as 0\n",
    "    hist_df.loc[classifier] = {\n",
    "            'custom':0,\n",
    "            'count 1grams':0,\n",
    "            'count 2grams':0,\n",
    "            'count 3grams':0,\n",
    "            'tfidf 1grams':0,\n",
    "            'tfidf 2grams':0,\n",
    "            'tfidf 3grams':0\n",
    "    }\n",
    "    \n",
    "    #Extract F1-score from classifier_results to corrensponding entry in hist_df\n",
    "    for fs in feature_spaces:\n",
    "        hist_df[fs].loc[classifier] = classifier_results['F1-score'].loc[fs + ' ' + classifier]\n",
    "        \n",
    "\n",
    "#Plot the bar plot\n",
    "f, ax = plt.subplots()\n",
    "ax.set_ylim([0.989,1])\n",
    "hist_df.plot(kind='bar', figsize=(12,7), title='F1-score of all models grouped by classifiers', ax=ax, width=0.8)\n",
    "\n",
    "\n",
    "#Make Avgerage F1-score row and cols for the table and print the table\n",
    "hist_df_nonzero = hist_df.copy()\n",
    "hist_df_nonzero[hist_df > 0] = True\n",
    "hist_df['Avg Feature'] = (hist_df.sum(axis=1) / np.array(hist_df_nonzero.sum(axis=1)))\n",
    "hist_df_nonzero = hist_df.copy()\n",
    "hist_df_nonzero[hist_df > 0] = True\n",
    "hist_df.loc['Avg Classifier'] = (hist_df.sum(axis=0) / np.array(hist_df_nonzero.sum(axis=0)))\n",
    "hist_df = hist_df.round(4)\n",
    "display(hist_df)\n"
   ]
  },
  {
   "cell_type": "markdown",
   "metadata": {},
   "source": [
    "### Learning curves\n",
    "Create learning curves for a sample of classifiers. This is to visualize how the dataset size impacts the performance"
   ]
  },
  {
   "cell_type": "code",
   "execution_count": 44,
   "metadata": {
    "collapsed": true
   },
   "outputs": [],
   "source": [
    "def plot_learning_curve(df_row,X,Y):\n",
    "    '''Plots the learning curve of a classifier with its parameters\n",
    "    \n",
    "    input - df_row: row of classifier_result\n",
    "            X: payload data\n",
    "            Y: labels\n",
    "    '''\n",
    "    #The classifier to plot learning curve for\n",
    "    estimator = df_row['model']\n",
    "    \n",
    "    title = 'Learning curves for classifier ' + df_row.name\n",
    "    train_sizes = np.linspace(0.1,1.0,5)\n",
    "    cv = ShuffleSplit(n=len(X), n_iter=3, test_size=0.2, random_state=0)\n",
    "    \n",
    "    #plot settings\n",
    "    plt.figure()\n",
    "    plt.title(title)\n",
    "    plt.xlabel(\"Training examples\")\n",
    "    plt.ylabel(\"Score\")\n",
    "    \n",
    "    print('learning curve in process...')\n",
    "    train_sizes, train_scores, test_scores = learning_curve(\n",
    "        estimator, X, Y, cv=cv, n_jobs=-1, train_sizes=train_sizes, verbose=0) #Change verbose=10 to print progress\n",
    "    print('Learning curve done!')\n",
    "    \n",
    "    train_scores_mean = np.mean(train_scores, axis=1)\n",
    "    train_scores_std = np.std(train_scores, axis=1)\n",
    "    test_scores_mean = np.mean(test_scores, axis=1)\n",
    "    test_scores_std = np.std(test_scores, axis=1)\n",
    "    plt.grid()\n",
    "\n",
    "    plt.fill_between(train_sizes, train_scores_mean - train_scores_std,\n",
    "                     train_scores_mean + train_scores_std, alpha=0.1,\n",
    "                     color=\"r\")\n",
    "    plt.fill_between(train_sizes, test_scores_mean - test_scores_std,\n",
    "                     test_scores_mean + test_scores_std, alpha=0.1, color=\"g\")\n",
    "    plt.plot(train_sizes, train_scores_mean, 'o-', color=\"r\",\n",
    "             label=\"Training score\")\n",
    "    plt.plot(train_sizes, test_scores_mean, 'o-', color=\"g\",\n",
    "             label=\"Cross-validation score\")\n",
    "\n",
    "    plt.legend(loc=\"best\")\n",
    "    plt.show()"
   ]
  },
  {
   "cell_type": "markdown",
   "metadata": {},
   "source": [
    "Three examples of learning curves from the trained classifiers.  \n",
    "All learning curves have upsloping cross-validation score at the end,  \n",
    "which means that adding more data would potentially increase the accuracy"
   ]
  },
  {
   "cell_type": "code",
   "execution_count": 45,
   "metadata": {},
   "outputs": [
    {
     "name": "stdout",
     "output_type": "stream",
     "text": [
      "learning curve in process...\n",
      "Learning curve done!\n"
     ]
    },
    {
     "data": {
      "image/png": "[encoded data removed]",
      "text/plain": [
       "<matplotlib.figure.Figure at 0x7f155916e550>"
      ]
     },
     "metadata": {},
     "output_type": "display_data"
    },
    {
     "name": "stdout",
     "output_type": "stream",
     "text": [
      "learning curve in process...\n",
      "Learning curve done!\n"
     ]
    },
    {
     "data": {
      "image/png": "[encoded data removed]",
      "text/plain": [
       "<matplotlib.figure.Figure at 0x7f1558423e48>"
      ]
     },
     "metadata": {},
     "output_type": "display_data"
    },
    {
     "name": "stdout",
     "output_type": "stream",
     "text": [
      "learning curve in process...\n",
      "Learning curve done!\n"
     ]
    },
    {
     "data": {
      "image/png": "[encoded data removed]",
      "text/plain": [
       "<matplotlib.figure.Figure at 0x7f155e4db8d0>"
      ]
     },
     "metadata": {},
     "output_type": "display_data"
    }
   ],
   "source": [
    "#plot learning curve for tfidf 1grams RandomForest\n",
    "X = payloads['payload']\n",
    "Y = payloads['is_malicious']\n",
    "plot_learning_curve(classifier_results.iloc[0],X,Y)\n",
    "\n",
    "#plot learning curve for count 3grams MultinomialNB\n",
    "X = payloads['payload']\n",
    "Y = payloads['is_malicious']\n",
    "plot_learning_curve(classifier_results.iloc[6],X,Y)\n",
    "\n",
    "#plot learning curve for custom svm\n",
    "X = create_features(pd.DataFrame(payloads['payload'].copy()))\n",
    "Y = payloads['is_malicious']\n",
    "plot_learning_curve(classifier_results.iloc[5],X,Y)\n"
   ]
  },
  {
   "cell_type": "markdown",
   "metadata": {},
   "source": [
    "### ROC curves\n",
    "Plot ROC curves for a range of classifiers to visualize the sensitivity/specificity trade-off and the AUC"
   ]
  },
  {
   "cell_type": "code",
   "execution_count": 240,
   "metadata": {
    "collapsed": true
   },
   "outputs": [],
   "source": [
    "def visualize_result(classifier_list):\n",
    "    '''Plot the ROC curve for a list of classifiers in the same graph\n",
    "    \n",
    "    input - classifier_list: a subset of classifier_results\n",
    "    '''\n",
    "\n",
    "    f, (ax1, ax2) = plt.subplots(1,2)\n",
    "    f.set_figheight(6)\n",
    "    f.set_figwidth(15)\n",
    "    \n",
    "    #Subplot 1, ROC curve\n",
    "    for classifier in classifier_list:\n",
    "        ax1.plot(classifier['roc']['fpr'], classifier['roc']['tpr'])\n",
    "        ax1.scatter(1-classifier['specificity'],classifier['sensitivity'], edgecolor='k')\n",
    "    ax1.set_xlim([0, 1])\n",
    "    ax1.set_ylim([0, 1.0])\n",
    "    ax1.set_title('ROC curve for top3 and bottom3 classifiers')\n",
    "    ax1.set_xlabel('False Positive Rate (1 - Specificity)')\n",
    "    ax1.set_ylabel('True Positive Rate (Sensitivity)')\n",
    "    ax1.grid(True)\n",
    "    \n",
    "    #subplot 2, ROC curve zoomed\n",
    "    for classifier in classifier_list:\n",
    "        ax2.plot(classifier['roc']['fpr'], classifier['roc']['tpr'])\n",
    "        ax2.scatter(1-classifier['specificity'],classifier['sensitivity'], edgecolor='k')\n",
    "    ax2.set_xlim([0, 0.3])\n",
    "    ax2.set_ylim([0.85, 1.0])\n",
    "    ax2.set_title('ROC curve for top3 and bottom3 classifiers (Zoomed)')\n",
    "    ax2.set_xlabel('False Positive Rate (1 - Specificity)')\n",
    "    ax2.set_ylabel('True Positive Rate (Sensitivity)')\n",
    "    ax2.grid(True)\n",
    "    \n",
    "    #Add further zoom\n",
    "    left, bottom, width, height = [0.7, 0.27, 0.15, 0.15]\n",
    "    ax3 = f.add_axes([left, bottom, width, height])\n",
    "    \n",
    "    for classifier in classifier_list:\n",
    "        ax3.plot(classifier['roc']['fpr'], classifier['roc']['tpr'])\n",
    "        ax3.scatter(1-classifier['specificity'],classifier['sensitivity'], edgecolor='k')\n",
    "        \n",
    "    ax3.set_xlim([0, 0.002])\n",
    "    ax3.set_ylim([0.983, 1.0])\n",
    "    ax3.set_title('Zoomed even further')\n",
    "    ax3.grid(True)\n",
    "    plt.show()\n",
    "    "
   ]
  },
  {
   "cell_type": "markdown",
   "metadata": {},
   "source": [
    "Plot ROC curves for the top3 classifiers and the bottom 3 classifiers, sorted by F1-score  \n",
    "Left: standard scale ROC curve \n",
    "Right: zoomed in version of same graph, to easier see in the upper right corner"
   ]
  },
  {
   "cell_type": "code",
   "execution_count": 241,
   "metadata": {},
   "outputs": [
    {
     "data": {
      "image/png": "[encoded data removed]",
      "text/plain": [
       "<matplotlib.figure.Figure at 0x7ff18c27d278>"
      ]
     },
     "metadata": {},
     "output_type": "display_data"
    }
   ],
   "source": [
    "indices = [0,1,2, len(classifier_results)-1,len(classifier_results)-2,len(classifier_results)-3]\n",
    "visualize_result([classifier_results.iloc[index] for index in indices])"
   ]
  },
  {
   "cell_type": "markdown",
   "metadata": {},
   "source": [
    "## Step6 - Website integration extract\n",
    "This is the code needed when implementing the saved classifier in tfidf_2grams_randomforest.p on a server"
   ]
  },
  {
   "cell_type": "code",
   "execution_count": 16,
   "metadata": {
    "collapsed": true
   },
   "outputs": [],
   "source": [
    "import pickle\n",
    "from sklearn.feature_extraction.text import TfidfVectorizer\n",
    "from sklearn.ensemble import RandomForestClassifier\n",
    "\n",
    "def get2Grams(payload_obj):\n",
    "    '''Divides a string into 2-grams\n",
    "    \n",
    "    Example: input - payload: \"<script>\"\n",
    "             output- [\"<s\",\"sc\",\"cr\",\"ri\",\"ip\",\"pt\",\"t>\"]\n",
    "    '''\n",
    "    payload = str(payload_obj)\n",
    "    ngrams = []\n",
    "    for i in range(0,len(payload)-2):\n",
    "        ngrams.append(payload[i:i+2])\n",
    "    return ngrams\n",
    "\n",
    "classifier = pickle.load( open(\"data/tfidf_2grams_randomforest.p\", \"rb\"))\n",
    "\n",
    "def injection_test(inputs):\n",
    "    variables = inputs.split('&')\n",
    "    values = [ variable.split('=')[1] for variable in variables]\n",
    "    print(values)\n",
    "    return 'MALICIOUS' if classifier.predict(values).sum() > 0 else 'NOT_MALICIOUS'\n"
   ]
  },
  {
   "cell_type": "code",
   "execution_count": 24,
   "metadata": {},
   "outputs": [
    {
     "name": "stdout",
     "output_type": "stream",
     "text": [
      "['%3Cscript%3Ekiddie']\n"
     ]
    },
    {
     "data": {
      "text/plain": [
       "'MALICIOUS'"
      ]
     },
     "metadata": {},
     "output_type": "display_data"
    }
   ],
   "source": [
    "#test injection_test\n",
    "display(injection_test(\"val1=%3Cscript%3Ekiddie\"))"
   ]
  },
  {
   "cell_type": "markdown",
   "metadata": {},
   "source": [
    "# (Step7)\n",
    "we can display which types of queries the classifiers failed to classify. These are interesting to examine for further work on how to improve the classifiers and the quality of the data set"
   ]
  },
  {
   "cell_type": "code",
   "execution_count": 38,
   "metadata": {},
   "outputs": [
    {
     "data": {
      "text/plain": [
       "index\n",
       "28660    dojo.io.script.jsonp_dojoIoScript60693._jsonpC...\n",
       "17914                                      127.0.0.1 | id|\n",
       "Name: payload, dtype: object"
      ]
     },
     "metadata": {},
     "output_type": "display_data"
    }
   ],
   "source": [
    "pipe = Pipeline([('vect', vectorizer), ('clf',LogisticRegression(C=10))])\n",
    "X_train, X_test, Y_train, Y_test = train_test_split(X, Y, test_size=0.2, random_state=42)\n",
    "\n",
    "cv = ShuffleSplit(n=len(X_train), n_iter=1, test_size=0.2, random_state=0) #DEBUG: n_iter=10\n",
    "\n",
    "random_grid_search = RandomizedSearchCV(\n",
    "    pipe, \n",
    "    param_distributions={\n",
    "        'clf__C':[10]\n",
    "    },\n",
    "    cv=cv, \n",
    "    scoring='roc_auc', \n",
    "    n_iter=1, \n",
    "    random_state=5,\n",
    "    refit=True\n",
    ")\n",
    "random_grid_search.fit(X_train, Y_train)\n",
    "\n",
    "#Evaluate the best model on the test data\n",
    "Y_test_predicted = random_grid_search.best_estimator_.predict(X_test)\n"
   ]
  },
  {
   "cell_type": "code",
   "execution_count": 45,
   "metadata": {
    "scrolled": false
   },
   "outputs": [
    {
     "name": "stdout",
     "output_type": "stream",
     "text": [
      "False positives\n",
      "index\n",
      "28660    dojo.io.script.jsonp_dojoIoScript60693._jsonpCallback\n",
      "17914                                          127.0.0.1 | id|\n",
      "Name: payload, dtype: object\n",
      "False negatives\n",
      "index\n",
      "8224                                                                                                                                                    '<'s'v'g' o'n'l'o'a'd'='a'l'e'r't'('7')' '>'\n",
      "250                                                                                                                                                                b'<? popen($_REQUEST[\"c4\"]); ?> '\n",
      "9145                                                                                                                                                                       > XSS | Replacive Fuzzers\n",
      "10000                                                                                                                                                                                           ;id;\n",
      "9817                                                                                                                                                                                     &i=WmYmMm28\n",
      "27166                                                                                                                                                   'create user name identified by 'pass123' --\n",
      "24783                                                                                                                                                         <!--#config timefmt=\"A %B %d %Y %r\"-->\n",
      "22368                                                                                                                                                                                 b'123+1+5-5-1'\n",
      "22836                                                                                            b'<x repeat=\"template\" repeat-start=\"999999\">0<y repeat=\"template\" repeat-start=\"999999\">1</y></x>'\n",
      "4745                                                                                                                                                                                        Data URl\n",
      "6120                                                                                                                                                                  '><object/data=//goo.gl/nlX0P>\n",
      "10145                                                                                                                                                                                   'aaa'<>'bbb'\n",
      "14920                                                                                                                                                                                            %3C\n",
      "29705                                                                                                                                                                                    <plaintext>\n",
      "2951                                                                                                               http://raw.githubusercontent.com/fuzzdb-project/fuzzdb/master/attack/xss/test.xxe\n",
      "6405                                                                                                                                                                         %2e%2e%2f%2e%2e%2ffile'\n",
      "7653       %3Cs%26%2399%3B%26%23114%3Bi%26%23112%3Bt%20s%26%23114%3B%26%2399%3B%3Dht%26%23116%3Bp%3A%2F%2Fx%26%23116%3Bxs%26%2399%3B.cx%2Fxss%2Ejs%3E%3C%2Fs%26%2399%3B%26%23114%3Bi%26%23112%3Bt%3E\n",
      "7031                                                                                                                                                               /%2e%2e%5c%2e%2e%5c%2e%2e%5cfile'\n",
      "1050                                                                                                                                                                                           &p=37\n",
      "11332                                                                                                                                 Redirect 302 /a.jpg http://victimsite.com/admin.asp&deleteuser\n",
      "19084                                                                                                                                                                        ' if(2=2,1,SLEEP(5))--+\n",
      "3452                                                                                                                                                                                        admin\"/*\n",
      "1175                                                                                                                                                                                           <%%%>\n",
      "14686                                                                                                                                                                         b'123K29yKycxJz0nMQ=='\n",
      "9793                                                                                                                                                                                    <x o%6Exxx=1\n",
      "14118    &action=install&name=Offline%20Mail&message=Hi,%20Reddit&icon_src=http%3A%2F%2Fmail.google.com%2Fmail%2Fimages%2F2%2Fmail_icon_48.png&return=https%3A%2F%2Fmail.google.com%2Fmail%2F%23lsci\n",
      "25462                                                                                                                                                           <!--#include file=?UUUUUUUU...UU?-->\n",
      "21118                                                                                                                                            < s c r i p t > p r o m p t ( 1 ) < / s c r i p t >\n",
      "8820                                                                                                                                                                                  1'OR'121'='121\n",
      "12363                                                                                                                                                                       & ping -i 30 127.0.0.1 &\n",
      "6242                                                                                                                                                                String.fromCharCode(0xffff+0x3d)\n",
      "7840                                                                                                                                                                                          admin'\n",
      "16861                                                                                                                                                                                    \"onblur<='`\n",
      "25533                                                                                                                                                                                    b'exec(@s)'\n",
      "24424                                                                                                                                                                                         %2A%7C\n",
      "7475                                                                                                                                    eval((_=!0+(()=>0)+!1)[10]+_[11]+_[3]+_[1]+_[0]+_[4]+1+_[5])\n",
      "Name: payload, dtype: object\n"
     ]
    }
   ],
   "source": [
    "#Payloads classified incorrectly\n",
    "pd.options.display.max_colwidth = 200\n",
    "print('False positives')\n",
    "print(X_test[(Y_test == 0) & (Y_test_predicted == 1)])\n",
    "print('False negatives')\n",
    "print(X_test[(Y_test == 1) & (Y_test_predicted == 0)])"
   ]
  }
 ],
 "metadata": {
  "kernelspec": {
   "display_name": "Python 3 (ipykernel)",
   "language": "python",
   "name": "python3"
  },
  "language_info": {
   "codemirror_mode": {
    "name": "ipython",
    "version": 3
   },
   "file_extension": ".py",
   "mimetype": "text/x-python",
   "name": "python",
   "nbconvert_exporter": "python",
   "pygments_lexer": "ipython3",
   "version": "3.9.12"
  },
  "vscode": {
   "interpreter": {
    "hash": "4d3c533a216d54cd40f6223a18468e9c67db4c14d5ef7f9e5f26ce73717492fa"
   }
  }
 },
 "nbformat": 4,
 "nbformat_minor": 2
}
